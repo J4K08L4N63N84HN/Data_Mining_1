{
 "cells": [
  {
   "cell_type": "code",
   "execution_count": 1,
   "metadata": {},
   "outputs": [],
   "source": [
    "import pandas as pd\n",
    "import matplotlib.pyplot as plt\n",
    "import numpy as np\n",
    "from scipy import stats\n",
    "from collections import Counter \n",
    "import nltk\n",
    "from nltk.corpus import stopwords\n",
    "from datetime import datetime, timedelta"
   ]
  },
  {
   "cell_type": "code",
   "execution_count": 2,
   "metadata": {},
   "outputs": [],
   "source": [
    "data = pd.read_json(\"data.json\")"
   ]
  },
  {
   "cell_type": "code",
   "execution_count": 3,
   "metadata": {},
   "outputs": [
    {
     "data": {
      "text/html": [
       "<div>\n",
       "<style scoped>\n",
       "    .dataframe tbody tr th:only-of-type {\n",
       "        vertical-align: middle;\n",
       "    }\n",
       "\n",
       "    .dataframe tbody tr th {\n",
       "        vertical-align: top;\n",
       "    }\n",
       "\n",
       "    .dataframe thead th {\n",
       "        text-align: right;\n",
       "    }\n",
       "</style>\n",
       "<table border=\"1\" class=\"dataframe\">\n",
       "  <thead>\n",
       "    <tr style=\"text-align: right;\">\n",
       "      <th></th>\n",
       "      <th>source</th>\n",
       "      <th>text</th>\n",
       "      <th>created_at</th>\n",
       "      <th>retweet_count</th>\n",
       "      <th>id_str</th>\n",
       "    </tr>\n",
       "  </thead>\n",
       "  <tbody>\n",
       "    <tr>\n",
       "      <td>0</td>\n",
       "      <td>Twitter for iPhone</td>\n",
       "      <td>White House news conference at 5:00 P.M. Easte...</td>\n",
       "      <td>2020-03-30 20:50:35+00:00</td>\n",
       "      <td>14441</td>\n",
       "      <td>1244728753617620992</td>\n",
       "    </tr>\n",
       "    <tr>\n",
       "      <td>1</td>\n",
       "      <td>Twitter for iPhone</td>\n",
       "      <td>https://t.co/2hKJkP5Z6N</td>\n",
       "      <td>2020-03-30 17:46:15+00:00</td>\n",
       "      <td>15520</td>\n",
       "      <td>1244682364284014592</td>\n",
       "    </tr>\n",
       "    <tr>\n",
       "      <td>2</td>\n",
       "      <td>Twitter for iPhone</td>\n",
       "      <td>On #NationalDoctorsDay, we recognize the remar...</td>\n",
       "      <td>2020-03-30 17:11:59+00:00</td>\n",
       "      <td>19753</td>\n",
       "      <td>1244673740866191360</td>\n",
       "    </tr>\n",
       "    <tr>\n",
       "      <td>3</td>\n",
       "      <td>Twitter for iPhone</td>\n",
       "      <td>https://t.co/nzWJ8ViwbZ</td>\n",
       "      <td>2020-03-30 17:05:33+00:00</td>\n",
       "      <td>39114</td>\n",
       "      <td>1244672122414338048</td>\n",
       "    </tr>\n",
       "    <tr>\n",
       "      <td>4</td>\n",
       "      <td>Twitter for iPhone</td>\n",
       "      <td>Nancy Pelosi and the Democrats delayed the Wor...</td>\n",
       "      <td>2020-03-30 11:17:10+00:00</td>\n",
       "      <td>43360</td>\n",
       "      <td>1244584449309892608</td>\n",
       "    </tr>\n",
       "  </tbody>\n",
       "</table>\n",
       "</div>"
      ],
      "text/plain": [
       "               source                                               text  \\\n",
       "0  Twitter for iPhone  White House news conference at 5:00 P.M. Easte...   \n",
       "1  Twitter for iPhone                            https://t.co/2hKJkP5Z6N   \n",
       "2  Twitter for iPhone  On #NationalDoctorsDay, we recognize the remar...   \n",
       "3  Twitter for iPhone                            https://t.co/nzWJ8ViwbZ   \n",
       "4  Twitter for iPhone  Nancy Pelosi and the Democrats delayed the Wor...   \n",
       "\n",
       "                 created_at  retweet_count               id_str  \n",
       "0 2020-03-30 20:50:35+00:00          14441  1244728753617620992  \n",
       "1 2020-03-30 17:46:15+00:00          15520  1244682364284014592  \n",
       "2 2020-03-30 17:11:59+00:00          19753  1244673740866191360  \n",
       "3 2020-03-30 17:05:33+00:00          39114  1244672122414338048  \n",
       "4 2020-03-30 11:17:10+00:00          43360  1244584449309892608  "
      ]
     },
     "execution_count": 3,
     "metadata": {},
     "output_type": "execute_result"
    }
   ],
   "source": [
    "data.head()"
   ]
  },
  {
   "cell_type": "code",
   "execution_count": 4,
   "metadata": {},
   "outputs": [
    {
     "name": "stdout",
     "output_type": "stream",
     "text": [
      "We have 13427 tweets.\n",
      "\n",
      "Check if we have Null values:\n",
      "source           13427\n",
      "text             13427\n",
      "created_at       13427\n",
      "retweet_count    13427\n",
      "id_str           13427\n",
      "dtype: int64\n"
     ]
    }
   ],
   "source": [
    "print(\"We have {} tweets.\".format(data.shape[0]))\n",
    "print(\"\\nCheck if we have Null values:\")\n",
    "print(data.count())"
   ]
  },
  {
   "cell_type": "code",
   "execution_count": 5,
   "metadata": {},
   "outputs": [
    {
     "data": {
      "image/png": "[encoded data removed]",
      "text/plain": [
       "<Figure size 432x288 with 1 Axes>"
      ]
     },
     "metadata": {
      "needs_background": "light"
     },
     "output_type": "display_data"
    }
   ],
   "source": [
    "data['hour'] = data[\"created_at\"].dt.hour\n",
    "hour_count = data[\"hour\"].value_counts().sort_index()\n",
    "plt.scatter(hour_count.index, hour_count.values)\n",
    "plt.plot(hour_count.index, hour_count.values)\n",
    "plt.xlabel('Hour', fontsize=18)\n",
    "plt.ylabel('Count', fontsize=16)\n",
    "plt.show()"
   ]
  },
  {
   "cell_type": "markdown",
   "metadata": {},
   "source": [
    "Interestingly there is a peak at 10pm and 0 - 1 am. Lets find out:"
   ]
  },
  {
   "cell_type": "code",
   "execution_count": 6,
   "metadata": {},
   "outputs": [
    {
     "data": {
      "text/html": [
       "<div>\n",
       "<style scoped>\n",
       "    .dataframe tbody tr th:only-of-type {\n",
       "        vertical-align: middle;\n",
       "    }\n",
       "\n",
       "    .dataframe tbody tr th {\n",
       "        vertical-align: top;\n",
       "    }\n",
       "\n",
       "    .dataframe thead th {\n",
       "        text-align: right;\n",
       "    }\n",
       "</style>\n",
       "<table border=\"1\" class=\"dataframe\">\n",
       "  <thead>\n",
       "    <tr style=\"text-align: right;\">\n",
       "      <th></th>\n",
       "      <th>source</th>\n",
       "      <th>text</th>\n",
       "      <th>created_at</th>\n",
       "      <th>retweet_count</th>\n",
       "      <th>id_str</th>\n",
       "      <th>hour</th>\n",
       "    </tr>\n",
       "  </thead>\n",
       "  <tbody>\n",
       "    <tr>\n",
       "      <td>25</td>\n",
       "      <td>Twitter for iPhone</td>\n",
       "      <td>....Federal Government. A quarantine will not ...</td>\n",
       "      <td>2020-03-29 00:19:31+00:00</td>\n",
       "      <td>16651</td>\n",
       "      <td>1244056559577071616</td>\n",
       "      <td>0</td>\n",
       "    </tr>\n",
       "    <tr>\n",
       "      <td>26</td>\n",
       "      <td>Twitter for iPhone</td>\n",
       "      <td>On the recommendation of the White House Coron...</td>\n",
       "      <td>2020-03-29 00:19:25+00:00</td>\n",
       "      <td>23918</td>\n",
       "      <td>1244056534583312384</td>\n",
       "      <td>0</td>\n",
       "    </tr>\n",
       "    <tr>\n",
       "      <td>41</td>\n",
       "      <td>Twitter for iPhone</td>\n",
       "      <td>I love Michigan, one of the reasons we are doi...</td>\n",
       "      <td>2020-03-28 01:24:32+00:00</td>\n",
       "      <td>10235</td>\n",
       "      <td>1243710532714192896</td>\n",
       "      <td>1</td>\n",
       "    </tr>\n",
       "    <tr>\n",
       "      <td>42</td>\n",
       "      <td>Twitter for iPhone</td>\n",
       "      <td>She is a third rate reporter who has nothing g...</td>\n",
       "      <td>2020-03-28 01:05:07+00:00</td>\n",
       "      <td>17378</td>\n",
       "      <td>1243705647192997888</td>\n",
       "      <td>1</td>\n",
       "    </tr>\n",
       "    <tr>\n",
       "      <td>61</td>\n",
       "      <td>Twitter for iPhone</td>\n",
       "      <td>Will be interviewed on @seanhannity at 9:10 P....</td>\n",
       "      <td>2020-03-27 01:05:59+00:00</td>\n",
       "      <td>7419</td>\n",
       "      <td>1243343475799719936</td>\n",
       "      <td>1</td>\n",
       "    </tr>\n",
       "  </tbody>\n",
       "</table>\n",
       "</div>"
      ],
      "text/plain": [
       "                source                                               text  \\\n",
       "25  Twitter for iPhone  ....Federal Government. A quarantine will not ...   \n",
       "26  Twitter for iPhone  On the recommendation of the White House Coron...   \n",
       "41  Twitter for iPhone  I love Michigan, one of the reasons we are doi...   \n",
       "42  Twitter for iPhone  She is a third rate reporter who has nothing g...   \n",
       "61  Twitter for iPhone  Will be interviewed on @seanhannity at 9:10 P....   \n",
       "\n",
       "                  created_at  retweet_count               id_str  hour  \n",
       "25 2020-03-29 00:19:31+00:00          16651  1244056559577071616     0  \n",
       "26 2020-03-29 00:19:25+00:00          23918  1244056534583312384     0  \n",
       "41 2020-03-28 01:24:32+00:00          10235  1243710532714192896     1  \n",
       "42 2020-03-28 01:05:07+00:00          17378  1243705647192997888     1  \n",
       "61 2020-03-27 01:05:59+00:00           7419  1243343475799719936     1  "
      ]
     },
     "execution_count": 6,
     "metadata": {},
     "output_type": "execute_result"
    }
   ],
   "source": [
    "data_3 = data[(data[\"hour\"] >= 0) & (data[\"hour\"] <= 1)]\n",
    "data_3.head()"
   ]
  },
  {
   "cell_type": "markdown",
   "metadata": {},
   "source": [
    "The time zone is +00. Lets change it to -5 (eastern time zone, washington)."
   ]
  },
  {
   "cell_type": "code",
   "execution_count": 7,
   "metadata": {},
   "outputs": [
    {
     "data": {
      "image/png": "[encoded data removed]",
      "text/plain": [
       "<Figure size 432x288 with 1 Axes>"
      ]
     },
     "metadata": {
      "needs_background": "light"
     },
     "output_type": "display_data"
    }
   ],
   "source": [
    "data['created_at_et'] = pd.DatetimeIndex(data['created_at']).tz_convert('US/Central')\n",
    "data[\"hour_et\"] = data[\"created_at_et\"].dt.hour\n",
    "hour_count_et = data[\"hour_et\"].value_counts().sort_index()\n",
    "plt.scatter(hour_count_et.index, hour_count_et.values)\n",
    "plt.plot(hour_count_et.index, hour_count_et.values)\n",
    "plt.xticks(np.arange(min(hour_count_et.index) , max(hour_count_et.index)+1, 1.0))\n",
    "plt.xlabel('Hour (Eastern Time Zone)', fontsize=18)\n",
    "plt.ylabel('Count', fontsize=16)\n",
    "plt.show()"
   ]
  },
  {
   "cell_type": "code",
   "execution_count": 8,
   "metadata": {},
   "outputs": [
    {
     "data": {
      "image/png": "[encoded data removed]",
      "text/plain": [
       "<Figure size 432x288 with 1 Axes>"
      ]
     },
     "metadata": {
      "needs_background": "light"
     },
     "output_type": "display_data"
    }
   ],
   "source": [
    "\n",
    "hour_median = data.loc[:, [\"retweet_count\", \"hour_et\"]].groupby(['hour_et']).median()\n",
    "#print(hour_median)\n",
    "plt.scatter(data['hour_et'], data[\"retweet_count\"])\n",
    "plt.scatter(hour_median.index, hour_median.loc[:,\"retweet_count\"], c='red')\n",
    "plt.xlabel('Hour (Eastern Time Zone)', fontsize=18)\n",
    "plt.ylabel('Retweets', fontsize=16)\n",
    "plt.show()\n"
   ]
  },
  {
   "cell_type": "markdown",
   "metadata": {},
   "source": [
    "Indicates that the hour of time does not matter for predicting retweets."
   ]
  },
  {
   "cell_type": "code",
   "execution_count": 9,
   "metadata": {},
   "outputs": [
    {
     "data": {
      "image/png": "[encoded data removed]",
      "text/plain": [
       "<Figure size 432x288 with 1 Axes>"
      ]
     },
     "metadata": {
      "needs_background": "light"
     },
     "output_type": "display_data"
    }
   ],
   "source": [
    "\n",
    "plt.scatter(hour_median.index, hour_median.loc[:,\"retweet_count\"])\n",
    "plt.xlabel('Hour (Eastern Time Zone)', fontsize=16)\n",
    "plt.ylabel('Retweets', fontsize=16)\n",
    "plt.xticks(np.arange(min(hour_median.index) , max(hour_median.index)+1, 1.0))\n",
    "plt.plot(hour_median.index, hour_median.loc[:,\"retweet_count\"])\n",
    "plt.show()"
   ]
  },
  {
   "cell_type": "code",
   "execution_count": 10,
   "metadata": {},
   "outputs": [
    {
     "data": {
      "image/png": "[encoded data removed]",
      "text/plain": [
       "<Figure size 432x288 with 1 Axes>"
      ]
     },
     "metadata": {
      "needs_background": "light"
     },
     "output_type": "display_data"
    }
   ],
   "source": [
    "data['month'] = data[\"created_at\"].dt.month\n",
    "month_median = data.loc[:, [\"retweet_count\", \"month\"]].groupby(['month']).median()\n",
    "#print(hour_median)\n",
    "plt.scatter(data['month'], data[\"retweet_count\"])\n",
    "plt.scatter(month_median.index, month_median.loc[:,\"retweet_count\"], c='red')\n",
    "plt.xlabel('Month', fontsize=18)\n",
    "plt.ylabel('Retweets', fontsize=16)\n",
    "plt.xticks(np.arange(min(month_median.index) , max(month_median.index)+1, 1.0))\n",
    "plt.show()"
   ]
  },
  {
   "cell_type": "markdown",
   "metadata": {},
   "source": [
    "Indicates that the month of time does not matter for predicting retweets."
   ]
  },
  {
   "cell_type": "code",
   "execution_count": 11,
   "metadata": {},
   "outputs": [
    {
     "data": {
      "image/png": "[encoded data removed]",
      "text/plain": [
       "<Figure size 432x288 with 1 Axes>"
      ]
     },
     "metadata": {
      "needs_background": "light"
     },
     "output_type": "display_data"
    }
   ],
   "source": [
    "plt.hist(data[\"retweet_count\"], bins = 100)\n",
    "plt.xlabel('Retweets', fontsize=16)\n",
    "plt.ylabel('Count', fontsize=16)\n",
    "plt.show()"
   ]
  },
  {
   "cell_type": "code",
   "execution_count": 12,
   "metadata": {},
   "outputs": [
    {
     "name": "stdout",
     "output_type": "stream",
     "text": [
      "Retweet Description:\n",
      " count     13427.000000\n",
      "mean      19149.517986\n",
      "std       12661.057625\n",
      "min           0.000000\n",
      "25%       11898.000000\n",
      "50%       17132.000000\n",
      "75%       23767.500000\n",
      "max      369530.000000\n",
      "Name: retweet_count, dtype: float64\n"
     ]
    },
    {
     "data": {
      "image/png": "[encoded data removed]",
      "text/plain": [
       "<Figure size 432x288 with 1 Axes>"
      ]
     },
     "metadata": {
      "needs_background": "light"
     },
     "output_type": "display_data"
    }
   ],
   "source": [
    "data_2 = data[data[\"retweet_count\"] < 70000].loc[:, \"retweet_count\"]\n",
    "print(\"Retweet Description:\\n\", data.loc[:, \"retweet_count\"].describe())\n",
    "plt.hist(data_2, bins = 100)\n",
    "plt.axvline(data_2.median(), color='k', linestyle='dashed', linewidth=1)\n",
    "plt.xlabel('Retweets', fontsize=16)\n",
    "plt.ylabel('Count', fontsize=16)\n",
    "plt.show()"
   ]
  },
  {
   "cell_type": "markdown",
   "metadata": {},
   "source": [
    "Typical retweet numbers lie between 10.000-20.000. Interestingly there are tweets that have 0 retweets. Lets take a look at tweets with low retweets."
   ]
  },
  {
   "cell_type": "code",
   "execution_count": 13,
   "metadata": {},
   "outputs": [
    {
     "data": {
      "text/html": [
       "<div>\n",
       "<style scoped>\n",
       "    .dataframe tbody tr th:only-of-type {\n",
       "        vertical-align: middle;\n",
       "    }\n",
       "\n",
       "    .dataframe tbody tr th {\n",
       "        vertical-align: top;\n",
       "    }\n",
       "\n",
       "    .dataframe thead th {\n",
       "        text-align: right;\n",
       "    }\n",
       "</style>\n",
       "<table border=\"1\" class=\"dataframe\">\n",
       "  <thead>\n",
       "    <tr style=\"text-align: right;\">\n",
       "      <th></th>\n",
       "      <th>source</th>\n",
       "      <th>text</th>\n",
       "      <th>created_at</th>\n",
       "      <th>retweet_count</th>\n",
       "      <th>id_str</th>\n",
       "      <th>hour</th>\n",
       "      <th>created_at_et</th>\n",
       "      <th>hour_et</th>\n",
       "      <th>month</th>\n",
       "    </tr>\n",
       "  </thead>\n",
       "  <tbody>\n",
       "    <tr>\n",
       "      <td>366</td>\n",
       "      <td>Twitter for iPhone</td>\n",
       "      <td>THANK YOU COLORADO! #KAG2020 https://t.co/a5xx...</td>\n",
       "      <td>2020-03-04 02:49:53+00:00</td>\n",
       "      <td>0</td>\n",
       "      <td>1235034700827283456</td>\n",
       "      <td>2</td>\n",
       "      <td>2020-03-03 20:49:53-06:00</td>\n",
       "      <td>20</td>\n",
       "      <td>3</td>\n",
       "    </tr>\n",
       "    <tr>\n",
       "      <td>784</td>\n",
       "      <td>Twitter for iPhone</td>\n",
       "      <td>“What Really Happened”</td>\n",
       "      <td>2020-02-06 03:28:01+00:00</td>\n",
       "      <td>0</td>\n",
       "      <td>1225259827062038528</td>\n",
       "      <td>3</td>\n",
       "      <td>2020-02-05 21:28:01-06:00</td>\n",
       "      <td>21</td>\n",
       "      <td>2</td>\n",
       "    </tr>\n",
       "    <tr>\n",
       "      <td>1124</td>\n",
       "      <td>Twitter for iPhone</td>\n",
       "      <td>Why should I have the stigma of Impeachment at...</td>\n",
       "      <td>2020-01-12 16:20:00+00:00</td>\n",
       "      <td>0</td>\n",
       "      <td>1216394407265669120</td>\n",
       "      <td>16</td>\n",
       "      <td>2020-01-12 10:20:00-06:00</td>\n",
       "      <td>10</td>\n",
       "      <td>1</td>\n",
       "    </tr>\n",
       "    <tr>\n",
       "      <td>1310</td>\n",
       "      <td>Twitter for iPhone</td>\n",
       "      <td>...&amp;amp; overwhelming,” but this Scam Impeachm...</td>\n",
       "      <td>2019-12-26 03:10:55+00:00</td>\n",
       "      <td>3</td>\n",
       "      <td>1210035231820058624</td>\n",
       "      <td>3</td>\n",
       "      <td>2019-12-25 21:10:55-06:00</td>\n",
       "      <td>21</td>\n",
       "      <td>12</td>\n",
       "    </tr>\n",
       "    <tr>\n",
       "      <td>1454</td>\n",
       "      <td>Twitter for iPhone</td>\n",
       "      <td>https://t.co/sDhHMivMPt</td>\n",
       "      <td>2019-12-16 05:29:54+00:00</td>\n",
       "      <td>4</td>\n",
       "      <td>1206446331675451392</td>\n",
       "      <td>5</td>\n",
       "      <td>2019-12-15 23:29:54-06:00</td>\n",
       "      <td>23</td>\n",
       "      <td>12</td>\n",
       "    </tr>\n",
       "    <tr>\n",
       "      <td>4628</td>\n",
       "      <td>Twitter for iPhone</td>\n",
       "      <td>RT @dualtech: #VoterFraud is real. We need #Vo...</td>\n",
       "      <td>2019-08-14 00:57:01+00:00</td>\n",
       "      <td>3</td>\n",
       "      <td>1161441560153743360</td>\n",
       "      <td>0</td>\n",
       "      <td>2019-08-13 19:57:01-05:00</td>\n",
       "      <td>19</td>\n",
       "      <td>8</td>\n",
       "    </tr>\n",
       "    <tr>\n",
       "      <td>4851</td>\n",
       "      <td>Twitter for iPhone</td>\n",
       "      <td>....I have directed the Secretary of the Navy ...</td>\n",
       "      <td>2019-07-31 19:56:43+00:00</td>\n",
       "      <td>3</td>\n",
       "      <td>1156654946944737280</td>\n",
       "      <td>19</td>\n",
       "      <td>2019-07-31 14:56:43-05:00</td>\n",
       "      <td>14</td>\n",
       "      <td>7</td>\n",
       "    </tr>\n",
       "    <tr>\n",
       "      <td>6988</td>\n",
       "      <td>Twitter for iPhone</td>\n",
       "      <td>Finally great news at the Border! https://t.co...</td>\n",
       "      <td>2019-04-13 02:38:54+00:00</td>\n",
       "      <td>3</td>\n",
       "      <td>1116893495460016128</td>\n",
       "      <td>2</td>\n",
       "      <td>2019-04-12 21:38:54-05:00</td>\n",
       "      <td>21</td>\n",
       "      <td>4</td>\n",
       "    </tr>\n",
       "    <tr>\n",
       "      <td>9231</td>\n",
       "      <td>Twitter for iPhone</td>\n",
       "      <td>The White House is running beautifully. We are...</td>\n",
       "      <td>2018-09-10 11:30:49+00:00</td>\n",
       "      <td>6</td>\n",
       "      <td>1039113964892966912</td>\n",
       "      <td>11</td>\n",
       "      <td>2018-09-10 06:30:49-05:00</td>\n",
       "      <td>6</td>\n",
       "      <td>9</td>\n",
       "    </tr>\n",
       "    <tr>\n",
       "      <td>10571</td>\n",
       "      <td>Twitter for iPhone</td>\n",
       "      <td>.@JimRenacci has worked so hard on Tax Reducti...</td>\n",
       "      <td>2018-04-24 19:05:40+00:00</td>\n",
       "      <td>8</td>\n",
       "      <td>988856517674889216</td>\n",
       "      <td>19</td>\n",
       "      <td>2018-04-24 14:05:40-05:00</td>\n",
       "      <td>14</td>\n",
       "      <td>4</td>\n",
       "    </tr>\n",
       "    <tr>\n",
       "      <td>13282</td>\n",
       "      <td>Twitter for Android</td>\n",
       "      <td>Playef golf today with Prime Minister Abe of J...</td>\n",
       "      <td>2017-02-11 23:07:52+00:00</td>\n",
       "      <td>8</td>\n",
       "      <td>830553970225590272</td>\n",
       "      <td>23</td>\n",
       "      <td>2017-02-11 17:07:52-06:00</td>\n",
       "      <td>17</td>\n",
       "      <td>2</td>\n",
       "    </tr>\n",
       "    <tr>\n",
       "      <td>13313</td>\n",
       "      <td>Twitter for Android</td>\n",
       "      <td>I don't know Putin, have no deals in Russia, a...</td>\n",
       "      <td>2017-02-07 12:04:01+00:00</td>\n",
       "      <td>2</td>\n",
       "      <td>828937357147635712</td>\n",
       "      <td>12</td>\n",
       "      <td>2017-02-07 06:04:01-06:00</td>\n",
       "      <td>6</td>\n",
       "      <td>2</td>\n",
       "    </tr>\n",
       "    <tr>\n",
       "      <td>13318</td>\n",
       "      <td>Twitter for Android</td>\n",
       "      <td>Will be interviewed on @oreillyfactor tonight ...</td>\n",
       "      <td>2017-02-06 16:27:45+00:00</td>\n",
       "      <td>6</td>\n",
       "      <td>828641340313460736</td>\n",
       "      <td>16</td>\n",
       "      <td>2017-02-06 10:27:45-06:00</td>\n",
       "      <td>10</td>\n",
       "      <td>2</td>\n",
       "    </tr>\n",
       "    <tr>\n",
       "      <td>13388</td>\n",
       "      <td>Twitter for iPhone</td>\n",
       "      <td>Spoke at the Congressional @GOP Retreat in Phi...</td>\n",
       "      <td>2017-01-26 19:15:44+00:00</td>\n",
       "      <td>9</td>\n",
       "      <td>824697349335293952</td>\n",
       "      <td>19</td>\n",
       "      <td>2017-01-26 13:15:44-06:00</td>\n",
       "      <td>13</td>\n",
       "      <td>1</td>\n",
       "    </tr>\n",
       "  </tbody>\n",
       "</table>\n",
       "</div>"
      ],
      "text/plain": [
       "                    source                                               text  \\\n",
       "366     Twitter for iPhone  THANK YOU COLORADO! #KAG2020 https://t.co/a5xx...   \n",
       "784     Twitter for iPhone                             “What Really Happened”   \n",
       "1124    Twitter for iPhone  Why should I have the stigma of Impeachment at...   \n",
       "1310    Twitter for iPhone  ...&amp; overwhelming,” but this Scam Impeachm...   \n",
       "1454    Twitter for iPhone                            https://t.co/sDhHMivMPt   \n",
       "4628    Twitter for iPhone  RT @dualtech: #VoterFraud is real. We need #Vo...   \n",
       "4851    Twitter for iPhone  ....I have directed the Secretary of the Navy ...   \n",
       "6988    Twitter for iPhone  Finally great news at the Border! https://t.co...   \n",
       "9231    Twitter for iPhone  The White House is running beautifully. We are...   \n",
       "10571   Twitter for iPhone  .@JimRenacci has worked so hard on Tax Reducti...   \n",
       "13282  Twitter for Android  Playef golf today with Prime Minister Abe of J...   \n",
       "13313  Twitter for Android  I don't know Putin, have no deals in Russia, a...   \n",
       "13318  Twitter for Android  Will be interviewed on @oreillyfactor tonight ...   \n",
       "13388   Twitter for iPhone  Spoke at the Congressional @GOP Retreat in Phi...   \n",
       "\n",
       "                     created_at  retweet_count               id_str  hour  \\\n",
       "366   2020-03-04 02:49:53+00:00              0  1235034700827283456     2   \n",
       "784   2020-02-06 03:28:01+00:00              0  1225259827062038528     3   \n",
       "1124  2020-01-12 16:20:00+00:00              0  1216394407265669120    16   \n",
       "1310  2019-12-26 03:10:55+00:00              3  1210035231820058624     3   \n",
       "1454  2019-12-16 05:29:54+00:00              4  1206446331675451392     5   \n",
       "4628  2019-08-14 00:57:01+00:00              3  1161441560153743360     0   \n",
       "4851  2019-07-31 19:56:43+00:00              3  1156654946944737280    19   \n",
       "6988  2019-04-13 02:38:54+00:00              3  1116893495460016128     2   \n",
       "9231  2018-09-10 11:30:49+00:00              6  1039113964892966912    11   \n",
       "10571 2018-04-24 19:05:40+00:00              8   988856517674889216    19   \n",
       "13282 2017-02-11 23:07:52+00:00              8   830553970225590272    23   \n",
       "13313 2017-02-07 12:04:01+00:00              2   828937357147635712    12   \n",
       "13318 2017-02-06 16:27:45+00:00              6   828641340313460736    16   \n",
       "13388 2017-01-26 19:15:44+00:00              9   824697349335293952    19   \n",
       "\n",
       "                  created_at_et  hour_et  month  \n",
       "366   2020-03-03 20:49:53-06:00       20      3  \n",
       "784   2020-02-05 21:28:01-06:00       21      2  \n",
       "1124  2020-01-12 10:20:00-06:00       10      1  \n",
       "1310  2019-12-25 21:10:55-06:00       21     12  \n",
       "1454  2019-12-15 23:29:54-06:00       23     12  \n",
       "4628  2019-08-13 19:57:01-05:00       19      8  \n",
       "4851  2019-07-31 14:56:43-05:00       14      7  \n",
       "6988  2019-04-12 21:38:54-05:00       21      4  \n",
       "9231  2018-09-10 06:30:49-05:00        6      9  \n",
       "10571 2018-04-24 14:05:40-05:00       14      4  \n",
       "13282 2017-02-11 17:07:52-06:00       17      2  \n",
       "13313 2017-02-07 06:04:01-06:00        6      2  \n",
       "13318 2017-02-06 10:27:45-06:00       10      2  \n",
       "13388 2017-01-26 13:15:44-06:00       13      1  "
      ]
     },
     "execution_count": 13,
     "metadata": {},
     "output_type": "execute_result"
    }
   ],
   "source": [
    "data_low_retweets = data[data[\"retweet_count\"] < 10]\n",
    "data_low_retweets.loc[:]"
   ]
  },
  {
   "cell_type": "markdown",
   "metadata": {},
   "source": [
    "If you go back to the site http://www.trumptwitterarchive.com/archive you can see that every tweet here is not availabe anymore. It was probably posted and shortly after deleted. For example the tweet with the ID 366 (first row in the above table) has 0 retweets, which is deleted. But Trump posted the exact same tweet one minute after this tweet and it got 8000 retweets: https://twitter.com/realdonaldtrump/status/1235034836705959936.\n",
    "\n",
    "So one conclusion one can take is that some tweets that are in our database where being posted but soon after deleted. The question is which tweets those are (minimum retweets?) and how we will deal with them."
   ]
  },
  {
   "cell_type": "code",
   "execution_count": 14,
   "metadata": {},
   "outputs": [
    {
     "name": "stdout",
     "output_type": "stream",
     "text": [
      "Retweet Description:\n",
      " count     457.000000\n",
      "mean     2191.645514\n",
      "std      1158.813351\n",
      "min         0.000000\n",
      "25%      1347.000000\n",
      "50%      2386.000000\n",
      "75%      3123.000000\n",
      "max      3998.000000\n",
      "Name: retweet_count, dtype: float64\n"
     ]
    },
    {
     "data": {
      "image/png": "[encoded data removed]",
      "text/plain": [
       "<Figure size 432x288 with 1 Axes>"
      ]
     },
     "metadata": {
      "needs_background": "light"
     },
     "output_type": "display_data"
    }
   ],
   "source": [
    "data_2 = data[data[\"retweet_count\"] < 4000].loc[:, \"retweet_count\"]\n",
    "print(\"Retweet Description:\\n\", data_2.describe())\n",
    "plt.hist(data_2, bins = 20)\n",
    "plt.axvline(data_2.median(), color='k', linestyle='dashed', linewidth=1)\n",
    "plt.xlabel('Retweets', fontsize=16)\n",
    "plt.ylabel('Count', fontsize=16)\n",
    "plt.show()"
   ]
  },
  {
   "cell_type": "code",
   "execution_count": 15,
   "metadata": {},
   "outputs": [
    {
     "data": {
      "text/html": [
       "<div>\n",
       "<style scoped>\n",
       "    .dataframe tbody tr th:only-of-type {\n",
       "        vertical-align: middle;\n",
       "    }\n",
       "\n",
       "    .dataframe tbody tr th {\n",
       "        vertical-align: top;\n",
       "    }\n",
       "\n",
       "    .dataframe thead th {\n",
       "        text-align: right;\n",
       "    }\n",
       "</style>\n",
       "<table border=\"1\" class=\"dataframe\">\n",
       "  <thead>\n",
       "    <tr style=\"text-align: right;\">\n",
       "      <th></th>\n",
       "      <th>source</th>\n",
       "      <th>text</th>\n",
       "      <th>created_at</th>\n",
       "      <th>retweet_count</th>\n",
       "      <th>id_str</th>\n",
       "      <th>hour</th>\n",
       "      <th>created_at_et</th>\n",
       "      <th>hour_et</th>\n",
       "      <th>month</th>\n",
       "    </tr>\n",
       "  </thead>\n",
       "  <tbody>\n",
       "    <tr>\n",
       "      <td>137</td>\n",
       "      <td>Twitter for iPhone</td>\n",
       "      <td>https://t.co/ytgBP3hJv1</td>\n",
       "      <td>2020-03-20 18:45:23+00:00</td>\n",
       "      <td>31863</td>\n",
       "      <td>1241073365898727424</td>\n",
       "      <td>18</td>\n",
       "      <td>2020-03-20 13:45:23-05:00</td>\n",
       "      <td>13</td>\n",
       "      <td>3</td>\n",
       "    </tr>\n",
       "    <tr>\n",
       "      <td>391</td>\n",
       "      <td>Twitter for iPhone</td>\n",
       "      <td>Australia’s Central Bank cut interest rates an...</td>\n",
       "      <td>2020-03-03 06:27:46+00:00</td>\n",
       "      <td>643</td>\n",
       "      <td>1234727146964254720</td>\n",
       "      <td>6</td>\n",
       "      <td>2020-03-03 00:27:46-06:00</td>\n",
       "      <td>0</td>\n",
       "      <td>3</td>\n",
       "    </tr>\n",
       "    <tr>\n",
       "      <td>606</td>\n",
       "      <td>Twitter for iPhone</td>\n",
       "      <td>“Judge Jackson now has a request for a new tri...</td>\n",
       "      <td>2020-02-18 15:21:28+00:00</td>\n",
       "      <td>954</td>\n",
       "      <td>1229788024931803136</td>\n",
       "      <td>15</td>\n",
       "      <td>2020-02-18 09:21:28-06:00</td>\n",
       "      <td>9</td>\n",
       "      <td>2</td>\n",
       "    </tr>\n",
       "    <tr>\n",
       "      <td>607</td>\n",
       "      <td>Twitter for iPhone</td>\n",
       "      <td>....THE UNITED STATES IS OPEN FOR BUSINESS!</td>\n",
       "      <td>2020-02-18 15:21:28+00:00</td>\n",
       "      <td>786</td>\n",
       "      <td>1229788026773131264</td>\n",
       "      <td>15</td>\n",
       "      <td>2020-02-18 09:21:28-06:00</td>\n",
       "      <td>9</td>\n",
       "      <td>2</td>\n",
       "    </tr>\n",
       "    <tr>\n",
       "      <td>608</td>\n",
       "      <td>Twitter for iPhone</td>\n",
       "      <td>....THE UNITED STATES IS OPEN FOR BUSINESS!</td>\n",
       "      <td>2020-02-18 14:37:05+00:00</td>\n",
       "      <td>3374</td>\n",
       "      <td>1229776855265349632</td>\n",
       "      <td>14</td>\n",
       "      <td>2020-02-18 08:37:05-06:00</td>\n",
       "      <td>8</td>\n",
       "      <td>2</td>\n",
       "    </tr>\n",
       "    <tr>\n",
       "      <td>...</td>\n",
       "      <td>...</td>\n",
       "      <td>...</td>\n",
       "      <td>...</td>\n",
       "      <td>...</td>\n",
       "      <td>...</td>\n",
       "      <td>...</td>\n",
       "      <td>...</td>\n",
       "      <td>...</td>\n",
       "      <td>...</td>\n",
       "    </tr>\n",
       "    <tr>\n",
       "      <td>12653</td>\n",
       "      <td>Twitter for iPhone</td>\n",
       "      <td>MAKE AMERICA GREAT AGAIN!</td>\n",
       "      <td>2017-06-24 21:23:52+00:00</td>\n",
       "      <td>46890</td>\n",
       "      <td>878725385235701760</td>\n",
       "      <td>21</td>\n",
       "      <td>2017-06-24 16:23:52-05:00</td>\n",
       "      <td>16</td>\n",
       "      <td>6</td>\n",
       "    </tr>\n",
       "    <tr>\n",
       "      <td>12780</td>\n",
       "      <td>Twitter for iPhone</td>\n",
       "      <td>MAKE AMERICA GREAT AGAIN!</td>\n",
       "      <td>2017-06-02 01:00:35+00:00</td>\n",
       "      <td>48844</td>\n",
       "      <td>870445001125355520</td>\n",
       "      <td>1</td>\n",
       "      <td>2017-06-01 20:00:35-05:00</td>\n",
       "      <td>20</td>\n",
       "      <td>6</td>\n",
       "    </tr>\n",
       "    <tr>\n",
       "      <td>12808</td>\n",
       "      <td>Twitter for iPhone</td>\n",
       "      <td>Does anyone notice how the Montana Congression...</td>\n",
       "      <td>2017-05-28 12:40:33+00:00</td>\n",
       "      <td>848</td>\n",
       "      <td>868809214365487104</td>\n",
       "      <td>12</td>\n",
       "      <td>2017-05-28 07:40:33-05:00</td>\n",
       "      <td>7</td>\n",
       "      <td>5</td>\n",
       "    </tr>\n",
       "    <tr>\n",
       "      <td>13331</td>\n",
       "      <td>Twitter for Android</td>\n",
       "      <td>MAKE AMERICA GREAT AGAIN!</td>\n",
       "      <td>2017-02-04 14:26:10+00:00</td>\n",
       "      <td>66140</td>\n",
       "      <td>827885966509604864</td>\n",
       "      <td>14</td>\n",
       "      <td>2017-02-04 08:26:10-06:00</td>\n",
       "      <td>8</td>\n",
       "      <td>2</td>\n",
       "    </tr>\n",
       "    <tr>\n",
       "      <td>13373</td>\n",
       "      <td>Twitter for iPhone</td>\n",
       "      <td>I will be interviewed by @TheBrodyFile on @CBN...</td>\n",
       "      <td>2017-01-28 22:50:06+00:00</td>\n",
       "      <td>305</td>\n",
       "      <td>825476070946328576</td>\n",
       "      <td>22</td>\n",
       "      <td>2017-01-28 16:50:06-06:00</td>\n",
       "      <td>16</td>\n",
       "      <td>1</td>\n",
       "    </tr>\n",
       "  </tbody>\n",
       "</table>\n",
       "<p>149 rows × 9 columns</p>\n",
       "</div>"
      ],
      "text/plain": [
       "                    source                                               text  \\\n",
       "137     Twitter for iPhone                            https://t.co/ytgBP3hJv1   \n",
       "391     Twitter for iPhone  Australia’s Central Bank cut interest rates an...   \n",
       "606     Twitter for iPhone  “Judge Jackson now has a request for a new tri...   \n",
       "607     Twitter for iPhone        ....THE UNITED STATES IS OPEN FOR BUSINESS!   \n",
       "608     Twitter for iPhone        ....THE UNITED STATES IS OPEN FOR BUSINESS!   \n",
       "...                    ...                                                ...   \n",
       "12653   Twitter for iPhone                          MAKE AMERICA GREAT AGAIN!   \n",
       "12780   Twitter for iPhone                          MAKE AMERICA GREAT AGAIN!   \n",
       "12808   Twitter for iPhone  Does anyone notice how the Montana Congression...   \n",
       "13331  Twitter for Android                          MAKE AMERICA GREAT AGAIN!   \n",
       "13373   Twitter for iPhone  I will be interviewed by @TheBrodyFile on @CBN...   \n",
       "\n",
       "                     created_at  retweet_count               id_str  hour  \\\n",
       "137   2020-03-20 18:45:23+00:00          31863  1241073365898727424    18   \n",
       "391   2020-03-03 06:27:46+00:00            643  1234727146964254720     6   \n",
       "606   2020-02-18 15:21:28+00:00            954  1229788024931803136    15   \n",
       "607   2020-02-18 15:21:28+00:00            786  1229788026773131264    15   \n",
       "608   2020-02-18 14:37:05+00:00           3374  1229776855265349632    14   \n",
       "...                         ...            ...                  ...   ...   \n",
       "12653 2017-06-24 21:23:52+00:00          46890   878725385235701760    21   \n",
       "12780 2017-06-02 01:00:35+00:00          48844   870445001125355520     1   \n",
       "12808 2017-05-28 12:40:33+00:00            848   868809214365487104    12   \n",
       "13331 2017-02-04 14:26:10+00:00          66140   827885966509604864    14   \n",
       "13373 2017-01-28 22:50:06+00:00            305   825476070946328576    22   \n",
       "\n",
       "                  created_at_et  hour_et  month  \n",
       "137   2020-03-20 13:45:23-05:00       13      3  \n",
       "391   2020-03-03 00:27:46-06:00        0      3  \n",
       "606   2020-02-18 09:21:28-06:00        9      2  \n",
       "607   2020-02-18 09:21:28-06:00        9      2  \n",
       "608   2020-02-18 08:37:05-06:00        8      2  \n",
       "...                         ...      ...    ...  \n",
       "12653 2017-06-24 16:23:52-05:00       16      6  \n",
       "12780 2017-06-01 20:00:35-05:00       20      6  \n",
       "12808 2017-05-28 07:40:33-05:00        7      5  \n",
       "13331 2017-02-04 08:26:10-06:00        8      2  \n",
       "13373 2017-01-28 16:50:06-06:00       16      1  \n",
       "\n",
       "[149 rows x 9 columns]"
      ]
     },
     "execution_count": 15,
     "metadata": {},
     "output_type": "execute_result"
    }
   ],
   "source": [
    "dublicates = data.loc[:, [\"text\"]].duplicated()\n",
    "data[dublicates]"
   ]
  }
 ],
 "metadata": {
  "kernelspec": {
   "display_name": "Python 3",
   "language": "python",
   "name": "python3"
  },
  "language_info": {
   "codemirror_mode": {
    "name": "ipython",
    "version": 3
   },
   "file_extension": ".py",
   "mimetype": "text/x-python",
   "name": "python",
   "nbconvert_exporter": "python",
   "pygments_lexer": "ipython3",
   "version": "3.7.4"
  }
 },
 "nbformat": 4,
 "nbformat_minor": 2
}
