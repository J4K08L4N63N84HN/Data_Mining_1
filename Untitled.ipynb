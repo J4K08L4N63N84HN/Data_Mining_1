{
 "cells": [
  {
   "cell_type": "code",
   "execution_count": 98,
   "metadata": {},
   "outputs": [],
   "source": [
    "import pandas as pd\n",
    "import matplotlib.pyplot as plt\n",
    "import numpy as np\n",
    "from sklearn.linear_model import LinearRegression\n",
    "from sklearn.metrics import mean_squared_error, r2_score"
   ]
  },
  {
   "cell_type": "code",
   "execution_count": 3,
   "metadata": {},
   "outputs": [],
   "source": [
    "data = pd.read_json(\"data.json\")"
   ]
  },
  {
   "cell_type": "code",
   "execution_count": 73,
   "metadata": {},
   "outputs": [],
   "source": [
    "data[\"time_diff\"] = (data[\"created_at\"][1] - data[\"created_at\"]).dt.days"
   ]
  },
  {
   "cell_type": "code",
   "execution_count": 81,
   "metadata": {},
   "outputs": [],
   "source": [
    "data.loc[[0],[\"created_at\"]] = 0"
   ]
  },
  {
   "cell_type": "code",
   "execution_count": 82,
   "metadata": {},
   "outputs": [
    {
     "data": {
      "text/plain": [
       "0           0\n",
       "1           0\n",
       "2           0\n",
       "3           0\n",
       "4           0\n",
       "         ... \n",
       "13422    1164\n",
       "13423    1164\n",
       "13424    1165\n",
       "13425    1165\n",
       "13426    1165\n",
       "Name: time_diff, Length: 13427, dtype: int64"
      ]
     },
     "execution_count": 82,
     "metadata": {},
     "output_type": "execute_result"
    }
   ],
   "source": []
  },
  {
   "cell_type": "code",
   "execution_count": 53,
   "metadata": {},
   "outputs": [
    {
     "data": {
      "text/plain": [
       "-2"
      ]
     },
     "execution_count": 53,
     "metadata": {},
     "output_type": "execute_result"
    }
   ],
   "source": [
    "(data[\"created_at\"][20] - data[\"created_at\"][1]).days"
   ]
  },
  {
   "cell_type": "code",
   "execution_count": 16,
   "metadata": {},
   "outputs": [
    {
     "data": {
      "text/html": [
       "<div>\n",
       "<style scoped>\n",
       "    .dataframe tbody tr th:only-of-type {\n",
       "        vertical-align: middle;\n",
       "    }\n",
       "\n",
       "    .dataframe tbody tr th {\n",
       "        vertical-align: top;\n",
       "    }\n",
       "\n",
       "    .dataframe thead th {\n",
       "        text-align: right;\n",
       "    }\n",
       "</style>\n",
       "<table border=\"1\" class=\"dataframe\">\n",
       "  <thead>\n",
       "    <tr style=\"text-align: right;\">\n",
       "      <th></th>\n",
       "      <th>source</th>\n",
       "      <th>text</th>\n",
       "      <th>created_at</th>\n",
       "      <th>retweet_count</th>\n",
       "      <th>id_str</th>\n",
       "    </tr>\n",
       "  </thead>\n",
       "  <tbody>\n",
       "    <tr>\n",
       "      <th>258</th>\n",
       "      <td>Twitter for iPhone</td>\n",
       "      <td>If you like automobils, how can you vote for a...</td>\n",
       "      <td>2020-03-10 21:29:14+00:00</td>\n",
       "      <td>589</td>\n",
       "      <td>1237490722317746176</td>\n",
       "    </tr>\n",
       "    <tr>\n",
       "      <th>343</th>\n",
       "      <td>Twitter for iPhone</td>\n",
       "      <td>Congress has agreed to provide $8 Billion to f...</td>\n",
       "      <td>2020-03-04 23:45:39+00:00</td>\n",
       "      <td>14</td>\n",
       "      <td>1235350726500659200</td>\n",
       "    </tr>\n",
       "    <tr>\n",
       "      <th>366</th>\n",
       "      <td>Twitter for iPhone</td>\n",
       "      <td>THANK YOU COLORADO! #KAG2020 https://t.co/a5xx...</td>\n",
       "      <td>2020-03-04 02:49:53+00:00</td>\n",
       "      <td>0</td>\n",
       "      <td>1235034700827283456</td>\n",
       "    </tr>\n",
       "    <tr>\n",
       "      <th>391</th>\n",
       "      <td>Twitter for iPhone</td>\n",
       "      <td>Australia’s Central Bank cut interest rates an...</td>\n",
       "      <td>2020-03-03 06:27:46+00:00</td>\n",
       "      <td>643</td>\n",
       "      <td>1234727146964254720</td>\n",
       "    </tr>\n",
       "    <tr>\n",
       "      <th>405</th>\n",
       "      <td>Twitter for iPhone</td>\n",
       "      <td>Michelle @FischbachMN7 is running for Congress...</td>\n",
       "      <td>2020-03-02 19:49:41+00:00</td>\n",
       "      <td>161</td>\n",
       "      <td>1234566566240489472</td>\n",
       "    </tr>\n",
       "    <tr>\n",
       "      <th>...</th>\n",
       "      <td>...</td>\n",
       "      <td>...</td>\n",
       "      <td>...</td>\n",
       "      <td>...</td>\n",
       "      <td>...</td>\n",
       "    </tr>\n",
       "    <tr>\n",
       "      <th>13313</th>\n",
       "      <td>Twitter for Android</td>\n",
       "      <td>I don't know Putin, have no deals in Russia, a...</td>\n",
       "      <td>2017-02-07 12:04:01+00:00</td>\n",
       "      <td>2</td>\n",
       "      <td>828937357147635712</td>\n",
       "    </tr>\n",
       "    <tr>\n",
       "      <th>13318</th>\n",
       "      <td>Twitter for Android</td>\n",
       "      <td>Will be interviewed on @oreillyfactor tonight ...</td>\n",
       "      <td>2017-02-06 16:27:45+00:00</td>\n",
       "      <td>6</td>\n",
       "      <td>828641340313460736</td>\n",
       "    </tr>\n",
       "    <tr>\n",
       "      <th>13323</th>\n",
       "      <td>Twitter for Android</td>\n",
       "      <td>I will be interviewed by @oreillyfactor at 4:0...</td>\n",
       "      <td>2017-02-05 20:47:25+00:00</td>\n",
       "      <td>147</td>\n",
       "      <td>828344301381939200</td>\n",
       "    </tr>\n",
       "    <tr>\n",
       "      <th>13373</th>\n",
       "      <td>Twitter for iPhone</td>\n",
       "      <td>I will be interviewed by @TheBrodyFile on @CBN...</td>\n",
       "      <td>2017-01-28 22:50:06+00:00</td>\n",
       "      <td>305</td>\n",
       "      <td>825476070946328576</td>\n",
       "    </tr>\n",
       "    <tr>\n",
       "      <th>13388</th>\n",
       "      <td>Twitter for iPhone</td>\n",
       "      <td>Spoke at the Congressional @GOP Retreat in Phi...</td>\n",
       "      <td>2017-01-26 19:15:44+00:00</td>\n",
       "      <td>9</td>\n",
       "      <td>824697349335293952</td>\n",
       "    </tr>\n",
       "  </tbody>\n",
       "</table>\n",
       "<p>89 rows × 5 columns</p>\n",
       "</div>"
      ],
      "text/plain": [
       "                    source                                               text  \\\n",
       "258     Twitter for iPhone  If you like automobils, how can you vote for a...   \n",
       "343     Twitter for iPhone  Congress has agreed to provide $8 Billion to f...   \n",
       "366     Twitter for iPhone  THANK YOU COLORADO! #KAG2020 https://t.co/a5xx...   \n",
       "391     Twitter for iPhone  Australia’s Central Bank cut interest rates an...   \n",
       "405     Twitter for iPhone  Michelle @FischbachMN7 is running for Congress...   \n",
       "...                    ...                                                ...   \n",
       "13313  Twitter for Android  I don't know Putin, have no deals in Russia, a...   \n",
       "13318  Twitter for Android  Will be interviewed on @oreillyfactor tonight ...   \n",
       "13323  Twitter for Android  I will be interviewed by @oreillyfactor at 4:0...   \n",
       "13373   Twitter for iPhone  I will be interviewed by @TheBrodyFile on @CBN...   \n",
       "13388   Twitter for iPhone  Spoke at the Congressional @GOP Retreat in Phi...   \n",
       "\n",
       "                     created_at  retweet_count               id_str  \n",
       "258   2020-03-10 21:29:14+00:00            589  1237490722317746176  \n",
       "343   2020-03-04 23:45:39+00:00             14  1235350726500659200  \n",
       "366   2020-03-04 02:49:53+00:00              0  1235034700827283456  \n",
       "391   2020-03-03 06:27:46+00:00            643  1234727146964254720  \n",
       "405   2020-03-02 19:49:41+00:00            161  1234566566240489472  \n",
       "...                         ...            ...                  ...  \n",
       "13313 2017-02-07 12:04:01+00:00              2   828937357147635712  \n",
       "13318 2017-02-06 16:27:45+00:00              6   828641340313460736  \n",
       "13323 2017-02-05 20:47:25+00:00            147   828344301381939200  \n",
       "13373 2017-01-28 22:50:06+00:00            305   825476070946328576  \n",
       "13388 2017-01-26 19:15:44+00:00              9   824697349335293952  \n",
       "\n",
       "[89 rows x 5 columns]"
      ]
     },
     "execution_count": 16,
     "metadata": {},
     "output_type": "execute_result"
    }
   ],
   "source": [
    "data[data[\"retweet_count\"] <= 1000]"
   ]
  },
  {
   "cell_type": "code",
   "execution_count": 28,
   "metadata": {},
   "outputs": [
    {
     "data": {
      "image/png": "[encoded data removed]",
      "text/plain": [
       "<Figure size 432x288 with 1 Axes>"
      ]
     },
     "metadata": {
      "needs_background": "light"
     },
     "output_type": "display_data"
    }
   ],
   "source": [
    "plt.hist(data[\"retweet_count\"], bins = 1000)\n",
    "plt.show()"
   ]
  },
  {
   "cell_type": "code",
   "execution_count": 29,
   "metadata": {},
   "outputs": [
    {
     "data": {
      "text/plain": [
       "<matplotlib.collections.PathCollection at 0x120a0e350>"
      ]
     },
     "execution_count": 29,
     "metadata": {},
     "output_type": "execute_result"
    },
    {
     "data": {
      "image/png": "[encoded data removed]",
      "text/plain": [
       "<Figure size 432x288 with 1 Axes>"
      ]
     },
     "metadata": {
      "needs_background": "light"
     },
     "output_type": "display_data"
    }
   ],
   "source": [
    "plt.scatter(data[\"created_at\"],data[\"retweet_count\"])"
   ]
  },
  {
   "cell_type": "code",
   "execution_count": null,
   "metadata": {},
   "outputs": [],
   "source": [
    "plt.show()"
   ]
  },
  {
   "cell_type": "code",
   "execution_count": 85,
   "metadata": {},
   "outputs": [
    {
     "data": {
      "text/plain": [
       "0           0\n",
       "1           0\n",
       "2           0\n",
       "3           0\n",
       "4           0\n",
       "         ... \n",
       "13422    1164\n",
       "13423    1164\n",
       "13424    1165\n",
       "13425    1165\n",
       "13426    1165\n",
       "Name: time_diff, Length: 13427, dtype: int64"
      ]
     },
     "execution_count": 85,
     "metadata": {},
     "output_type": "execute_result"
    }
   ],
   "source": [
    "data[\"time_diff\"]"
   ]
  },
  {
   "cell_type": "code",
   "execution_count": 88,
   "metadata": {},
   "outputs": [],
   "source": [
    "X = np.array(data[\"time_diff\"].values.tolist()).reshape(-1, 1)"
   ]
  },
  {
   "cell_type": "code",
   "execution_count": 90,
   "metadata": {},
   "outputs": [],
   "source": [
    "reg = LinearRegression().fit(X, data[\"retweet_count\"])"
   ]
  },
  {
   "cell_type": "code",
   "execution_count": 95,
   "metadata": {
    "scrolled": true
   },
   "outputs": [
    {
     "name": "stdout",
     "output_type": "stream",
     "text": [
      "[3.0050576]\n",
      "17849.331147336496\n"
     ]
    }
   ],
   "source": []
  },
  {
   "cell_type": "code",
   "execution_count": 103,
   "metadata": {},
   "outputs": [
    {
     "name": "stdout",
     "output_type": "stream",
     "text": [
      "Coefficients: \n",
      " [3.0050576]\n",
      "Mean squared error: 510132287.83\n",
      "Coefficient of determination: -5338.15\n"
     ]
    },
    {
     "data": {
      "image/png": "[encoded data removed]",
      "text/plain": [
       "<Figure size 432x288 with 1 Axes>"
      ]
     },
     "metadata": {},
     "output_type": "display_data"
    }
   ],
   "source": [
    "\n",
    "# The coefficients\n",
    "print('Coefficients: \\n', reg.coef_)\n",
    "# The mean squared error\n",
    "print('Mean squared error: %.2f'\n",
    "      % mean_squared_error(X, data[\"retweet_count\"]))\n",
    "# The coefficient of determination: 1 is perfect prediction\n",
    "print('Coefficient of determination: %.2f'\n",
    "      % r2_score(X, data[\"retweet_count\"]))\n",
    "\n",
    "pred = reg.predict(X)\n",
    "\n",
    "# Plot outputs\n",
    "plt.scatter(X, data[\"retweet_count\"],  color='black')\n",
    "plt.plot(X, pred, color='blue', linewidth=3)\n",
    "\n",
    "plt.xticks(())\n",
    "plt.yticks(())\n",
    "\n",
    "plt.show()"
   ]
  },
  {
   "cell_type": "code",
   "execution_count": null,
   "metadata": {},
   "outputs": [],
   "source": []
  }
 ],
 "metadata": {
  "kernelspec": {
   "display_name": "Python 3",
   "language": "python",
   "name": "python3"
  },
  "language_info": {
   "codemirror_mode": {
    "name": "ipython",
    "version": 3
   },
   "file_extension": ".py",
   "mimetype": "text/x-python",
   "name": "python",
   "nbconvert_exporter": "python",
   "pygments_lexer": "ipython3",
   "version": "3.7.6"
  }
 },
 "nbformat": 4,
 "nbformat_minor": 4
}
