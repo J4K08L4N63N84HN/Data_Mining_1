{
 "cells": [
  {
   "cell_type": "code",
   "execution_count": 15,
   "metadata": {},
   "outputs": [],
   "source": [
    "import nltk\n",
    "from nltk.book import *\n",
    "import numpy as np\n",
    "import datetime\n",
    "import pandas as pd\n",
    "import matplotlib.pyplot as plt\n",
    "import seaborn as sns"
   ]
  },
  {
   "cell_type": "code",
   "execution_count": 4,
   "metadata": {},
   "outputs": [
    {
     "data": {
      "text/html": [
       "<div>\n",
       "<style scoped>\n",
       "    .dataframe tbody tr th:only-of-type {\n",
       "        vertical-align: middle;\n",
       "    }\n",
       "\n",
       "    .dataframe tbody tr th {\n",
       "        vertical-align: top;\n",
       "    }\n",
       "\n",
       "    .dataframe thead th {\n",
       "        text-align: right;\n",
       "    }\n",
       "</style>\n",
       "<table border=\"1\" class=\"dataframe\">\n",
       "  <thead>\n",
       "    <tr style=\"text-align: right;\">\n",
       "      <th></th>\n",
       "      <th>source</th>\n",
       "      <th>text</th>\n",
       "      <th>created_at</th>\n",
       "      <th>retweet_count</th>\n",
       "      <th>id_str</th>\n",
       "      <th>tokens</th>\n",
       "    </tr>\n",
       "  </thead>\n",
       "  <tbody>\n",
       "    <tr>\n",
       "      <th>0</th>\n",
       "      <td>Twitter for iPhone</td>\n",
       "      <td>[White, House, news, conference, at, PM, Easte...</td>\n",
       "      <td>2020-03-30 20:50:35</td>\n",
       "      <td>14441</td>\n",
       "      <td>1244728753617620992</td>\n",
       "      <td>[white, hous, news, confer, PM, eastern, thank...</td>\n",
       "    </tr>\n",
       "    <tr>\n",
       "      <th>1</th>\n",
       "      <td>Twitter for iPhone</td>\n",
       "      <td>[]</td>\n",
       "      <td>2020-03-30 17:46:15</td>\n",
       "      <td>15520</td>\n",
       "      <td>1244682364284014592</td>\n",
       "      <td>[]</td>\n",
       "    </tr>\n",
       "    <tr>\n",
       "      <th>2</th>\n",
       "      <td>Twitter for iPhone</td>\n",
       "      <td>[On, NationalDoctorsDay, we, recognize, the, r...</td>\n",
       "      <td>2020-03-30 17:11:59</td>\n",
       "      <td>19753</td>\n",
       "      <td>1244673740866191360</td>\n",
       "      <td>[nationaldoctorsday, recogn, remark, men, amp,...</td>\n",
       "    </tr>\n",
       "    <tr>\n",
       "      <th>3</th>\n",
       "      <td>Twitter for iPhone</td>\n",
       "      <td>[]</td>\n",
       "      <td>2020-03-30 17:05:33</td>\n",
       "      <td>39114</td>\n",
       "      <td>1244672122414338048</td>\n",
       "      <td>[]</td>\n",
       "    </tr>\n",
       "    <tr>\n",
       "      <th>4</th>\n",
       "      <td>Twitter for iPhone</td>\n",
       "      <td>[Nancy, Pelosi, and, the, Democrats, delayed, ...</td>\n",
       "      <td>2020-03-30 11:17:10</td>\n",
       "      <td>43360</td>\n",
       "      <td>1244584449309892608</td>\n",
       "      <td>[nanci, pelosi, democrat, delay, worker, helps...</td>\n",
       "    </tr>\n",
       "  </tbody>\n",
       "</table>\n",
       "</div>"
      ],
      "text/plain": [
       "               source                                               text  \\\n",
       "0  Twitter for iPhone  [White, House, news, conference, at, PM, Easte...   \n",
       "1  Twitter for iPhone                                                 []   \n",
       "2  Twitter for iPhone  [On, NationalDoctorsDay, we, recognize, the, r...   \n",
       "3  Twitter for iPhone                                                 []   \n",
       "4  Twitter for iPhone  [Nancy, Pelosi, and, the, Democrats, delayed, ...   \n",
       "\n",
       "           created_at  retweet_count               id_str  \\\n",
       "0 2020-03-30 20:50:35          14441  1244728753617620992   \n",
       "1 2020-03-30 17:46:15          15520  1244682364284014592   \n",
       "2 2020-03-30 17:11:59          19753  1244673740866191360   \n",
       "3 2020-03-30 17:05:33          39114  1244672122414338048   \n",
       "4 2020-03-30 11:17:10          43360  1244584449309892608   \n",
       "\n",
       "                                              tokens  \n",
       "0  [white, hous, news, confer, PM, eastern, thank...  \n",
       "1                                                 []  \n",
       "2  [nationaldoctorsday, recogn, remark, men, amp,...  \n",
       "3                                                 []  \n",
       "4  [nanci, pelosi, democrat, delay, worker, helps...  "
      ]
     },
     "execution_count": 4,
     "metadata": {},
     "output_type": "execute_result"
    }
   ],
   "source": [
    "pd.set_option('display.max_columns', None)\n",
    "data = pd.read_json('/Users/maida/Desktop/preprocessedData.json')\n",
    "data.head()"
   ]
  },
  {
   "cell_type": "code",
   "execution_count": 18,
   "metadata": {},
   "outputs": [
    {
     "data": {
      "text/plain": [
       "(array([0, 1, 2, 3]), <a list of 4 Text xticklabel objects>)"
      ]
     },
     "execution_count": 18,
     "metadata": {},
     "output_type": "execute_result"
    },
    {
     "data": {
      "image/png": "[encoded data removed]",
      "text/plain": [
       "<Figure size 432x288 with 1 Axes>"
      ]
     },
     "metadata": {
      "needs_background": "light"
     },
     "output_type": "display_data"
    }
   ],
   "source": [
    "data['created_at'] = pd.to_datetime(data['created_at'])\n",
    "data['day_of_week'] = data['created_at'].dt.day_name()\n",
    "a = data.assign(tweet_session=pd.cut(data.created_at.dt.hour,[0,6,12,18,24], labels = ['Night', 'Morning', 'Afternoon', 'Evening']))\n",
    "data['time_of_day'] = a['tweet_session']\n",
    "\n",
    "sns.countplot(x='time_of_day', data=data)\n",
    "plt.xticks(rotation=90)\n",
    "#data.head()"
   ]
  },
  {
   "cell_type": "code",
   "execution_count": 19,
   "metadata": {},
   "outputs": [
    {
     "data": {
      "text/plain": [
       "(array([0, 1, 2, 3, 4, 5, 6]), <a list of 7 Text xticklabel objects>)"
      ]
     },
     "execution_count": 19,
     "metadata": {},
     "output_type": "execute_result"
    },
    {
     "data": {
      "image/png": "[encoded data removed]",
      "text/plain": [
       "<Figure size 432x288 with 1 Axes>"
      ]
     },
     "metadata": {
      "needs_background": "light"
     },
     "output_type": "display_data"
    }
   ],
   "source": [
    "sns.countplot(x='day_of_week', data=data)\n",
    "plt.xticks(rotation=90)\n"
   ]
  },
  {
   "cell_type": "code",
   "execution_count": 21,
   "metadata": {},
   "outputs": [
    {
     "data": {
      "text/plain": [
       "(array([0, 1, 2, 3, 4, 5, 6, 7]), <a list of 8 Text xticklabel objects>)"
      ]
     },
     "execution_count": 21,
     "metadata": {},
     "output_type": "execute_result"
    },
    {
     "data": {
      "image/png": "[encoded data removed]",
      "text/plain": [
       "<Figure size 432x288 with 1 Axes>"
      ]
     },
     "metadata": {
      "needs_background": "light"
     },
     "output_type": "display_data"
    }
   ],
   "source": [
    "sns.countplot(x='source', data=data)\n",
    "plt.xticks(rotation=90)"
   ]
  },
  {
   "cell_type": "code",
   "execution_count": 32,
   "metadata": {},
   "outputs": [
    {
     "data": {
      "text/plain": [
       "(array([0, 1, 2, 3, 4]), <a list of 5 Text xticklabel objects>)"
      ]
     },
     "execution_count": 32,
     "metadata": {},
     "output_type": "execute_result"
    },
    {
     "data": {
      "image/png": "[encoded data removed]",
      "text/plain": [
       "<Figure size 432x288 with 1 Axes>"
      ]
     },
     "metadata": {
      "needs_background": "light"
     },
     "output_type": "display_data"
    }
   ],
   "source": [
    "data['source'] = np.where(data['source']=='Media Studio', 'Twitter Media Studio', data['source'])\n",
    "data['source'] = np.where(data['source']=='Twitter Web App', 'Twitter Web Client', data['source'])\n",
    "data['source'] = np.where(data['source']=='Twitter for iPad', 'Twitter for iPhone', data['source'])\n",
    "\n",
    "sns.countplot(x='source', data=data)\n",
    "plt.xticks(rotation=90)"
   ]
  },
  {
   "cell_type": "code",
   "execution_count": 28,
   "metadata": {},
   "outputs": [
    {
     "data": {
      "text/html": [
       "<div>\n",
       "<style scoped>\n",
       "    .dataframe tbody tr th:only-of-type {\n",
       "        vertical-align: middle;\n",
       "    }\n",
       "\n",
       "    .dataframe tbody tr th {\n",
       "        vertical-align: top;\n",
       "    }\n",
       "\n",
       "    .dataframe thead th {\n",
       "        text-align: right;\n",
       "    }\n",
       "</style>\n",
       "<table border=\"1\" class=\"dataframe\">\n",
       "  <thead>\n",
       "    <tr style=\"text-align: right;\">\n",
       "      <th></th>\n",
       "      <th>source</th>\n",
       "      <th>text</th>\n",
       "      <th>created_at</th>\n",
       "      <th>retweet_count</th>\n",
       "      <th>id_str</th>\n",
       "      <th>tokens</th>\n",
       "      <th>day_of_week</th>\n",
       "      <th>time_of_day</th>\n",
       "      <th>nr_of_words</th>\n",
       "    </tr>\n",
       "  </thead>\n",
       "  <tbody>\n",
       "    <tr>\n",
       "      <th>0</th>\n",
       "      <td>Twitter for iPhone</td>\n",
       "      <td>[White, House, news, conference, at, PM, Easte...</td>\n",
       "      <td>2020-03-30 20:50:35</td>\n",
       "      <td>14441</td>\n",
       "      <td>1244728753617620992</td>\n",
       "      <td>[white, hous, news, confer, PM, eastern, thank...</td>\n",
       "      <td>Monday</td>\n",
       "      <td>Evening</td>\n",
       "      <td>354701</td>\n",
       "    </tr>\n",
       "    <tr>\n",
       "      <th>1</th>\n",
       "      <td>Twitter for iPhone</td>\n",
       "      <td>[]</td>\n",
       "      <td>2020-03-30 17:46:15</td>\n",
       "      <td>15520</td>\n",
       "      <td>1244682364284014592</td>\n",
       "      <td>[]</td>\n",
       "      <td>Monday</td>\n",
       "      <td>Afternoon</td>\n",
       "      <td>354701</td>\n",
       "    </tr>\n",
       "    <tr>\n",
       "      <th>2</th>\n",
       "      <td>Twitter for iPhone</td>\n",
       "      <td>[On, NationalDoctorsDay, we, recognize, the, r...</td>\n",
       "      <td>2020-03-30 17:11:59</td>\n",
       "      <td>19753</td>\n",
       "      <td>1244673740866191360</td>\n",
       "      <td>[nationaldoctorsday, recogn, remark, men, amp,...</td>\n",
       "      <td>Monday</td>\n",
       "      <td>Afternoon</td>\n",
       "      <td>354701</td>\n",
       "    </tr>\n",
       "    <tr>\n",
       "      <th>3</th>\n",
       "      <td>Twitter for iPhone</td>\n",
       "      <td>[]</td>\n",
       "      <td>2020-03-30 17:05:33</td>\n",
       "      <td>39114</td>\n",
       "      <td>1244672122414338048</td>\n",
       "      <td>[]</td>\n",
       "      <td>Monday</td>\n",
       "      <td>Afternoon</td>\n",
       "      <td>354701</td>\n",
       "    </tr>\n",
       "    <tr>\n",
       "      <th>4</th>\n",
       "      <td>Twitter for iPhone</td>\n",
       "      <td>[Nancy, Pelosi, and, the, Democrats, delayed, ...</td>\n",
       "      <td>2020-03-30 11:17:10</td>\n",
       "      <td>43360</td>\n",
       "      <td>1244584449309892608</td>\n",
       "      <td>[nanci, pelosi, democrat, delay, worker, helps...</td>\n",
       "      <td>Monday</td>\n",
       "      <td>Morning</td>\n",
       "      <td>354701</td>\n",
       "    </tr>\n",
       "  </tbody>\n",
       "</table>\n",
       "</div>"
      ],
      "text/plain": [
       "               source                                               text  \\\n",
       "0  Twitter for iPhone  [White, House, news, conference, at, PM, Easte...   \n",
       "1  Twitter for iPhone                                                 []   \n",
       "2  Twitter for iPhone  [On, NationalDoctorsDay, we, recognize, the, r...   \n",
       "3  Twitter for iPhone                                                 []   \n",
       "4  Twitter for iPhone  [Nancy, Pelosi, and, the, Democrats, delayed, ...   \n",
       "\n",
       "           created_at  retweet_count               id_str  \\\n",
       "0 2020-03-30 20:50:35          14441  1244728753617620992   \n",
       "1 2020-03-30 17:46:15          15520  1244682364284014592   \n",
       "2 2020-03-30 17:11:59          19753  1244673740866191360   \n",
       "3 2020-03-30 17:05:33          39114  1244672122414338048   \n",
       "4 2020-03-30 11:17:10          43360  1244584449309892608   \n",
       "\n",
       "                                              tokens day_of_week time_of_day  \\\n",
       "0  [white, hous, news, confer, PM, eastern, thank...      Monday     Evening   \n",
       "1                                                 []      Monday   Afternoon   \n",
       "2  [nationaldoctorsday, recogn, remark, men, amp,...      Monday   Afternoon   \n",
       "3                                                 []      Monday   Afternoon   \n",
       "4  [nanci, pelosi, democrat, delay, worker, helps...      Monday     Morning   \n",
       "\n",
       "   nr_of_words  \n",
       "0       354701  \n",
       "1       354701  \n",
       "2       354701  \n",
       "3       354701  \n",
       "4       354701  "
      ]
     },
     "execution_count": 28,
     "metadata": {},
     "output_type": "execute_result"
    }
   ],
   "source": [
    "#not final, still working on this\n",
    "count = 0\n",
    "for x in data['tokens']:\n",
    "    data['nr_of_words'] = count\n",
    "    for token in x:\n",
    "        count +=1\n",
    "        \n",
    "    \n",
    "data.head() \n",
    "        "
   ]
  },
  {
   "cell_type": "code",
   "execution_count": null,
   "metadata": {},
   "outputs": [],
   "source": []
  }
 ],
 "metadata": {
  "kernelspec": {
   "display_name": "Python 3",
   "language": "python",
   "name": "python3"
  },
  "language_info": {
   "codemirror_mode": {
    "name": "ipython",
    "version": 3
   },
   "file_extension": ".py",
   "mimetype": "text/x-python",
   "name": "python",
   "nbconvert_exporter": "python",
   "pygments_lexer": "ipython3",
   "version": "3.8.2"
  }
 },
 "nbformat": 4,
 "nbformat_minor": 4
}
