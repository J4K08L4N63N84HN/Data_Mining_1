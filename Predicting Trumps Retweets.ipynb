{
 "cells": [
  {
   "cell_type": "markdown",
   "metadata": {},
   "source": [
    "# Predicting Retweets of @realDonaldTrump Twitter account. "
   ]
  },
  {
   "cell_type": "markdown",
   "metadata": {},
   "source": [
    "## Abstract\n",
    "Twitter is one of the most popular platforms for expressing opinions, thoughts and updates, but it is also used to influence people and is a \"tactic\" widely used in election campaigns. President Donald Trump's Twitter account is very popular, his tweet frequency is relatively high, and his tweets are liked and retweeted hundreds of thousands of times.\n",
    "\n",
    "This notebook implements a regression model to predict the number of retweets of a particular tweet from @realdonaldtrump. Additionally the meaning of features is evaluated and compared.\n",
    "\n",
    "The result of this notebook is, besides the prediction model, a set of important characteristics for a high number of retweets. These can be used to increase the retweet rate of candidates for future election campaigns. Our model can be used to decide on which parts to focus on when tweeting (length, specific hashtags, time of day, etc.) in order to maximize the number of retweets and gain popularity or even become viral."
   ]
  },
  {
   "cell_type": "markdown",
   "metadata": {},
   "source": [
    "## Data Selection\n",
    "\n",
    "For the task of this notebook the Tweets and the Retweet counts of the @realdonaldtrump Twitter account are needed. This notebooks uses the data from http://trumptwitterarchive.com/archive. The data spans from Donald J. Trumps inauguration on January 20, 2017 until April 30, 2020. "
   ]
  },
  {
   "cell_type": "code",
   "execution_count": 2,
   "metadata": {},
   "outputs": [],
   "source": [
    "#import data from http://trumptwitterarchive.com/archive\n",
    "import pandas as pd\n",
    "\n",
    "twitterdata = pd.read_json(\"tweets_@donaldtrump_20170120_20200430.json\")"
   ]
  },
  {
   "cell_type": "markdown",
   "metadata": {},
   "source": [
    "## Data Exploration\n",
    "\n",
    "Initial exploration of the dataset.  "
   ]
  },
  {
   "cell_type": "code",
   "execution_count": 3,
   "metadata": {},
   "outputs": [
    {
     "name": "stdout",
     "output_type": "stream",
     "text": [
      "The dataset has 13796 records and 5 variables.\n"
     ]
    }
   ],
   "source": [
    "#dimension of dataset\n",
    "dimension_twitterdata = twitterdata.shape\n",
    "print(\"The dataset has \" + str(dimension_twitterdata[0]) + \" records and \" +\n",
    "      str(dimension_twitterdata[1]) + \" variables.\" )"
   ]
  },
  {
   "cell_type": "code",
   "execution_count": 4,
   "metadata": {},
   "outputs": [
    {
     "name": "stdout",
     "output_type": "stream",
     "text": [
      "               source                                               text  \\\n",
      "0  Twitter for iPhone  No, I think Amash would make a wonderful candi...   \n",
      "1  Twitter for iPhone  THANK YOU @MarkLevinShow! \\nhttps://t.co/GJSNM...   \n",
      "2  Twitter for iPhone  At least they admit it. The Failing @nytimes &...   \n",
      "3  Twitter for iPhone  The only reason the U.S. has reported one mill...   \n",
      "4  Twitter for iPhone  THANK YOU MICHAEL! @bittyandbeaus https://t.co...   \n",
      "5  Twitter for iPhone    https://t.co/shcVSYZmuY https://t.co/ispKWWF96K   \n",
      "6  Twitter for iPhone                            https://t.co/9YNWvhqCk7   \n",
      "7  Twitter for iPhone  Thank you @BlueAngels and @AFThunderbirds! #Am...   \n",
      "8  Twitter for iPhone  But I love Diamond &amp; Silk, and so do milli...   \n",
      "9  Twitter for iPhone  Texas to open businesses in phases beginning F...   \n",
      "\n",
      "                 created_at  retweet_count               id_str  \n",
      "0 2020-04-29 14:55:22+00:00          14918  1255510996623527936  \n",
      "1 2020-04-29 14:42:56+00:00          22235  1255507868280856576  \n",
      "2 2020-04-29 13:09:39+00:00          22881  1255484391364665344  \n",
      "3 2020-04-29 04:23:38+00:00          43268  1255352014042738688  \n",
      "4 2020-04-29 02:39:07+00:00          17471  1255325711960768512  \n",
      "5 2020-04-28 20:24:20+00:00          21193  1255231394923646976  \n",
      "6 2020-04-28 20:14:31+00:00          13641  1255228926428942336  \n",
      "7 2020-04-28 14:43:53+00:00          12846  1255145720136359936  \n",
      "8 2020-04-28 13:57:14+00:00          25271  1255133977360265216  \n",
      "9 2020-04-28 13:42:38+00:00          26228  1255130302655148032  \n"
     ]
    }
   ],
   "source": [
    "#show the first 10 records of the dataset\n",
    "print(twitterdata.head(10))"
   ]
  },
  {
   "cell_type": "code",
   "execution_count": 5,
   "metadata": {},
   "outputs": [
    {
     "name": "stdout",
     "output_type": "stream",
     "text": [
      "<class 'pandas.core.frame.DataFrame'>\n",
      "RangeIndex: 13796 entries, 0 to 13795\n",
      "Data columns (total 5 columns):\n",
      " #   Column         Non-Null Count  Dtype              \n",
      "---  ------         --------------  -----              \n",
      " 0   source         13796 non-null  object             \n",
      " 1   text           13796 non-null  object             \n",
      " 2   created_at     13796 non-null  datetime64[ns, UTC]\n",
      " 3   retweet_count  13796 non-null  int64              \n",
      " 4   id_str         13796 non-null  int64              \n",
      "dtypes: datetime64[ns, UTC](1), int64(2), object(2)\n",
      "memory usage: 539.0+ KB\n",
      "None\n"
     ]
    }
   ],
   "source": [
    "#show variables and variables type\n",
    "print(twitterdata.info())"
   ]
  },
  {
   "cell_type": "markdown",
   "metadata": {},
   "source": [
    "The variables in the dataset are source, text, created_at, retweet_count, id_str.\n",
    "\n",
    "Explanation of the variables. \n",
    "* **source** is the kind of device used for the tweet.\n",
    "* **text** is content of the tweet.\n",
    "* **created_at** is the timestamp of the tweet in UTC.\n",
    "* **retweet_count** is number of retweets of the tweet.\n",
    "* **id_str** is an unique identifier of the tweet."
   ]
  },
  {
   "cell_type": "markdown",
   "metadata": {},
   "source": [
    "### Missing data\n",
    "It can already be seen, that there is no missing data."
   ]
  },
  {
   "cell_type": "markdown",
   "metadata": {},
   "source": [
    "### Duplicates"
   ]
  },
  {
   "cell_type": "code",
   "execution_count": 6,
   "metadata": {},
   "outputs": [
    {
     "name": "stdout",
     "output_type": "stream",
     "text": [
      "There are 0 duplicated entries.\n"
     ]
    }
   ],
   "source": [
    "#check for duplicates\n",
    "dublicated_entries = twitterdata.duplicated(keep = False)\n",
    "print(\"There are \" + str(dublicated_entries.sum()) + \" duplicated entries.\")"
   ]
  },
  {
   "cell_type": "code",
   "execution_count": 7,
   "metadata": {},
   "outputs": [
    {
     "name": "stdout",
     "output_type": "stream",
     "text": [
      "There are 258 duplicated text of tweets.\n"
     ]
    }
   ],
   "source": [
    "#check for duplicate texts\n",
    "dublicated_text = twitterdata.loc[:, [\"text\"]].duplicated(keep = False)\n",
    "print(\"There are \" + str(dublicated_text.sum()) + \" duplicated text of tweets.\")"
   ]
  },
  {
   "cell_type": "code",
   "execution_count": 8,
   "metadata": {
    "scrolled": true
   },
   "outputs": [
    {
     "name": "stdout",
     "output_type": "stream",
     "text": [
      "                 source                                               text  \\\n",
      "271  Twitter for iPhone  White House news conference at 5:30 P.M. Easte...   \n",
      "235  Twitter for iPhone  So now the Fake News @nytimes is tracing the C...   \n",
      "230  Twitter for iPhone  So now the Fake News @nytimes is tracing the C...   \n",
      "222  Twitter for iPhone                                      HAPPY EASTER!   \n",
      "121  Twitter for iPhone  I will be having a White House Press Conferenc...   \n",
      "106  Twitter for iPhone  I will be having a White House Press Conferenc...   \n",
      "95   Twitter for iPhone  I will be having a White House Press Conferenc...   \n",
      "86   Twitter for iPhone  I will be having a White House Press Conferenc...   \n",
      "55   Twitter for iPhone  I will be having a White House Press Conferenc...   \n",
      "14   Twitter for iPhone  I will be having a White House Press Conferenc...   \n",
      "\n",
      "                   created_at  retweet_count               id_str  \n",
      "271 2020-04-08 20:37:12+00:00          13670  1247986878307078144  \n",
      "235 2020-04-11 22:22:58+00:00            953  1249100658692648960  \n",
      "230 2020-04-11 23:34:58+00:00          43212  1249118778404765696  \n",
      "222 2020-04-12 14:21:55+00:00          62512  1249341983702876160  \n",
      "121 2020-04-20 20:19:36+00:00          18797  1252331100367663104  \n",
      "106 2020-04-21 19:59:55+00:00          18003  1252688538069618688  \n",
      "95  2020-04-22 20:53:43+00:00          15851  1253064464053739520  \n",
      "86  2020-04-23 20:53:22+00:00          13476  1253426762928668672  \n",
      "55  2020-04-24 20:51:16+00:00          13732  1253788620642750464  \n",
      "14  2020-04-27 20:58:59+00:00          16139  1254877727804600320  \n"
     ]
    }
   ],
   "source": [
    "#show tweets with duplicated text.\n",
    "print(twitterdata[dublicated_text].sort_values(by='created_at').tail(10))"
   ]
  },
  {
   "cell_type": "markdown",
   "metadata": {},
   "source": [
    "There are a few dupplicated text, which will be analyzed further. It can be seen that there are text that are repeated, like \"MAKE AMERICA GREAT AGAIN\" which are not a problem. But on the other site there are text, which seem like they were deleted and reposted later. It is difficult to check which one them is a real retweet and which of them was deleted. Therefore it is out of scope in this project to delete the tweets."
   ]
  },
  {
   "cell_type": "markdown",
   "metadata": {},
   "source": [
    "### Check the target class retweet_count\n",
    "The target class is the number of retweets of a tweet. This is represented in the data as integer (int64)."
   ]
  },
  {
   "cell_type": "code",
   "execution_count": 9,
   "metadata": {},
   "outputs": [
    {
     "name": "stdout",
     "output_type": "stream",
     "text": [
      "The maximal retweet value is 369530.\n"
     ]
    }
   ],
   "source": [
    "#maximum of the retweet value\n",
    "print(\"The maximal retweet value is \" + str(twitterdata.loc[:,'retweet_count'].max()) + \".\" )"
   ]
  },
  {
   "cell_type": "markdown",
   "metadata": {},
   "source": [
    "Seems legitimate so far."
   ]
  },
  {
   "cell_type": "code",
   "execution_count": 10,
   "metadata": {},
   "outputs": [
    {
     "name": "stdout",
     "output_type": "stream",
     "text": [
      "The minimal retweet value is 0.\n"
     ]
    }
   ],
   "source": [
    "#minimum of the retweet value\n",
    "print(\"The minimal retweet value is \" + str(twitterdata.loc[:,'retweet_count'].min()) + \".\" )"
   ]
  },
  {
   "cell_type": "markdown",
   "metadata": {},
   "source": [
    "Seems like there is an outlier here. One hypothesis is that these are the tweets which are deleted and appear two times in the dataset. It cannot be finally confirmed, since we do not have a label for deleted tweets and not every tweet, which was deleted is tweeted again later. If you go back to the site http://www.trumptwitterarchive.com/archive you can see that every tweet here is not availabe anymore. It was probably posted and shortly after deleted. For example one tweet has 0 retweets, which is deleted. But Trump posted the exact same tweet one minute after this tweet and it got 8000 retweets: https://twitter.com/realdonaldtrump/status/1235034836705959936."
   ]
  },
  {
   "cell_type": "code",
   "execution_count": 11,
   "metadata": {},
   "outputs": [
    {
     "data": {
      "text/plain": [
       "count     13796.000000\n",
       "mean      19321.801392\n",
       "std       12886.352610\n",
       "min           0.000000\n",
       "25%       11940.750000\n",
       "50%       17183.000000\n",
       "75%       23882.000000\n",
       "max      369530.000000\n",
       "Name: retweet_count, dtype: float64"
      ]
     },
     "execution_count": 11,
     "metadata": {},
     "output_type": "execute_result"
    }
   ],
   "source": [
    "#other summary statistics\n",
    "twitterdata.loc[:,'retweet_count'].describe()"
   ]
  },
  {
   "cell_type": "markdown",
   "metadata": {},
   "source": [
    "So far so good it looks like there is an skewed distribution of the values."
   ]
  },
  {
   "cell_type": "code",
   "execution_count": 12,
   "metadata": {},
   "outputs": [
    {
     "data": {
      "image/png": "[encoded data removed]",
      "text/plain": [
       "<Figure size 432x288 with 1 Axes>"
      ]
     },
     "metadata": {
      "needs_background": "light"
     },
     "output_type": "display_data"
    }
   ],
   "source": [
    "#visualize the retweet frequenzy as histogramm\n",
    "import matplotlib.pyplot as plt\n",
    "plt.hist(twitterdata[\"retweet_count\"], bins = 100)\n",
    "plt.xlabel('Retweets', fontsize=16)\n",
    "plt.ylabel('Count', fontsize=16)\n",
    "plt.show()"
   ]
  },
  {
   "cell_type": "markdown",
   "metadata": {},
   "source": [
    "It can be seen that there is an highly skewed distribution with an long tail. First visual impression shows an one sided truncated normal distribution."
   ]
  },
  {
   "cell_type": "code",
   "execution_count": 13,
   "metadata": {},
   "outputs": [
    {
     "data": {
      "image/png": "[encoded data removed]",
      "text/plain": [
       "<Figure size 432x288 with 1 Axes>"
      ]
     },
     "metadata": {
      "needs_background": "light"
     },
     "output_type": "display_data"
    },
    {
     "name": "stdout",
     "output_type": "stream",
     "text": [
      "Median for retweets: 17167.0\n"
     ]
    }
   ],
   "source": [
    "#visualize the retweet frequenzy as histogramm for retweet_count < 100.000\n",
    "twitterdata_truncated = twitterdata[twitterdata[\"retweet_count\"] < 100000].loc[:, \"retweet_count\"]\n",
    "plt.hist(twitterdata_truncated, bins = 100, color=\"skyblue\", edgecolor='grey')\n",
    "plt.axvline(twitterdata_truncated.median(), color='black', linestyle='dashed', linewidth=1.5, label='median = ' + \n",
    "            str(round(twitterdata_truncated.median())))\n",
    "plt.xlabel('No. of retweets', fontsize=10)\n",
    "plt.ylabel('No. of tweets', fontsize=10)\n",
    "plt.box(False)\n",
    "plt.grid()\n",
    "plt.legend()\n",
    "plt.savefig(\"retweets.png\")\n",
    "plt.show()\n",
    "\n",
    "print(\"Median for retweets: \" + str(twitterdata_truncated.median()) )"
   ]
  },
  {
   "cell_type": "markdown",
   "metadata": {},
   "source": [
    "Seems like the inital hypothesis is confirmed."
   ]
  },
  {
   "cell_type": "code",
   "execution_count": 14,
   "metadata": {
    "scrolled": true
   },
   "outputs": [
    {
     "data": {
      "image/png": "[encoded data removed]",
      "text/plain": [
       "<Figure size 432x288 with 1 Axes>"
      ]
     },
     "metadata": {
      "needs_background": "light"
     },
     "output_type": "display_data"
    }
   ],
   "source": [
    "#visualize the retweet frequenzy as histogramm for retweet_count > 100.000\n",
    "twitterdata_truncated = twitterdata[twitterdata[\"retweet_count\"] > 100000].loc[:, \"retweet_count\"]\n",
    "plt.hist(twitterdata_truncated, bins = 100)\n",
    "plt.axvline(twitterdata_truncated.median(), color='k', linestyle='dashed', linewidth=1)\n",
    "plt.xlabel('Retweets', fontsize=16)\n",
    "plt.ylabel('Count', fontsize=16)\n",
    "plt.show()"
   ]
  },
  {
   "cell_type": "markdown",
   "metadata": {},
   "source": [
    "There seems nothing wrong here."
   ]
  },
  {
   "cell_type": "code",
   "execution_count": 15,
   "metadata": {},
   "outputs": [
    {
     "data": {
      "image/png": "[encoded data removed]",
      "text/plain": [
       "<Figure size 432x288 with 1 Axes>"
      ]
     },
     "metadata": {
      "needs_background": "light"
     },
     "output_type": "display_data"
    }
   ],
   "source": [
    "#visualize the retweet frequenzy as histogramm for retweet_count < 1.000\n",
    "twitterdata_truncated = twitterdata[twitterdata[\"retweet_count\"] < 1000].loc[:, \"retweet_count\"]\n",
    "plt.hist(twitterdata_truncated, bins = 100)\n",
    "plt.axvline(twitterdata_truncated.median(), color='k', linestyle='dashed', linewidth=1)\n",
    "plt.xlabel('Retweets', fontsize=16)\n",
    "plt.ylabel('Count', fontsize=16)\n",
    "plt.show()"
   ]
  },
  {
   "cell_type": "markdown",
   "metadata": {},
   "source": [
    "Seems like there especially many tweets that have retweet count 0. These will most likely be deleted tweets. The rest could also be deleted tweets."
   ]
  },
  {
   "cell_type": "markdown",
   "metadata": {},
   "source": [
    "The first analysis of the retweet count shows that the data is so far so good. The only problem are the potentially deleted tweet, which cannot be analyzed in this first project."
   ]
  },
  {
   "cell_type": "markdown",
   "metadata": {},
   "source": [
    "### Check the attribute source\n",
    "This is represented in the data as strings (object)."
   ]
  },
  {
   "cell_type": "code",
   "execution_count": 16,
   "metadata": {},
   "outputs": [
    {
     "name": "stdout",
     "output_type": "stream",
     "text": [
      "There are 8 distinct values.\n"
     ]
    }
   ],
   "source": [
    "#check how many distinct values there are. \n",
    "twitterdata_source_unique = twitterdata.loc[:,'source'].unique()\n",
    "print(\"There are \" + str(twitterdata_source_unique .size) + \" distinct values.\")"
   ]
  },
  {
   "cell_type": "code",
   "execution_count": 17,
   "metadata": {},
   "outputs": [
    {
     "name": "stdout",
     "output_type": "stream",
     "text": [
      "The different values are:\n",
      "['Twitter for iPhone' 'Twitter Media Studio' 'Twitter Web App'\n",
      " 'Twitter Web Client' 'Twitter for iPad' 'Media Studio' 'Twitter Ads'\n",
      " 'Twitter for Android']\n"
     ]
    }
   ],
   "source": [
    "#show the different values\n",
    "print(\"The different values are:\")\n",
    "print(twitterdata_source_unique)"
   ]
  },
  {
   "cell_type": "code",
   "execution_count": 18,
   "metadata": {},
   "outputs": [
    {
     "name": "stdout",
     "output_type": "stream",
     "text": [
      "source\n",
      "Media Studio              155\n",
      "Twitter Ads                33\n",
      "Twitter Media Studio      164\n",
      "Twitter Web App             4\n",
      "Twitter Web Client         48\n",
      "Twitter for Android       173\n",
      "Twitter for iPad           35\n",
      "Twitter for iPhone      13184\n",
      "Name: retweet_count, dtype: int64\n"
     ]
    }
   ],
   "source": [
    "#show the frequency of the different values\n",
    "twitterdata_source_frequency = twitterdata.groupby(by = \"source\").count().loc[:,\"retweet_count\"]\n",
    "print(twitterdata_source_frequency)"
   ]
  },
  {
   "cell_type": "markdown",
   "metadata": {},
   "source": [
    "It can be seen that there are very infrequent classes. It has to be seen, if these should be binned into on class or if they have prediction power. Therefore the next step is to analyze the retweet count based on the source."
   ]
  },
  {
   "cell_type": "code",
   "execution_count": 19,
   "metadata": {},
   "outputs": [
    {
     "data": {
      "image/png": "[encoded data removed]",
      "text/plain": [
       "<Figure size 720x864 with 8 Axes>"
      ]
     },
     "metadata": {
      "needs_background": "light"
     },
     "output_type": "display_data"
    }
   ],
   "source": [
    "#visualize retweet count based on source\n",
    "twitterdata_source_hist = twitterdata.hist(column='retweet_count', by='source', bins=100, grid=False, figsize=(10,12), layout=(4,2))"
   ]
  },
  {
   "cell_type": "code",
   "execution_count": 20,
   "metadata": {},
   "outputs": [
    {
     "data": {
      "image/png": "[encoded data removed]",
      "text/plain": [
       "<Figure size 1152x432 with 1 Axes>"
      ]
     },
     "metadata": {
      "needs_background": "light"
     },
     "output_type": "display_data"
    }
   ],
   "source": [
    "#use boxplots for more clear results\n",
    "twitterdata_source_boxplot = twitterdata[twitterdata[\"retweet_count\"] < 100000].boxplot(column='retweet_count', by='source', figsize = (16,6))"
   ]
  },
  {
   "cell_type": "markdown",
   "metadata": {},
   "source": [
    "Seems like there are differences. Binn the most infrequent values to show more significant results. "
   ]
  },
  {
   "cell_type": "code",
   "execution_count": 21,
   "metadata": {},
   "outputs": [],
   "source": [
    "#bin values\n",
    "twitterdata['source_binned'] = twitterdata[\"source\"].replace({'Media Studio': 'Video', 'Twitter Media Studio': 'Video',\n",
    "                                                              'Twitter Ads' : \"others\", 'Twitter Web App' : 'others',\n",
    "                                                              'Twitter Web Client' : 'others', 'Twitter for iPad' : 'others'\n",
    "                                                             }).astype('category').cat.codes"
   ]
  },
  {
   "cell_type": "code",
   "execution_count": 22,
   "metadata": {
    "scrolled": true
   },
   "outputs": [
    {
     "data": {
      "image/png": "[encoded data removed]",
      "text/plain": [
       "<Figure size 1152x432 with 1 Axes>"
      ]
     },
     "metadata": {
      "needs_background": "light"
     },
     "output_type": "display_data"
    }
   ],
   "source": [
    "#visualy compare the two categories\n",
    "twitterdata_source_boxplot = twitterdata[twitterdata[\"retweet_count\"] < 100000].boxplot(column='retweet_count', by='source_binned', figsize = (16,6))"
   ]
  },
  {
   "cell_type": "markdown",
   "metadata": {},
   "source": [
    "That looks more promising."
   ]
  },
  {
   "cell_type": "code",
   "execution_count": 23,
   "metadata": {},
   "outputs": [],
   "source": [
    "twitterdata = twitterdata.drop(\"source\", axis=1)"
   ]
  },
  {
   "cell_type": "markdown",
   "metadata": {},
   "source": [
    "### Check the attribute created_at\n",
    "This is represented in the data as time (datetime64[ns, UTC])."
   ]
  },
  {
   "cell_type": "code",
   "execution_count": 24,
   "metadata": {},
   "outputs": [
    {
     "data": {
      "text/plain": [
       "count                         13796\n",
       "unique                        13411\n",
       "top       2019-06-09 12:26:37+00:00\n",
       "freq                              4\n",
       "first     2017-01-20 00:40:51+00:00\n",
       "last      2020-04-29 14:55:22+00:00\n",
       "Name: created_at, dtype: object"
      ]
     },
     "execution_count": 24,
     "metadata": {},
     "output_type": "execute_result"
    }
   ],
   "source": [
    "#check the basis statistics\n",
    "twitterdata.loc[:,'created_at'].describe()"
   ]
  },
  {
   "cell_type": "markdown",
   "metadata": {},
   "source": [
    "The data range is the targeted. What is noticable that there non unique values. These are further investigated. "
   ]
  },
  {
   "cell_type": "code",
   "execution_count": 25,
   "metadata": {},
   "outputs": [
    {
     "name": "stdout",
     "output_type": "stream",
     "text": [
      "There are 733 duplicated dates of tweets.\n"
     ]
    }
   ],
   "source": [
    "#show tweets with duplicated dates.\n",
    "dublicated_text = twitterdata.loc[:, [\"created_at\"]].duplicated(keep = False)\n",
    "print(\"There are \" + str(dublicated_text.sum()) + \" duplicated dates of tweets.\")"
   ]
  },
  {
   "cell_type": "code",
   "execution_count": 26,
   "metadata": {},
   "outputs": [
    {
     "name": "stdout",
     "output_type": "stream",
     "text": [
      "                                                    text  \\\n",
      "13184             Big win in Montana for Republicans! We   \n",
      "13183  Just arrived in Italy after having a very succ...   \n",
      "11014  Looks like Jerry Brown and California are not ...   \n",
      "11015  So many people are seeing the benefits of the ...   \n",
      "11009  Today’s Court decision means that Congress mus...   \n",
      "11010  ....Congress – House and Senate must quickly p...   \n",
      "\n",
      "                     created_at  retweet_count              id_str  \\\n",
      "13184 2017-05-28 11:57:20+00:00            428  868798339676086272   \n",
      "13183 2017-05-28 11:57:20+00:00            416  868798339671830528   \n",
      "11014 2018-04-17 12:24:36+00:00          15332  986218870506754048   \n",
      "11015 2018-04-17 12:24:36+00:00          15379  986218871991492608   \n",
      "11009 2018-04-17 21:34:23+00:00          15804  986357228306354176   \n",
      "11010 2018-04-17 21:34:23+00:00          13120  986357230219022336   \n",
      "\n",
      "       source_binned  \n",
      "13184              1  \n",
      "13183              1  \n",
      "11014              1  \n",
      "11015              1  \n",
      "11009              1  \n",
      "11010              1  \n"
     ]
    }
   ],
   "source": [
    "#check for duplicate texts\n",
    "print(twitterdata[dublicated_text].sort_values(by='created_at').head(6))"
   ]
  },
  {
   "cell_type": "markdown",
   "metadata": {},
   "source": [
    "Seems like there is no fixable mistake with the duplicated dates."
   ]
  },
  {
   "cell_type": "markdown",
   "metadata": {},
   "source": [
    "Since the data is in UTC +00, it needs to be changed eastern time zone, washington -5."
   ]
  },
  {
   "cell_type": "code",
   "execution_count": 27,
   "metadata": {},
   "outputs": [],
   "source": [
    "#change timezone \n",
    "twitterdata['created_at_utc'] = twitterdata['created_at']\n",
    "twitterdata['created_at'] = pd.DatetimeIndex(twitterdata['created_at']).tz_convert('America/New_York')"
   ]
  },
  {
   "cell_type": "markdown",
   "metadata": {},
   "source": [
    "It is the best guess to change the time to Washington time zone. If he is in other time zones it can not be seen. It also does not necessary have an real impact, since the time difference remains the same. "
   ]
  },
  {
   "cell_type": "code",
   "execution_count": 28,
   "metadata": {},
   "outputs": [],
   "source": [
    "#create hour of the day and date as attributes\n",
    "twitterdata['created_at_hour'] = twitterdata[\"created_at\"].dt.hour.astype('category').cat.codes\n",
    "twitterdata['created_at_date'] = twitterdata[\"created_at\"].dt.date"
   ]
  },
  {
   "cell_type": "code",
   "execution_count": 29,
   "metadata": {},
   "outputs": [
    {
     "data": {
      "image/png": "[encoded data removed]",
      "text/plain": [
       "<Figure size 864x360 with 2 Axes>"
      ]
     },
     "metadata": {
      "needs_background": "light"
     },
     "output_type": "display_data"
    }
   ],
   "source": [
    "#check if there a times where no data is available \n",
    "import matplotlib.dates as mdates\n",
    "from matplotlib.ticker import MaxNLocator\n",
    "from matplotlib.legend_handler import HandlerLine2D\n",
    "#check if there a times where no data is available \n",
    "retweets = twitterdata.groupby(\"created_at_date\").sum().loc[:,\"retweet_count\"]\n",
    "fig, ax1 = plt.subplots(figsize=(12, 5))\n",
    "ax1.plot(retweets)\n",
    "ax1.plot(retweets, label = 'number of retweets')\n",
    "ax1.xaxis.set_major_formatter(mdates.DateFormatter('%Y-%m'))\n",
    "ax1.legend(loc=0)\n",
    "ax1.set_ylabel(\"no. of retweets\")\n",
    "plt.box(False)\n",
    "ax1.xaxis.set_major_locator(MaxNLocator(20))\n",
    "ax2 = ax1.twinx() \n",
    "tweets = twitterdata.groupby(\"created_at_date\").count().loc[:,\"retweet_count\"]\n",
    "ax2.plot(tweets, label = 'number of tweets')\n",
    "ax2.legend(loc=0)\n",
    "fig.autofmt_xdate()\n",
    "plt.xlabel('date', fontsize=10)\n",
    "plt.ylabel('no. of tweets', fontsize=10)\n",
    "plt.box(False)\n",
    "plt.grid()\n",
    "plt.savefig(\"created_at.png\")"
   ]
  },
  {
   "cell_type": "markdown",
   "metadata": {},
   "source": [
    "Seems like there are no relevant timeperiods without tweets. "
   ]
  },
  {
   "cell_type": "code",
   "execution_count": 30,
   "metadata": {},
   "outputs": [
    {
     "data": {
      "image/png": "[encoded data removed]",
      "text/plain": [
       "<Figure size 1152x432 with 1 Axes>"
      ]
     },
     "metadata": {
      "needs_background": "light"
     },
     "output_type": "display_data"
    }
   ],
   "source": [
    "#check if time of the day is relevant feature\n",
    "twitterdata_source_boxplot = twitterdata[twitterdata[\"retweet_count\"] < 100000].boxplot(column='retweet_count', by='created_at_hour', figsize = (16,6))"
   ]
  },
  {
   "cell_type": "markdown",
   "metadata": {},
   "source": [
    "There a no immense differences but small changes. Therefore the values are binned into times of day."
   ]
  },
  {
   "cell_type": "code",
   "execution_count": 31,
   "metadata": {},
   "outputs": [],
   "source": [
    "#create feature times of day\n",
    "twitterdata[\"created_at_daytime\"] = pd.cut(twitterdata['created_at_hour'],[0,6,12,18,24], labels = ['Night', 'Morning', 'Afternoon', 'Evening'],include_lowest=True).cat.codes"
   ]
  },
  {
   "cell_type": "code",
   "execution_count": 32,
   "metadata": {},
   "outputs": [
    {
     "data": {
      "image/png": "[encoded data removed]",
      "text/plain": [
       "<Figure size 1152x432 with 1 Axes>"
      ]
     },
     "metadata": {
      "needs_background": "light"
     },
     "output_type": "display_data"
    }
   ],
   "source": [
    "#show impact of feature times of day\n",
    "twitterdata_source_daytime_boxplot = twitterdata[twitterdata[\"retweet_count\"] < 100000].boxplot(column='retweet_count', by='created_at_daytime', figsize = (16,6))"
   ]
  },
  {
   "cell_type": "code",
   "execution_count": 33,
   "metadata": {},
   "outputs": [],
   "source": [
    "#create feature day of the week\n",
    "twitterdata[\"created_at_weekday\"] = twitterdata[\"created_at\"].dt.day_name().astype('category').cat.codes"
   ]
  },
  {
   "cell_type": "code",
   "execution_count": 34,
   "metadata": {},
   "outputs": [
    {
     "data": {
      "image/png": "[encoded data removed]",
      "text/plain": [
       "<Figure size 1152x432 with 1 Axes>"
      ]
     },
     "metadata": {
      "needs_background": "light"
     },
     "output_type": "display_data"
    }
   ],
   "source": [
    "#show impact of feature day of the week\n",
    "twitterdata_source_weekday_boxplot = twitterdata[twitterdata[\"retweet_count\"] < 100000].boxplot(column='retweet_count', by='created_at_weekday', figsize = (16,6))"
   ]
  },
  {
   "cell_type": "code",
   "execution_count": 35,
   "metadata": {},
   "outputs": [],
   "source": [
    "#create feature month\n",
    "twitterdata[\"created_at_month\"] = twitterdata[\"created_at\"].dt.month.astype('category').cat.codes"
   ]
  },
  {
   "cell_type": "code",
   "execution_count": 36,
   "metadata": {},
   "outputs": [
    {
     "data": {
      "image/png": "[encoded data removed]",
      "text/plain": [
       "<Figure size 1152x432 with 1 Axes>"
      ]
     },
     "metadata": {
      "needs_background": "light"
     },
     "output_type": "display_data"
    }
   ],
   "source": [
    "#show impact of feature month\n",
    "twitterdata_source_month_boxplot = twitterdata[twitterdata[\"retweet_count\"] < 100000].boxplot(column='retweet_count', by= 'created_at_month', figsize = (16,6))"
   ]
  },
  {
   "cell_type": "code",
   "execution_count": 37,
   "metadata": {},
   "outputs": [],
   "source": [
    "#create feature age of the tweet in days\n",
    "from pytz import timezone\n",
    "from datetime import datetime\n",
    "date_inaguration = datetime(2017, 1, 20, 0, 0, 1).astimezone(timezone(\"America/New_York\")) #the date Trump was inaugurated\n",
    "twitterdata['created_at_age_days'] = (twitterdata['created_at'] - date_inaguration).dt.days\n",
    "twitterdata['created_at_age_months'] = round((twitterdata['created_at'] - date_inaguration).dt.days/30,0)"
   ]
  },
  {
   "cell_type": "code",
   "execution_count": 38,
   "metadata": {},
   "outputs": [
    {
     "data": {
      "text/plain": [
       "<matplotlib.axes._subplots.AxesSubplot at 0x11889d450>"
      ]
     },
     "execution_count": 38,
     "metadata": {},
     "output_type": "execute_result"
    },
    {
     "data": {
      "image/png": "[encoded data removed]",
      "text/plain": [
       "<Figure size 432x288 with 1 Axes>"
      ]
     },
     "metadata": {
      "needs_background": "light"
     },
     "output_type": "display_data"
    }
   ],
   "source": [
    "#plot the development of retweets median per month\n",
    "twitterdata.groupby(\"created_at_age_months\").median()[\"retweet_count\"].plot.line()"
   ]
  },
  {
   "cell_type": "markdown",
   "metadata": {},
   "source": [
    "Seems like this will be a good feature later."
   ]
  },
  {
   "cell_type": "code",
   "execution_count": 39,
   "metadata": {},
   "outputs": [],
   "source": [
    "twitterdata = twitterdata.drop([\"created_at\",\"created_at_utc\",\"created_at_date\",\"created_at_age_months\"], axis=1)"
   ]
  },
  {
   "cell_type": "markdown",
   "metadata": {},
   "source": [
    "### Check the attribute  id_str  \n",
    "This is represented in the data as integer (integer64)."
   ]
  },
  {
   "cell_type": "code",
   "execution_count": 40,
   "metadata": {},
   "outputs": [
    {
     "name": "stdout",
     "output_type": "stream",
     "text": [
      "This is a unique identifier.\n"
     ]
    }
   ],
   "source": [
    "#check if this is a unique identifier\n",
    "if twitterdata[\"id_str\"].nunique() == twitterdata.shape[0]:\n",
    "    print(\"This is a unique identifier.\")"
   ]
  },
  {
   "cell_type": "code",
   "execution_count": 41,
   "metadata": {},
   "outputs": [],
   "source": [
    "#drop id_str\n",
    "twitterdata = twitterdata.drop(\"id_str\", axis = 1)"
   ]
  },
  {
   "cell_type": "markdown",
   "metadata": {},
   "source": [
    "It is not needed anymore."
   ]
  },
  {
   "cell_type": "markdown",
   "metadata": {},
   "source": [
    "### Check the attribute text \n",
    "This is represented in the data as strings (object)."
   ]
  },
  {
   "cell_type": "code",
   "execution_count": 42,
   "metadata": {},
   "outputs": [
    {
     "data": {
      "text/plain": [
       "count                         13796\n",
       "unique                        13638\n",
       "top       MAKE AMERICA GREAT AGAIN!\n",
       "freq                             22\n",
       "Name: text, dtype: object"
      ]
     },
     "execution_count": 42,
     "metadata": {},
     "output_type": "execute_result"
    }
   ],
   "source": [
    "#short summary of the attribute\n",
    "twitterdata['text'].describe()"
   ]
  },
  {
   "cell_type": "markdown",
   "metadata": {},
   "source": [
    "The topic of duplicated entries was already discussed before. "
   ]
  },
  {
   "cell_type": "markdown",
   "metadata": {},
   "source": [
    "Now it needs to be understood how the strings are decoded and and how\n",
    "* videos\n",
    "* smiley\n",
    "* hashtags\n",
    "* mentions\n",
    "* urls\n",
    "* images\n",
    "\n",
    "are stored"
   ]
  },
  {
   "cell_type": "markdown",
   "metadata": {},
   "source": [
    "#### Video \n",
    "All tweets by Twitter Media Studio or Media Studio contain self hosted videos.These are already included as feature in source_binned."
   ]
  },
  {
   "cell_type": "markdown",
   "metadata": {},
   "source": [
    "#### Smileys\n",
    "Smiley will be taken as feature trough the tokenization. A next step would be to check the meaning of the smileys and order them into a new category."
   ]
  },
  {
   "cell_type": "markdown",
   "metadata": {},
   "source": [
    "####  Hashtags\n",
    "Extract hastages with regex. Will be implemented in a function to make it possible to include it in cross-validation."
   ]
  },
  {
   "cell_type": "code",
   "execution_count": 43,
   "metadata": {},
   "outputs": [],
   "source": [
    "#extract hashtags\n",
    "import re\n",
    "#define function to get hashtags\n",
    "def hashtags(text):\n",
    "    pattern = re.compile(r\"#(\\w+)\")\n",
    "    hashtags = pattern.findall(text)\n",
    "    return hashtags\n",
    "\n",
    "#apply to dataset\n",
    "twitterdata['hashtag_content'] =  twitterdata.apply(lambda x: hashtags(x['text']), axis=1)\n",
    "\n",
    "#if tweet contains hashtag (boolean)\n",
    "twitterdata['hashtag_included'] =  twitterdata.apply(lambda x: int(len(x['hashtag_content']) > 0) , axis=1)\n",
    "\n",
    "# number of hashtags\n",
    "twitterdata['hashtag_number'] =  twitterdata.apply(lambda x: len(x['hashtag_content']), axis=1)"
   ]
  },
  {
   "cell_type": "code",
   "execution_count": 44,
   "metadata": {},
   "outputs": [],
   "source": [
    "#define function build dictionary to search for most used hashtags \n",
    "import string\n",
    "\n",
    "def create_dictionary_hashtags(data):\n",
    "    dictionary_hashtags = {} #initialize empy dictionary\n",
    "    \n",
    "    def remove_punctuation_hsht(text):\n",
    "        for punctuation in string.punctuation:\n",
    "            if punctuation != '#': # leave exclamation mark\n",
    "                text = text.replace(punctuation, '')\n",
    "        return text\n",
    "    \n",
    "    twitterdata['hashtag_content'] =  twitterdata.apply(lambda x: remove_punctuation_hsht(x['text']), axis=1)\n",
    "   \n",
    "    #build dictionary\n",
    "    for i in data.index:\n",
    "        tweet_text = data['text'][i]\n",
    "        tweet_text_tokenized = tweet_text.split()\n",
    "    \n",
    "        #check for hashtags\n",
    "        for word in tweet_text_tokenized:\n",
    "            if (word[0:1] == '#' and len(word) > 1):\n",
    "                if word in dictionary_hashtags:\n",
    "                    dictionary_hashtags[word] += 1\n",
    "                else:\n",
    "                    dictionary_hashtags[word] = 1\n",
    "                    \n",
    "\n",
    "    #transform to dataframe\n",
    "    dataframe_hashtags = pd.DataFrame(dictionary_hashtags.items(), columns=['Hashtag', 'occurences'])\n",
    "    \n",
    "    #return dataframe\n",
    "    return dataframe_hashtags"
   ]
  },
  {
   "cell_type": "code",
   "execution_count": 45,
   "metadata": {},
   "outputs": [],
   "source": [
    "#build dictionary to search for most used hastags \n",
    "dataframe_hashtags = create_dictionary_hashtags(twitterdata)"
   ]
  },
  {
   "cell_type": "code",
   "execution_count": 46,
   "metadata": {},
   "outputs": [
    {
     "name": "stdout",
     "output_type": "stream",
     "text": [
      "There are 717 different hashtags.\n"
     ]
    },
    {
     "data": {
      "text/html": [
       "<div>\n",
       "<style scoped>\n",
       "    .dataframe tbody tr th:only-of-type {\n",
       "        vertical-align: middle;\n",
       "    }\n",
       "\n",
       "    .dataframe tbody tr th {\n",
       "        vertical-align: top;\n",
       "    }\n",
       "\n",
       "    .dataframe thead th {\n",
       "        text-align: right;\n",
       "    }\n",
       "</style>\n",
       "<table border=\"1\" class=\"dataframe\">\n",
       "  <thead>\n",
       "    <tr style=\"text-align: right;\">\n",
       "      <th></th>\n",
       "      <th>Hashtag</th>\n",
       "      <th>occurences</th>\n",
       "    </tr>\n",
       "  </thead>\n",
       "  <tbody>\n",
       "    <tr>\n",
       "      <th>1</th>\n",
       "      <td>#MAGA</td>\n",
       "      <td>168</td>\n",
       "    </tr>\n",
       "    <tr>\n",
       "      <th>21</th>\n",
       "      <td>#KAG2020</td>\n",
       "      <td>58</td>\n",
       "    </tr>\n",
       "    <tr>\n",
       "      <th>56</th>\n",
       "      <td>#MAGA🇺🇸</td>\n",
       "      <td>31</td>\n",
       "    </tr>\n",
       "    <tr>\n",
       "      <th>525</th>\n",
       "      <td>#USA🇺🇸</td>\n",
       "      <td>23</td>\n",
       "    </tr>\n",
       "    <tr>\n",
       "      <th>183</th>\n",
       "      <td>#Dorian</td>\n",
       "      <td>17</td>\n",
       "    </tr>\n",
       "    <tr>\n",
       "      <th>116</th>\n",
       "      <td>#1</td>\n",
       "      <td>15</td>\n",
       "    </tr>\n",
       "    <tr>\n",
       "      <th>27</th>\n",
       "      <td>#KAG</td>\n",
       "      <td>15</td>\n",
       "    </tr>\n",
       "    <tr>\n",
       "      <th>147</th>\n",
       "      <td>#FakeNews</td>\n",
       "      <td>14</td>\n",
       "    </tr>\n",
       "    <tr>\n",
       "      <th>167</th>\n",
       "      <td>#UNGA</td>\n",
       "      <td>13</td>\n",
       "    </tr>\n",
       "    <tr>\n",
       "      <th>10</th>\n",
       "      <td>#2A.</td>\n",
       "      <td>12</td>\n",
       "    </tr>\n",
       "  </tbody>\n",
       "</table>\n",
       "</div>"
      ],
      "text/plain": [
       "       Hashtag  occurences\n",
       "1        #MAGA         168\n",
       "21    #KAG2020          58\n",
       "56     #MAGA🇺🇸          31\n",
       "525     #USA🇺🇸          23\n",
       "183    #Dorian          17\n",
       "116         #1          15\n",
       "27        #KAG          15\n",
       "147  #FakeNews          14\n",
       "167      #UNGA          13\n",
       "10        #2A.          12"
      ]
     },
     "execution_count": 46,
     "metadata": {},
     "output_type": "execute_result"
    }
   ],
   "source": [
    "#analyze dataframe\n",
    "print(\"There are \" + str(dataframe_hashtags.shape[0]) + \" different hashtags.\")\n",
    "dataframe_hashtags.sort_values(\"occurences\", ascending = False).head(n = 10)"
   ]
  },
  {
   "cell_type": "code",
   "execution_count": 47,
   "metadata": {},
   "outputs": [],
   "source": [
    "twitterdata = twitterdata.drop(\"hashtag_content\", 1)"
   ]
  },
  {
   "cell_type": "markdown",
   "metadata": {},
   "source": [
    "Since the goal is to have a generalizable model, which extract actionable knowledge Hashtags with occurences smaller than a threshold will be ignored. The rest will be extracted and added as a feature."
   ]
  },
  {
   "cell_type": "markdown",
   "metadata": {},
   "source": [
    "A next possible step is to bin the hashtags in different categories. This is out of scope of this project."
   ]
  },
  {
   "cell_type": "markdown",
   "metadata": {},
   "source": [
    "#### Mentions\n",
    "Extract mentions with regex."
   ]
  },
  {
   "cell_type": "code",
   "execution_count": 48,
   "metadata": {},
   "outputs": [],
   "source": [
    "#extract mentions\n",
    "#define function to get mentions\n",
    "def mentions(text):\n",
    "    pattern = re.compile(r\"@(\\w+)\")\n",
    "    mentions = pattern.findall(text)\n",
    "    return mentions\n",
    "\n",
    "#apply to dataset\n",
    "twitterdata['mentions_content'] =  twitterdata.apply(lambda x: mentions(x['text']), axis=1)\n",
    "\n",
    "#if tweet contains hashtag (boolean)\n",
    "twitterdata['mentions_included'] =  twitterdata.apply(lambda x: int(len(x['mentions_content']) > 0) , axis=1)\n",
    "\n",
    "# number of hashtags\n",
    "twitterdata['mentions_number'] =  twitterdata.apply(lambda x: len(x['mentions_content']), axis=1)"
   ]
  },
  {
   "cell_type": "code",
   "execution_count": 49,
   "metadata": {},
   "outputs": [],
   "source": [
    "#define function build dictionary to search for most used mentions\n",
    "def create_dictionary_mentions(data):\n",
    "    dictionary_mentions = {} #initialize empy dictionary\n",
    "    \n",
    "    def remove_punctuation_mn(text):\n",
    "        for punctuation in string.punctuation:\n",
    "            if punctuation != '@': # leave exclamation mark\n",
    "                text = text.replace(punctuation, '')\n",
    "        return text\n",
    "    \n",
    "    twitterdata['text'] =  twitterdata.apply(lambda x: remove_punctuation_mn(x['text']), axis=1)\n",
    "    \n",
    "    #build dictionary\n",
    "    for i in data.index:\n",
    "        tweet_text = data['text'][i]\n",
    "        tweet_text_tokenized = tweet_text.split()\n",
    "    \n",
    "        #check for hashtags\n",
    "        for word in tweet_text_tokenized:\n",
    "            if (word[0:1] == '@' and len(word) > 1):\n",
    "                if word in dictionary_mentions:\n",
    "                    dictionary_mentions[word] += 1\n",
    "                else:\n",
    "                    dictionary_mentions[word] = 1\n",
    "\n",
    "    #transform to dataframe\n",
    "    dataframe_mentions = pd.DataFrame(dictionary_mentions.items(), columns=['Mentions', 'occurences'])\n",
    "    \n",
    "    #return dataframe\n",
    "    return dataframe_mentions"
   ]
  },
  {
   "cell_type": "code",
   "execution_count": 50,
   "metadata": {},
   "outputs": [],
   "source": [
    "#build dictionary to search for most used mentions\n",
    "dataframe_mentions = create_dictionary_mentions(twitterdata)"
   ]
  },
  {
   "cell_type": "code",
   "execution_count": 51,
   "metadata": {
    "scrolled": true
   },
   "outputs": [
    {
     "name": "stdout",
     "output_type": "stream",
     "text": [
      "There are 1506 different mentions.\n"
     ]
    },
    {
     "data": {
      "text/html": [
       "<div>\n",
       "<style scoped>\n",
       "    .dataframe tbody tr th:only-of-type {\n",
       "        vertical-align: middle;\n",
       "    }\n",
       "\n",
       "    .dataframe tbody tr th {\n",
       "        vertical-align: top;\n",
       "    }\n",
       "\n",
       "    .dataframe thead th {\n",
       "        text-align: right;\n",
       "    }\n",
       "</style>\n",
       "<table border=\"1\" class=\"dataframe\">\n",
       "  <thead>\n",
       "    <tr style=\"text-align: right;\">\n",
       "      <th></th>\n",
       "      <th>Mentions</th>\n",
       "      <th>occurences</th>\n",
       "    </tr>\n",
       "  </thead>\n",
       "  <tbody>\n",
       "    <tr>\n",
       "      <th>297</th>\n",
       "      <td>@realDonaldTrump</td>\n",
       "      <td>510</td>\n",
       "    </tr>\n",
       "    <tr>\n",
       "      <th>9</th>\n",
       "      <td>@FoxNews</td>\n",
       "      <td>325</td>\n",
       "    </tr>\n",
       "    <tr>\n",
       "      <th>83</th>\n",
       "      <td>@WhiteHouse</td>\n",
       "      <td>293</td>\n",
       "    </tr>\n",
       "    <tr>\n",
       "      <th>29</th>\n",
       "      <td>@foxandfriends</td>\n",
       "      <td>240</td>\n",
       "    </tr>\n",
       "    <tr>\n",
       "      <th>1</th>\n",
       "      <td>@nytimes</td>\n",
       "      <td>85</td>\n",
       "    </tr>\n",
       "    <tr>\n",
       "      <th>168</th>\n",
       "      <td>@FLOTUS</td>\n",
       "      <td>82</td>\n",
       "    </tr>\n",
       "    <tr>\n",
       "      <th>43</th>\n",
       "      <td>@seanhannity</td>\n",
       "      <td>80</td>\n",
       "    </tr>\n",
       "    <tr>\n",
       "      <th>358</th>\n",
       "      <td>@GOPChairwoman</td>\n",
       "      <td>79</td>\n",
       "    </tr>\n",
       "    <tr>\n",
       "      <th>332</th>\n",
       "      <td>@TomFitton</td>\n",
       "      <td>77</td>\n",
       "    </tr>\n",
       "    <tr>\n",
       "      <th>10</th>\n",
       "      <td>@CNN</td>\n",
       "      <td>76</td>\n",
       "    </tr>\n",
       "    <tr>\n",
       "      <th>88</th>\n",
       "      <td>@LouDobbs</td>\n",
       "      <td>74</td>\n",
       "    </tr>\n",
       "    <tr>\n",
       "      <th>249</th>\n",
       "      <td>@dbongino</td>\n",
       "      <td>74</td>\n",
       "    </tr>\n",
       "    <tr>\n",
       "      <th>17</th>\n",
       "      <td>@VP</td>\n",
       "      <td>73</td>\n",
       "    </tr>\n",
       "    <tr>\n",
       "      <th>302</th>\n",
       "      <td>@JimJordan</td>\n",
       "      <td>69</td>\n",
       "    </tr>\n",
       "    <tr>\n",
       "      <th>479</th>\n",
       "      <td>@JudicialWatch</td>\n",
       "      <td>67</td>\n",
       "    </tr>\n",
       "  </tbody>\n",
       "</table>\n",
       "</div>"
      ],
      "text/plain": [
       "             Mentions  occurences\n",
       "297  @realDonaldTrump         510\n",
       "9            @FoxNews         325\n",
       "83        @WhiteHouse         293\n",
       "29     @foxandfriends         240\n",
       "1            @nytimes          85\n",
       "168           @FLOTUS          82\n",
       "43       @seanhannity          80\n",
       "358    @GOPChairwoman          79\n",
       "332        @TomFitton          77\n",
       "10               @CNN          76\n",
       "88          @LouDobbs          74\n",
       "249         @dbongino          74\n",
       "17                @VP          73\n",
       "302        @JimJordan          69\n",
       "479    @JudicialWatch          67"
      ]
     },
     "execution_count": 51,
     "metadata": {},
     "output_type": "execute_result"
    }
   ],
   "source": [
    "#analyze dataframe\n",
    "print(\"There are \" + str(dataframe_mentions.shape[0]) + \" different mentions.\")\n",
    "dataframe_mentions.sort_values(\"occurences\", ascending = False).head(n = 15)"
   ]
  },
  {
   "cell_type": "markdown",
   "metadata": {},
   "source": [
    "Since the goal is to have a generalizable model, which extract actionable knowledge menntions with occurences of less than a treshold. will be ignored."
   ]
  },
  {
   "cell_type": "code",
   "execution_count": 52,
   "metadata": {},
   "outputs": [],
   "source": [
    "twitterdata = twitterdata.drop(\"mentions_content\", 1)"
   ]
  },
  {
   "cell_type": "markdown",
   "metadata": {},
   "source": [
    "A possible next step is to cluster the different mentioned users into groups like Republicans and Democrat. This is out of scope of this project."
   ]
  },
  {
   "cell_type": "markdown",
   "metadata": {},
   "source": [
    "#### Urls\n",
    "Extract urls."
   ]
  },
  {
   "cell_type": "code",
   "execution_count": 53,
   "metadata": {},
   "outputs": [],
   "source": [
    "#extract urls\n",
    "#define function to get urls\n",
    "def urls(text):\n",
    "    pattern = re.compile(r\"http\\S+\")\n",
    "    urls_content = pattern.findall(text)\n",
    "    return urls_content\n",
    "\n",
    "#apply to dataset\n",
    "twitterdata['urls_content'] =  twitterdata.apply(lambda x: urls(x['text']), axis=1)\n",
    "\n",
    "#if tweet contains url (boolean)\n",
    "twitterdata['urls_included'] =  twitterdata.apply(lambda x:  int(len(x['urls_content']) > 0) , axis=1)"
   ]
  },
  {
   "cell_type": "code",
   "execution_count": 54,
   "metadata": {},
   "outputs": [],
   "source": [
    "#build dictionary to search for most used urls\n",
    "dictionary_urls = {} #initialize empy dictionary\n",
    "\n",
    "#build dictionary\n",
    "for i in twitterdata.index:\n",
    "    tweet_text = twitterdata['text'][i]\n",
    "    tweet_text_tokenized = tweet_text.split()\n",
    "    \n",
    "    #check for hashtags\n",
    "    for word in tweet_text_tokenized:\n",
    "        if (word[0:4] == 'http'):\n",
    "            if word in dictionary_urls:\n",
    "                dictionary_urls[word] += 1\n",
    "            else:\n",
    "                dictionary_urls[word] = 1\n",
    "\n",
    "#transform to dataframe\n",
    "dataframe_urls = pd.DataFrame(dictionary_urls.items(), columns=['Url', 'occurences'])"
   ]
  },
  {
   "cell_type": "code",
   "execution_count": 55,
   "metadata": {},
   "outputs": [
    {
     "name": "stdout",
     "output_type": "stream",
     "text": [
      "There are 4165 different urls.\n"
     ]
    },
    {
     "data": {
      "text/html": [
       "<div>\n",
       "<style scoped>\n",
       "    .dataframe tbody tr th:only-of-type {\n",
       "        vertical-align: middle;\n",
       "    }\n",
       "\n",
       "    .dataframe tbody tr th {\n",
       "        vertical-align: top;\n",
       "    }\n",
       "\n",
       "    .dataframe thead th {\n",
       "        text-align: right;\n",
       "    }\n",
       "</style>\n",
       "<table border=\"1\" class=\"dataframe\">\n",
       "  <thead>\n",
       "    <tr style=\"text-align: right;\">\n",
       "      <th></th>\n",
       "      <th>Url</th>\n",
       "      <th>occurences</th>\n",
       "    </tr>\n",
       "  </thead>\n",
       "  <tbody>\n",
       "    <tr>\n",
       "      <th>945</th>\n",
       "      <td>https…</td>\n",
       "      <td>25</td>\n",
       "    </tr>\n",
       "    <tr>\n",
       "      <th>2630</th>\n",
       "      <td>httpstco0pWiwCHGbh</td>\n",
       "      <td>21</td>\n",
       "    </tr>\n",
       "    <tr>\n",
       "      <th>1154</th>\n",
       "      <td>httpst…</td>\n",
       "      <td>16</td>\n",
       "    </tr>\n",
       "    <tr>\n",
       "      <th>1296</th>\n",
       "      <td>httpstco…</td>\n",
       "      <td>11</td>\n",
       "    </tr>\n",
       "    <tr>\n",
       "      <th>1127</th>\n",
       "      <td>httpstc…</td>\n",
       "      <td>8</td>\n",
       "    </tr>\n",
       "  </tbody>\n",
       "</table>\n",
       "</div>"
      ],
      "text/plain": [
       "                     Url  occurences\n",
       "945               https…          25\n",
       "2630  httpstco0pWiwCHGbh          21\n",
       "1154             httpst…          16\n",
       "1296           httpstco…          11\n",
       "1127            httpstc…           8"
      ]
     },
     "execution_count": 55,
     "metadata": {},
     "output_type": "execute_result"
    }
   ],
   "source": [
    "#analyze dataframe\n",
    "print(\"There are \" + str(dataframe_urls.shape[0]) + \" different urls.\")\n",
    "dataframe_urls.sort_values(\"occurences\", ascending = False).head(n = 5)"
   ]
  },
  {
   "cell_type": "markdown",
   "metadata": {},
   "source": [
    "Seems like there is no real frequent urls. Therefore they will not be used further. A next possible step would be to check if the content of the urls contains valuable information. This is out of scope of this project."
   ]
  },
  {
   "cell_type": "code",
   "execution_count": 56,
   "metadata": {},
   "outputs": [],
   "source": [
    "twitterdata = twitterdata.drop(\"urls_content\", 1)"
   ]
  },
  {
   "cell_type": "markdown",
   "metadata": {},
   "source": [
    "#### Images\n",
    "Images could be possible detected by analysis of the url. This is out of scope for this project."
   ]
  },
  {
   "cell_type": "markdown",
   "metadata": {},
   "source": [
    "#### Text feature creation\n",
    "From the text there are many possibilities to create features."
   ]
  },
  {
   "cell_type": "code",
   "execution_count": 57,
   "metadata": {},
   "outputs": [],
   "source": [
    "#create feature length of tweets\n",
    "twitterdata[\"text_lenght\"] = twitterdata[\"text\"].apply(len)"
   ]
  },
  {
   "cell_type": "code",
   "execution_count": 58,
   "metadata": {},
   "outputs": [],
   "source": [
    "#create function find capslocked words\n",
    "def is_uppercase(text):\n",
    "    result = 0\n",
    "    for word in text.split():\n",
    "        if word.isupper() == True and len(word) > 1:\n",
    "            result = 1\n",
    "            break\n",
    "    return result\n",
    "    \n",
    "#create feature includes word in capslock\n",
    "twitterdata[\"capslock_contained\"] = twitterdata.apply(lambda x: is_uppercase(x['text']), axis=1)"
   ]
  },
  {
   "cell_type": "markdown",
   "metadata": {},
   "source": [
    "#### Preprocess text"
   ]
  },
  {
   "cell_type": "markdown",
   "metadata": {},
   "source": [
    "Define function which preprocess the text"
   ]
  },
  {
   "cell_type": "code",
   "execution_count": 59,
   "metadata": {},
   "outputs": [],
   "source": [
    "#remove urls \n",
    "def remove_urls(text):\n",
    "    return re.sub(r\"http\\S+\", '', text)"
   ]
  },
  {
   "cell_type": "code",
   "execution_count": 60,
   "metadata": {},
   "outputs": [],
   "source": [
    "#remove hashtags with words\n",
    "def remove_hashtags(text):\n",
    "    return re.sub(r\"#+\", '', text)"
   ]
  },
  {
   "cell_type": "code",
   "execution_count": 61,
   "metadata": {},
   "outputs": [],
   "source": [
    "#remove mentions with words\n",
    "def remove_mentions(text):\n",
    "        return re.sub(r\"@+\", '', text)"
   ]
  },
  {
   "cell_type": "code",
   "execution_count": 62,
   "metadata": {},
   "outputs": [],
   "source": [
    "# remove punctuation\n",
    "import string\n",
    "def remove_punctuations(text):\n",
    "    for punctuation in string.punctuation:\n",
    "        if punctuation != '!': # leave exclamation mark\n",
    "            text = text.replace(punctuation, '')\n",
    "    return text"
   ]
  },
  {
   "cell_type": "code",
   "execution_count": 63,
   "metadata": {},
   "outputs": [],
   "source": [
    "#remove numbers \n",
    "def remove_numbers(text):\n",
    "    return re.sub('[0-9]+', '', text)"
   ]
  },
  {
   "cell_type": "code",
   "execution_count": 64,
   "metadata": {},
   "outputs": [],
   "source": [
    "#remove special characters\n",
    "def remove_special(text):\n",
    "    for char in ['€','�','‡','†','‰','™','•','–', '—',]:\n",
    "        text = text.replace(char, '')\n",
    "    return text"
   ]
  },
  {
   "cell_type": "code",
   "execution_count": 65,
   "metadata": {},
   "outputs": [],
   "source": [
    "#make word lowercase\n",
    "def lower_case(text):\n",
    "    to_lowercase = lambda text: \" \".join(word if (word.isupper() == True & len(word) > 1) else word.lower()\n",
    "            for word in text.split())\n",
    "    lowercase = to_lowercase(text)   \n",
    "    return lowercase"
   ]
  },
  {
   "cell_type": "code",
   "execution_count": 66,
   "metadata": {},
   "outputs": [],
   "source": [
    "#remove stopwords\n",
    "from nltk.corpus import stopwords\n",
    "stop_w = stopwords.words('english')\n",
    "\n",
    "def remove_stopwords(text, stop):\n",
    "    remove_stop = lambda text: \" \".join(word for word in text.split() if word not in stop)\n",
    "    filtered = remove_stop(text)\n",
    "    return filtered"
   ]
  },
  {
   "cell_type": "markdown",
   "metadata": {},
   "source": [
    "#### Lemmatization text"
   ]
  },
  {
   "cell_type": "code",
   "execution_count": 67,
   "metadata": {},
   "outputs": [],
   "source": [
    "import nltk\n",
    "from nltk.stem import WordNetLemmatizer\n",
    "from nltk import word_tokenize\n",
    "\n",
    "#define function for lemmatization\n",
    "def lemmatize_text(text):\n",
    "    wordnet_lemmatizer = WordNetLemmatizer()\n",
    "    lemmatized_text = []\n",
    "    for word in text.split():\n",
    "        lemmatized_text.append(wordnet_lemmatizer.lemmatize(word,pos=\"v\"))\n",
    "    return \" \".join(lemmatized_text)"
   ]
  },
  {
   "cell_type": "markdown",
   "metadata": {},
   "source": [
    "It would be possible to work even more with the text and use thing like uppercase as a feature. Further methods like embeddings and further preprocessing could be applied to improve results. This is out of scope of this project."
   ]
  },
  {
   "cell_type": "markdown",
   "metadata": {},
   "source": [
    "## Feature selection\n",
    "\n",
    "Steps taken are:\n",
    "* took hashtags only with treshold amount of appearances\n",
    "* took mentions only with treshold amount of appearances\n",
    "* preprocess the text\n",
    "* took words only with treshold amount of appearances\n",
    "* select features based on kendall correlation measure\n",
    "\n",
    "To build a pipeline for cross-validation it is needed to change the preprocessing steps and the feature generation and selection process into classes. "
   ]
  },
  {
   "cell_type": "markdown",
   "metadata": {},
   "source": [
    "### Build classes"
   ]
  },
  {
   "cell_type": "code",
   "execution_count": 68,
   "metadata": {},
   "outputs": [],
   "source": [
    "from sklearn.base import BaseEstimator, TransformerMixin\n",
    "\n",
    "#define classes for the hashtag feature generation for the pipeline\n",
    "class generate_feature_hashtag_transformer(BaseEstimator, TransformerMixin):\n",
    "\n",
    "    #define init method\n",
    "    def __init__(self, treshold = 50):\n",
    "        self.treshold = treshold\n",
    "\n",
    "    #define fit method\n",
    "    def fit(self, data, y=None):\n",
    "        \n",
    "        #generate hashtag dictionary\n",
    "        data['hashtag_content'] = data.apply(lambda x: hashtags(x['text']), axis=1)\n",
    "        dataframe_hashtags = create_dictionary_hashtags(data)\n",
    "        self.index_threshold = dataframe_hashtags[dataframe_hashtags[\"occurences\"] > self.treshold][\"Hashtag\"]\n",
    "        \n",
    "        return self\n",
    "\n",
    "    #define transform method\n",
    "    def transform(self, data):\n",
    "        \n",
    "        if \"hashtag_content\" not in data.keys():\n",
    "            data['hashtag_content'] = data.apply(lambda x: hashtags(x['text']), axis=1)\n",
    "        \n",
    "        for index, value in self.index_threshold.items():\n",
    "            data[str(value)] = data['text'].str.contains(re.compile(value))\n",
    "\n",
    "        \n",
    "        data_feature_added = data.drop(\"hashtag_content\", 1)\n",
    "        \n",
    "        #return dataset with added feature\n",
    "        return data_feature_added"
   ]
  },
  {
   "cell_type": "code",
   "execution_count": 69,
   "metadata": {},
   "outputs": [],
   "source": [
    "#define classes for the mentions feature generation for the pipeline\n",
    "class generate_feature_mentions_transformer(BaseEstimator, TransformerMixin):\n",
    "\n",
    "    #define init method\n",
    "    def __init__(self, treshold = 2):\n",
    "        self.treshold = treshold\n",
    "\n",
    "    #define fit method\n",
    "    def fit(self, data, y=None):\n",
    "        \n",
    "        #generate mentions dictionary\n",
    "        data['mention_content'] = data.apply(lambda x: mentions(x['text']), axis=1)\n",
    "        dataframe_mentions = create_dictionary_mentions(data)\n",
    "        self.index_threshold = dataframe_mentions[dataframe_mentions[\"occurences\"] > self.treshold][\"Mentions\"]\n",
    "\n",
    "        return self\n",
    "\n",
    "    #define transform method\n",
    "    def transform(self, data):\n",
    "        \n",
    "        if \"mention_content\" not in data.keys():\n",
    "            data['mention_content'] = data.apply(lambda x: mentions(x['text']), axis=1)\n",
    "\n",
    "        for index, value in self.index_threshold.items():\n",
    "            data[str(value)] = data['text'].str.contains(re.compile(value))\n",
    "\n",
    "        data_feature_added = data.drop(\"mention_content\", 1)\n",
    "        \n",
    "        #return dataset with added feature\n",
    "        return data_feature_added"
   ]
  },
  {
   "cell_type": "code",
   "execution_count": 70,
   "metadata": {},
   "outputs": [],
   "source": [
    "#function than combines the preprocessings\n",
    "def preprocess_text(data):\n",
    "    \n",
    "    #remove urls\n",
    "    data['text'] = data.apply(lambda x: remove_urls(x['text']), axis=1)\n",
    "    \n",
    "    #remove hashtags\n",
    "    data['text'] = data.apply(lambda x: remove_hashtags(x['text']), axis=1)\n",
    "    \n",
    "    #remove mentions\n",
    "    data['text'] = data.apply(lambda x: remove_mentions(x['text']), axis=1)\n",
    "    \n",
    "    #remove punctuations\n",
    "    data['text'] = data.apply(lambda x: remove_punctuations(x['text']), axis=1)\n",
    "    \n",
    "    #remove number\n",
    "    data['text'] = data.apply(lambda x: remove_numbers(x['text']), axis=1)\n",
    "    \n",
    "    #remove special characters\n",
    "    data['text'] = data.apply(lambda x: remove_special(x['text']), axis=1)\n",
    "    \n",
    "    #turn to lower\n",
    "    data['text'] = data.apply(lambda x: lower_case(x['text']), axis=1)\n",
    "    \n",
    "    #apply lemmatization\n",
    "    data['text'] = data.apply(lambda x : lemmatize_text(x[\"text\"]), axis = 1)\n",
    "    \n",
    "    #remove stopwords\n",
    "    data['text'] = data.apply(lambda x : remove_stopwords(x[\"text\"],stop_w), axis = 1)\n",
    "    \n",
    "    return data"
   ]
  },
  {
   "cell_type": "code",
   "execution_count": 71,
   "metadata": {},
   "outputs": [],
   "source": [
    "from sklearn.feature_extraction.text import CountVectorizer\n",
    "\n",
    "#define classes for the contained word feature generation for the pipeline\n",
    "class vectorize_stemming_transformer(BaseEstimator, TransformerMixin):\n",
    "\n",
    "    #define init method\n",
    "    def __init__(self, min_df = 100):\n",
    "        self.min_df = min_df\n",
    "\n",
    "    #define fit method\n",
    "    def fit(self, data, y=None):\n",
    "        self.vectorizer = CountVectorizer(analyzer = 'word', stop_words = \"english\", min_df = self.min_df, binary = True) #remove stopwords and words with frequency of less than 100 appearances\n",
    "        (self.vectorizer).fit(data['text'])\n",
    "\n",
    "        return self\n",
    "\n",
    "    #define transform method\n",
    "    def transform(self, data):\n",
    "\n",
    "        #vectorize\n",
    "        document_term = pd.DataFrame( (self.vectorizer).transform(data['text']).toarray(), columns = (self.vectorizer).get_feature_names())\n",
    "        \n",
    "        data.reset_index(drop=True, inplace=True)\n",
    "        document_term.reset_index(drop=True, inplace=True)\n",
    "\n",
    "        #combine data sets\n",
    "        data_enriched = pd.concat([data, document_term], ignore_index=False, sort =False, axis=1)\n",
    "\n",
    "        data_enriched = data_enriched.drop(\"text\", 1)\n",
    "        return data_enriched"
   ]
  },
  {
   "cell_type": "code",
   "execution_count": 72,
   "metadata": {},
   "outputs": [],
   "source": [
    "#define classes for the feature selection for the pipeline\n",
    "class kendall_measure_tranformer(BaseEstimator, TransformerMixin):\n",
    "\n",
    "    #define init method\n",
    "    def __init__(self, treshold = 0.01):\n",
    "        self.treshold = treshold\n",
    "\n",
    "    #define fit method\n",
    "    def fit(self, data, y=None):\n",
    "        mutual_information = data.corrwith(data[\"retweet_count\"], method='kendall')\n",
    "        mutual_information_abs = mutual_information.abs()\n",
    "        self.index = (mutual_information_abs >= self.treshold).values\n",
    "        return self\n",
    "\n",
    "    #define transform method\n",
    "    def transform(self, data):\n",
    "\n",
    "        data_train_feature_selected = data.iloc[:, self.index]\n",
    "        data_train_feature_selected = data.drop(\"retweet_count\", axis = 1)\n",
    "        return data_train_feature_selected"
   ]
  },
  {
   "cell_type": "markdown",
   "metadata": {},
   "source": [
    "### Build pipeline"
   ]
  },
  {
   "cell_type": "code",
   "execution_count": 73,
   "metadata": {},
   "outputs": [],
   "source": [
    "from sklearn.pipeline import Pipeline\n",
    "from sklearn.model_selection import train_test_split\n",
    "from sklearn.linear_model import LinearRegression\n",
    "from sklearn.neighbors import KNeighborsRegressor\n",
    "from sklearn.linear_model import Ridge\n",
    "from imblearn.pipeline import make_pipeline\n",
    "import numpy as np\n",
    "from sklearn.preprocessing import FunctionTransformer\n",
    "from sklearn.model_selection import GridSearchCV\n",
    "pd.options.mode.chained_assignment = None\n",
    "\n",
    "X = twitterdata\n",
    "y = twitterdata[\"retweet_count\"]\n",
    "X_train, X_test, y_train, y_test = train_test_split(X, y, test_size = 0.2, random_state=10)\n",
    "\n",
    "preprocess_text_transformer = FunctionTransformer(preprocess_text)\n",
    "\n",
    "pipeline_preprocessing = Pipeline([\n",
    "    ('generate_feature_hashtag', generate_feature_hashtag_transformer()),\n",
    "    ('generate_feature_mentions', generate_feature_mentions_transformer()),\n",
    "    ('preprocess_text', preprocess_text_transformer),\n",
    "    ('vectorize_stemming', vectorize_stemming_transformer()),\n",
    "    ('feature_selection_kendall_measure', kendall_measure_tranformer())\n",
    "])"
   ]
  },
  {
   "cell_type": "markdown",
   "metadata": {},
   "source": [
    "### Create visual evaluation"
   ]
  },
  {
   "cell_type": "code",
   "execution_count": 74,
   "metadata": {},
   "outputs": [],
   "source": [
    "#define function to create plots to evaluate \n",
    "def validation_curve_function(title, parameter, param_range, test_scores_mean, test_scores_std, baseline_score):\n",
    "    \n",
    "    plt.title(title)\n",
    "    plt.xlabel(parameter)\n",
    "    plt.ylabel(\"Metric\")\n",
    "\n",
    "    lw = 2\n",
    "    plt.semilogx(param_range, test_scores_mean, label=\"Cross-validation score\", color=\"navy\", lw=lw)\n",
    "    plt.fill_between(param_range, test_scores_mean - test_scores_std, test_scores_mean + test_scores_std, alpha=0.2,\n",
    "                     color=\"navy\", lw=lw)\n",
    "   \n",
    "    errors_baseline_plot = np.ones(param_range.shape) * baseline_score\n",
    "    plt.plot(param_range, errors_baseline_plot, label = \"Baseline\")\n",
    "    \n",
    "    plt.legend(loc=\"best\")\n",
    "    plt.show()"
   ]
  },
  {
   "cell_type": "markdown",
   "metadata": {},
   "source": [
    "## Model building"
   ]
  },
  {
   "cell_type": "markdown",
   "metadata": {},
   "source": [
    "### Baseline"
   ]
  },
  {
   "cell_type": "code",
   "execution_count": 75,
   "metadata": {},
   "outputs": [],
   "source": [
    "#define scoring functions\n",
    "scoring = {'MAE': 'neg_mean_absolute_error', 'RMSE': \"neg_root_mean_squared_error\", 'R2': \"r2\" }"
   ]
  },
  {
   "cell_type": "markdown",
   "metadata": {},
   "source": [
    "#### Simple Linear Regression"
   ]
  },
  {
   "cell_type": "code",
   "execution_count": 76,
   "metadata": {},
   "outputs": [
    {
     "name": "stdout",
     "output_type": "stream",
     "text": [
      "Mean absolute Error: 8242.8\n",
      "Root mean squared Error: 12752.9\n",
      "R^2: -0.0\n"
     ]
    }
   ],
   "source": [
    "from sklearn.linear_model import LinearRegression\n",
    "from sklearn.model_selection import cross_validate\n",
    "\n",
    "#create basis dataset containing only the days since president\n",
    "time_diff = (X_train.values)[:, 7].reshape(-1, 1)\n",
    "\n",
    "estimator = LinearRegression()\n",
    "baseline_scores = cross_validate(estimator, time_diff, y_train, cv=20, scoring = scoring)\n",
    "\n",
    "baseline_scores_mae = -np.mean(baseline_scores[\"test_MAE\"])\n",
    "baseline_scores_mse = -np.mean(baseline_scores[\"test_RMSE\"])\n",
    "baseline_scores_r2 = np.mean(baseline_scores[\"test_R2\"])\n",
    "\n",
    "print('Mean absolute Error:', round(baseline_scores_mae, 2))\n",
    "print('Root mean squared Error:', round(baseline_scores_mse, 2))\n",
    "print('R^2:', round(baseline_scores_r2, 2))"
   ]
  },
  {
   "cell_type": "markdown",
   "metadata": {},
   "source": [
    "#### Linear Regression without text feature creation"
   ]
  },
  {
   "cell_type": "code",
   "execution_count": 77,
   "metadata": {},
   "outputs": [
    {
     "name": "stdout",
     "output_type": "stream",
     "text": [
      "Mean absolute Error: 7324.74\n",
      "Root mean squared Error: 11966.15\n",
      "R^2: 0.12\n"
     ]
    }
   ],
   "source": [
    "from sklearn.linear_model import LinearRegression\n",
    "from sklearn.model_selection import cross_val_score\n",
    "\n",
    "#create basis dataset containing only the days since president\n",
    "X_train_baseline = X_train.drop([\"text\", \"retweet_count\"], axis = 1)\n",
    "\n",
    "estimator = LinearRegression()\n",
    "baseline_scores = cross_validate(estimator, X_train_baseline, y_train, cv=20, scoring = scoring)\n",
    "\n",
    "baseline_scores_mae_basic = -np.mean(baseline_scores[\"test_MAE\"])\n",
    "baseline_scores_mse_basic = -np.mean(baseline_scores[\"test_RMSE\"])\n",
    "baseline_scores_r2_basic = np.mean(baseline_scores[\"test_R2\"])\n",
    "\n",
    "print('Mean absolute Error:', round(baseline_scores_mae_basic, 2))\n",
    "print('Root mean squared Error:', round(baseline_scores_mse_basic, 2))\n",
    "print('R^2:', round(baseline_scores_r2_basic, 2))"
   ]
  },
  {
   "cell_type": "markdown",
   "metadata": {},
   "source": [
    "### Train Models"
   ]
  },
  {
   "cell_type": "code",
   "execution_count": 78,
   "metadata": {},
   "outputs": [],
   "source": [
    "#initialize empty lists\n",
    "best_test_scores = []\n",
    "best_params_choice = []\n",
    "best_algorithm_name = []"
   ]
  },
  {
   "cell_type": "markdown",
   "metadata": {},
   "source": [
    "#### Linear Regression"
   ]
  },
  {
   "cell_type": "code",
   "execution_count": null,
   "metadata": {},
   "outputs": [],
   "source": [
    "#start pipeline\n",
    "pipeline_linear_regression = Pipeline([\n",
    "    ('preprocessing', pipeline_preprocessing),\n",
    "    ('LinearRegression', LinearRegression())\n",
    "])\n",
    "\n",
    "#set parameter grid\n",
    "param_grid_linear_regression = {\"preprocessing__generate_feature_hashtag__treshold\": [10, 25],\n",
    "              \"preprocessing__generate_feature_mentions__treshold\": [10, 25],\n",
    "              \"preprocessing__vectorize_stemming__min_df\": [100, 200, 500],\n",
    "              \"preprocessing__feature_selection_kendall_measure__treshold\": [0.01, 0.05],\n",
    "             }\n",
    "\n",
    "#start grid search in a 5-fold cross-validation\n",
    "grid_linear_regression = GridSearchCV(pipeline_linear_regression, param_grid_linear_regression, cv=5, refit='RMSE', scoring = scoring)\n",
    "grid_linear_regression.fit(X_train, y_train)\n",
    "\n",
    "print(\"Best Parameters: {}\".format(grid_linear_regression.best_params_))\n",
    "print(\"\\n Test Score (RMSE): {}\".format(-grid_linear_regression.best_score_))\n",
    "print(\"Test Score (R2): {}\".format(max(grid_linear_regression.cv_results_['mean_test_R2'])))\n",
    "\n",
    "best_test_scores.append(-grid_linear_regression.best_score_)\n",
    "best_params_choice.append(grid_linear_regression.best_params_)\n",
    "best_algorithm_name.append(\"LinearRegression\")\n"
   ]
  },
  {
   "cell_type": "code",
   "execution_count": 1,
   "metadata": {},
   "outputs": [
    {
     "data": {
      "application/javascript": [
       "IPython.notebook.execute_cells_above()"
      ],
      "text/plain": [
       "<IPython.core.display.Javascript object>"
      ]
     },
     "metadata": {},
     "output_type": "display_data"
    }
   ],
   "source": [
    "from IPython.display import Javascript\n",
    "display(Javascript('IPython.notebook.execute_cells_above()'))"
   ]
  },
  {
   "cell_type": "markdown",
   "metadata": {},
   "source": [
    "#### Ridge Regression"
   ]
  },
  {
   "cell_type": "code",
   "execution_count": null,
   "metadata": {},
   "outputs": [],
   "source": [
    "pipeline_ridge_regression = Pipeline([\n",
    "    ('preprocessing', pipeline_preprocessing),\n",
    "    ('RidgeRegression', Ridge())\n",
    "\n",
    "])\n",
    "\n",
    "param_grid_ridge_regression = {\"preprocessing__generate_feature_hashtag__treshold\": [10, 25],\n",
    "              \"preprocessing__generate_feature_mentions__treshold\": [10, 25],\n",
    "              \"preprocessing__vectorize_stemming__min_df\": [100, 200, 500],\n",
    "              \"preprocessing__feature_selection_kendall_measure__treshold\": [0.01, 0.05],\n",
    "              \"RidgeRegression__alpha\": np.logspace(-2, 5, 8)\n",
    "             }\n",
    "\n",
    "grid_ridge_regression = GridSearchCV(pipeline_ridge_regression, param_grid_ridge_regression, cv=3, refit='RMSE', scoring = scoring)\n",
    "grid_ridge_regression.fit(X_train, y_train)\n",
    "\n",
    "print(\"Best Parameters: {}\".format(grid_ridge_regression.best_params_))\n",
    "print(\"\\n Test Score (RMSE): {}\".format(- grid_ridge_regression.best_score_))\n",
    "print(\"Test Score (R2): {}\".format(max(grid_ridge_regression.cv_results_['mean_test_R2'])))\n",
    "\n",
    "best_test_scores.append(-grid_ridge_regression.best_score_)\n",
    "best_params_choice.append(grid_ridge_regression.best_params_)\n",
    "best_algorithm_name.append(\"RidgeRegression\")\n"
   ]
  },
  {
   "cell_type": "code",
   "execution_count": null,
   "metadata": {},
   "outputs": [],
   "source": [
    "keys_dict = [\"preprocessing__feature_selection_kendall_measure__treshold\",\\\n",
    "            \"preprocessing__generate_feature_hashtag__treshold\", \\\n",
    "            \"preprocessing__generate_feature_mentions__treshold\", \\\n",
    "            \"preprocessing__vectorize_stemming__min_df\" \\\n",
    "            ]\n",
    "best_param_values = [grid_ridge_regression.best_params_[key_name] for key_name in keys_dict]\n",
    "index_validation = []\n",
    "\n",
    "for index, cv_param in enumerate(grid_ridge_regression.cv_results_['params']):\n",
    "    cv_param_values = [cv_param[key_name] for key_name in keys_dict]\n",
    "    if cv_param_values == best_param_values:\n",
    "        index_validation.append(index)\n",
    "        \n",
    "mean_test_score = - grid_ridge_regression.cv_results_[\"mean_test_RMSE\"][index_validation]\n",
    "std_test_score = grid_ridge_regression.cv_results_[\"std_test_RMSE\"][index_validation]\n",
    "\n",
    "\n",
    "title = \"Validation Curve for Ridge Regression\"\n",
    "parameter = \"alpha\"\n",
    "param_range = np.logspace(-2, 5, 8)\n",
    "validation_curve_function(title, parameter, param_range, mean_test_score, std_test_score, baseline_scores_mse)"
   ]
  },
  {
   "cell_type": "markdown",
   "metadata": {},
   "source": [
    "### Lasso Regression"
   ]
  },
  {
   "cell_type": "code",
   "execution_count": null,
   "metadata": {},
   "outputs": [],
   "source": [
    "from sklearn.linear_model import Lasso\n",
    "\n",
    "pipeline_lasso_regression = Pipeline([\n",
    "    ('preprocessing', pipeline_preprocessing),\n",
    "    ('Lasso', Lasso())\n",
    "\n",
    "])\n",
    "lasso_alpha_param_range = np.logspace(-2, 5, 8)\n",
    "param_grid_lasso_regression = {\"preprocessing__generate_feature_hashtag__treshold\": [10, 25],\n",
    "              \"preprocessing__generate_feature_mentions__treshold\": [10, 25],\n",
    "              \"preprocessing__vectorize_stemming__min_df\": [100, 200, 500],\n",
    "              \"preprocessing__feature_selection_kendall_measure__treshold\": [0.01, 0.05],\n",
    "              \"Lasso__alpha\": lasso_alpha_param_range\n",
    "             }\n",
    "\n",
    "grid_lasso_regression = GridSearchCV(pipeline_lasso_regression, param_grid_lasso_regression, cv=3, refit='RMSE', scoring = scoring)\n",
    "grid_lasso_regression.fit(X_train, y_train)\n",
    "\n",
    "print(\"Best Parameters: {}\".format(grid_lasso_regression.best_params_))\n",
    "print(\"\\n Test Score (RMSE): {}\".format(- grid_lasso_regression.best_score_))\n",
    "print(\"Test Score (R2): {}\".format(max(grid_lasso_regression.cv_results_['mean_test_R2'])))\n",
    "\n",
    "best_test_scores.append(-grid_lasso_regression.best_score_ )\n",
    "best_params_choice.append(grid_lasso_regression.best_params_)\n",
    "best_algorithm_name.append(\"Lasso\")\n"
   ]
  },
  {
   "cell_type": "code",
   "execution_count": null,
   "metadata": {},
   "outputs": [],
   "source": [
    "keys_dict = [\"preprocessing__feature_selection_kendall_measure__treshold\",\\\n",
    "            \"preprocessing__generate_feature_hashtag__treshold\", \\\n",
    "            \"preprocessing__generate_feature_mentions__treshold\", \\\n",
    "            \"preprocessing__vectorize_stemming__min_df\" \\\n",
    "            ]\n",
    "best_param_values = [grid_lasso_regression.best_params_[key_name] for key_name in keys_dict]\n",
    "index_validation = []\n",
    "for index, cv_param in enumerate(grid_lasso_regression.cv_results_['params']):\n",
    "    cv_param_values = [cv_param[key_name] for key_name in keys_dict]\n",
    "    if cv_param_values == best_param_values:\n",
    "        index_validation.append(index)\n",
    "        \n",
    "mean_test_score = - grid_lasso_regression.cv_results_[\"mean_test_RMSE\"][index_validation]\n",
    "std_test_score = grid_lasso_regression.cv_results_[\"std_test_RMSE\"][index_validation]\n",
    "\n",
    "title = \"Validation Curve for Lasso\"\n",
    "parameter = \"alpha\"\n",
    "validation_curve_function(title, parameter, lasso_alpha_param_range, mean_test_score, std_test_score, baseline_scores_mse)"
   ]
  },
  {
   "cell_type": "markdown",
   "metadata": {},
   "source": [
    "#### K-Neighbor Regressor"
   ]
  },
  {
   "cell_type": "code",
   "execution_count": null,
   "metadata": {},
   "outputs": [],
   "source": [
    "pipeline_knn_regression = Pipeline([\n",
    "    ('preprocessing', pipeline_preprocessing),\n",
    "    ('KNN', KNeighborsRegressor())\n",
    "\n",
    "])\n",
    "\n",
    "n_neightbors_param_range = np.arange(5, 15)\n",
    "param_grid_knn_regression = {\"preprocessing__generate_feature_hashtag__treshold\": [10, 25],\n",
    "              \"preprocessing__generate_feature_mentions__treshold\": [10, 25],\n",
    "              \"preprocessing__vectorize_stemming__min_df\": [100, 200, 500],\n",
    "              \"preprocessing__feature_selection_kendall_measure__treshold\": [0.01, 0.05],\n",
    "              \"KNN__n_neighbors\": n_neightbors_param_range\n",
    "             }\n",
    "\n",
    "\n",
    "grid_knn_regression = GridSearchCV(pipeline_knn_regression, param_grid_knn_regression, cv=3, refit='RMSE', scoring = scoring)\n",
    "grid_knn_regression.fit(X_train, y_train)\n",
    "\n",
    "print(\"Best Parameters: {}\".format(grid_knn_regression.best_params_))\n",
    "print(\"\\n Test Score (RMSE): {}\".format(- grid_knn_regression.best_score_))\n",
    "print(\"Test Score (R2): {}\".format(max(grid_knn_regression.cv_results_['mean_test_R2'])))\n",
    "\n",
    "\n",
    "best_test_scores.append(-grid_knn_regression.best_score_)\n",
    "best_params_choice.append(grid_knn_regression.best_params_)\n",
    "best_algorithm_name.append(\"KNN\")"
   ]
  },
  {
   "cell_type": "code",
   "execution_count": null,
   "metadata": {},
   "outputs": [],
   "source": [
    "keys_dict = [\"preprocessing__feature_selection_kendall_measure__treshold\",\\\n",
    "            \"preprocessing__generate_feature_hashtag__treshold\", \\\n",
    "            \"preprocessing__generate_feature_mentions__treshold\", \\\n",
    "            \"preprocessing__vectorize_stemming__min_df\" \\\n",
    "            ]\n",
    "best_param_values = [grid_knn_regression.best_params_[key_name] for key_name in keys_dict]\n",
    "index_validation = []\n",
    "for index, cv_param in enumerate(grid_knn_regression.cv_results_['params']):\n",
    "    cv_param_values = [cv_param[key_name] for key_name in keys_dict]\n",
    "    if cv_param_values == best_param_values:\n",
    "        index_validation.append(index)\n",
    "        \n",
    "mean_test_score = - grid_knn_regression.cv_results_[\"mean_test_RMSE\"][index_validation]\n",
    "std_test_score = grid_knn_regression.cv_results_[\"std_test_RMSE\"][index_validation]\n",
    "\n",
    "\n",
    "title = \"Validation Curve for KNN Regression\"\n",
    "parameter = \"n_neighbors\"\n",
    "validation_curve_function(title, parameter, n_neightbors_param_range, mean_test_score, std_test_score, baseline_scores_mse)"
   ]
  },
  {
   "cell_type": "markdown",
   "metadata": {},
   "source": [
    "#### Random forest tree"
   ]
  },
  {
   "cell_type": "code",
   "execution_count": null,
   "metadata": {},
   "outputs": [],
   "source": [
    "from sklearn.ensemble import RandomForestRegressor\n",
    "pipeline_randomforest_regression = Pipeline([\n",
    "    ('preprocessing', pipeline_preprocessing),\n",
    "    ('RandomForestRegressor', RandomForestRegressor())\n",
    "\n",
    "])\n",
    "\n",
    "param_grid_randomforest_regression = {\"preprocessing__generate_feature_hashtag__treshold\": [10, 25],\n",
    "              \"preprocessing__generate_feature_mentions__treshold\": [10, 25],\n",
    "              \"preprocessing__vectorize_stemming__min_df\": [100, 200, 500],\n",
    "              \"preprocessing__feature_selection_kendall_measure__treshold\": [0.01, 0.05],\n",
    "              \"RandomForestRegressor__max_depth\": [10, 20],\n",
    "              \"RandomForestRegressor__n_estimators\": [100, 200],\n",
    "              \"RandomForestRegressor__min_samples_split\": [2, 5],\n",
    "             }\n",
    "\n",
    "\n",
    "grid_randomforest_regression = GridSearchCV(pipeline_randomforest_regression, param_grid_randomforest_regression, cv=3, refit='RMSE', scoring = scoring)\n",
    "grid_randomforest_regression.fit(X_train, y_train)\n",
    "\n",
    "print(\"Best Parameters: {}\".format(grid_randomforest_regression.best_params_))\n",
    "print(\"\\n Test Score (RMSE): {}\".format(-grid_randomforest_regression.best_score_))\n",
    "print(\"Test Score (R2): {}\".format(max(grid_randomforest_regression.cv_results_['mean_test_R2'])))\n",
    "\n",
    "\n",
    "best_test_scores.append(-grid_randomforest_regression.best_score_)\n",
    "best_params_choice.append(grid_randomforest_regression.best_params_)\n",
    "best_algorithm_name.append(\"RandomForestRegressor\")"
   ]
  },
  {
   "cell_type": "markdown",
   "metadata": {},
   "source": [
    "#### Select best model"
   ]
  },
  {
   "cell_type": "code",
   "execution_count": null,
   "metadata": {
    "scrolled": true
   },
   "outputs": [],
   "source": [
    "import math\n",
    "from sklearn.metrics import mean_squared_error \n",
    "from sklearn.metrics import r2_score\n",
    "\n",
    "index_best = np.argmin(np.array(best_test_scores))\n",
    "\n",
    "\n",
    "if best_algorithm_name[index_best] == 'KNN':\n",
    "    estimator = KNeighborsRegressor()\n",
    "elif best_algorithm_name[index_best] == 'LinearRegression':\n",
    "    estimator = LinearRegression()\n",
    "elif best_algorithm_name[index_best] == 'RidgeRegression':\n",
    "    estimator = RidgeRegression()\n",
    "elif best_algorithm_name[index_best] == 'Lasso':\n",
    "    estimator = Lasso()\n",
    "elif best_algorithm_name[index_best] == 'RandomForestRegressor':\n",
    "    estimator = RandomForestRegressor()\n",
    "else:\n",
    "    print(\"No matching algorithm found.\")\n",
    "\n",
    "print(best_algorithm_name[index_best])\n",
    "print(\"\\n\")\n",
    "print(best_params_choice[index_best])\n",
    "pipeline = Pipeline([\n",
    "    ('preprocessing', pipeline_preprocessing),\n",
    "    (best_algorithm_name[index_best], estimator)\n",
    "\n",
    "])\n",
    "print(\"\\n\")\n",
    "estimator_baseline = LinearRegression()\n",
    "time_diff_train = (X_train.values)[:, 7].reshape(-1, 1)\n",
    "time_diff_test = (X_test.values)[:, 7].reshape(-1, 1)\n",
    "\n",
    "estimator_baseline.fit(time_diff_train, y_train.values.reshape(-1, 1))\n",
    "y_predict_baseline = estimator_baseline.predict(time_diff_test)\n",
    "print(\"Baseline Generalization error (RMSE): {}\".format(math.sqrt(mean_squared_error(y_test.values.reshape(-1, 1), y_predict_baseline))))\n",
    "print(\"Baseline R2: {}\".format(r2_score(y_test.values.reshape(-1, 1), y_predict_baseline)))\n",
    "\n",
    "model = pipeline.set_params(**best_params_choice[index_best])\n",
    "model.fit(X_train, y_train)\n",
    "y_predict = pipeline.predict(X_test)\n",
    "print(\"\\nGeneralization error (RMSE): {}\".format(math.sqrt(mean_squared_error(y_test, y_predict))))\n",
    "print(\"R2: {}\".format(r2_score(y_test, y_predict)))"
   ]
  },
  {
   "cell_type": "code",
   "execution_count": null,
   "metadata": {},
   "outputs": [],
   "source": [
    "# save model\n",
    "from sklearn.externals import joblib \n",
    "joblib.dump(model, 'model.pkl')\n",
    "# save lists with best scores, parameters and algorithms\n",
    "joblib.dump(best_test_scores, 'best_test_scores.pkl') \n",
    "joblib.dump(best_params_choice, 'best_params_choice.pkl') \n",
    "joblib.dump(best_algorithm_name, 'best_algorithm_name.pkl') "
   ]
  },
  {
   "cell_type": "markdown",
   "metadata": {},
   "source": [
    "## Feature importance\n",
    "Check the feature importance of the best model"
   ]
  },
  {
   "cell_type": "code",
   "execution_count": null,
   "metadata": {},
   "outputs": [],
   "source": [
    "# Visualize best features\n",
    "features = pipeline[\"preprocessing\"].transform(X_train).keys()\n",
    "coefficients = pipeline[best_algorithm_name[index_best]].feature_importances_\n",
    "dictionary = dict(zip(features, coefficients))\n",
    "sorted_dictionary = {k: v for k, v in sorted(dictionary.items(), key=lambda item: item[1], reverse=True)}\n",
    "\n",
    "top_features = dict(list(sorted_dictionary.items())[:10])\n",
    "\n",
    "fig = plt.figure()\n",
    "ax = fig.add_subplot(111)\n",
    "\n",
    "colours = {'b', 'g', 'r', 'c', 'm', 'y', 'k', 'w', 'b', 'g'}\n",
    "   \n",
    "y_pos = np.arange(len(top_features.keys()))\n",
    "\n",
    "# Create horizontal bars\n",
    "plt.barh(y_pos, top_features.values())\n",
    "\n",
    "# Create names on the y-axis\n",
    "plt.yticks(y_pos, top_features.keys())\n",
    "plt.title(\"Top 10 Features\")\n",
    "\n",
    "# Show graphic\n",
    "plt.show()\n",
    "\n",
    "\n",
    "\n",
    "# Visualize worst features\n",
    "features = pipeline[\"preprocessing\"].transform(X_train).keys()\n",
    "coefficients = pipeline[best_algorithm_name[index_best]].feature_importances_\n",
    "dictionary = dict(zip(features, coefficients))\n",
    "sorted_dictionary = {k: v for k, v in sorted(dictionary.items(), key=lambda item: item[1], reverse=False)}\n",
    "\n",
    "worst_features = dict(list(sorted_dictionary.items())[:10])\n",
    "    \n",
    "y_pos = np.arange(len(top_features.keys()))\n",
    "\n",
    "# Create horizontal bars\n",
    "plt.barh(y_pos, worst_features.values())\n",
    " \n",
    "# Create names on the y-axis\n",
    "plt.yticks(y_pos, worst_features.keys())\n",
    "plt.title(\"Worst 10 Features\")\n",
    "\n",
    " \n",
    "# Show graphic\n",
    "plt.show()"
   ]
  },
  {
   "cell_type": "code",
   "execution_count": null,
   "metadata": {},
   "outputs": [],
   "source": [
    "import shap\n",
    "# load JS visualization code to notebook\n",
    "shap.initjs()"
   ]
  },
  {
   "cell_type": "code",
   "execution_count": null,
   "metadata": {},
   "outputs": [],
   "source": [
    "explainer = shap.TreeExplainer(model)"
   ]
  },
  {
   "cell_type": "code",
   "execution_count": null,
   "metadata": {},
   "outputs": [],
   "source": [
    "import shap\n",
    "shap_values = shap.TreeExplainer(model).shap_values(X_train)\n",
    "shap.summary_plot(shap_values, X_train, plot_type=\"bar\")\n",
    "\n",
    "\n",
    "explainer = shap.TreeExplainer(pipeline)\n",
    "shap_values = explainer.shap_values(X)\n",
    "\n",
    "# visualize the first prediction's explanation (use matplotlib=True to avoid Javascript)\n",
    "shap.force_plot(explainer.expected_value, shap_values[0,:], X.iloc[0,:])\n",
    "\n",
    "shap.force_plot(explainer.expected_value, shap_values, X)"
   ]
  },
  {
   "cell_type": "markdown",
   "metadata": {},
   "source": [
    "SHAP"
   ]
  },
  {
   "cell_type": "code",
   "execution_count": null,
   "metadata": {},
   "outputs": [],
   "source": [
    "\n",
    "# shap comes with pre-built explainers for pretty much any model\n",
    "# important: ONLY pass training data to explainer!\n",
    "exp = shap.TreeExplainer(l, x_train)"
   ]
  },
  {
   "cell_type": "code",
   "execution_count": null,
   "metadata": {},
   "outputs": [],
   "source": [
    "# load JS visualization code to notebook and showcase what changed a single prediction\n",
    "shap.initjs()\n",
    "shap.force_plot(exp.expected_value, shap_vals[0,:], x_test.iloc[0,:])"
   ]
  },
  {
   "cell_type": "markdown",
   "metadata": {},
   "source": [
    "## Results"
   ]
  },
  {
   "cell_type": "markdown",
   "metadata": {},
   "source": [
    "How good is the result? Which variables are important?"
   ]
  },
  {
   "cell_type": "code",
   "execution_count": null,
   "metadata": {},
   "outputs": [],
   "source": [
    "from IPython.display import Javascript\n",
    "display(Javascript('IPython.notebook.execute_cells_above()'))"
   ]
  },
  {
   "cell_type": "code",
   "execution_count": null,
   "metadata": {},
   "outputs": [],
   "source": [
    "from pandas_profiling import ProfileReport\n",
    "profile = ProfileReport(twitterdata_train, explorative=True, minimal=True, title='Pandas Profiling Report', html={'style':{'full_width':True}})\n",
    "profile.to_notebook_iframe()"
   ]
  }
 ],
 "metadata": {
  "kernelspec": {
   "display_name": "Python 3",
   "language": "python",
   "name": "python3"
  },
  "language_info": {
   "codemirror_mode": {
    "name": "ipython",
    "version": 3
   },
   "file_extension": ".py",
   "mimetype": "text/x-python",
   "name": "python",
   "nbconvert_exporter": "python",
   "pygments_lexer": "ipython3",
   "version": "3.7.6"
  }
 },
 "nbformat": 4,
 "nbformat_minor": 4
}
