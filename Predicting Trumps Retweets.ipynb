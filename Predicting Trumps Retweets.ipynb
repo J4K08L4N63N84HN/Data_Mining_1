{
 "cells": [
  {
   "cell_type": "markdown",
   "metadata": {},
   "source": [
    "## Predicting Retweets of @realDonaldTrump Twitter account. "
   ]
  },
  {
   "cell_type": "markdown",
   "metadata": {},
   "source": [
    "## Abstract\n",
    "Twitter is one of the most popular platforms for expressing opinions, thoughts and updates, but it is also used to influence people and is a \"tactic\" widely used in election campaigns. President Donald Trump's Twitter account is very popular, his tweet frequency is relatively high, and his tweets are liked and retweeted hundreds of thousands of times.\n",
    "\n",
    "This notebook implements a regression model to predict the number of retweets of a particular tweet from @realdonaldtrump. Additionally the meaning of features is evaluated and compared.\n",
    "\n",
    "The result of this notebook is, besides the prediction model, a set of important characteristics for a high number of retweets. These can be used to increase the retweet rate of candidates for future election campaigns. Our model can be used to decide on which parts to focus on when tweeting (length, specific hashtags, time of day, etc.) in order to maximize the number of retweets and gain popularity or even become viral."
   ]
  },
  {
   "cell_type": "markdown",
   "metadata": {},
   "source": [
    "## Data Selection\n",
    "\n",
    "For the task of this notebook the Tweets and the Retweet counts of the @realdonaldtrump Twitter account are needed. This notebooks uses the data from http://trumptwitterarchive.com/archive. The data spans from Donald J. Trumps inauguration on January 20, 2017 until March 30, 2020. \n",
    "\n",
    "***TO DO: look for better name for the dataset, optional direct download from online source***"
   ]
  },
  {
   "cell_type": "code",
   "execution_count": 175,
   "metadata": {},
   "outputs": [],
   "source": [
    "#import data from http://trumptwitterarchive.com/archive\n",
    "import pandas as pd\n",
    "\n",
    "twitterdata = pd.read_json(\"data.json\")"
   ]
  },
  {
   "cell_type": "markdown",
   "metadata": {},
   "source": [
    "## Data Exploration\n",
    "\n",
    "Initial exploration of the dataset.  "
   ]
  },
  {
   "cell_type": "code",
   "execution_count": 176,
   "metadata": {},
   "outputs": [
    {
     "name": "stdout",
     "output_type": "stream",
     "text": [
      "The dataset has 13427 records and 5 variables.\n"
     ]
    }
   ],
   "source": [
    "#dimension of dataset\n",
    "dimension_twitterdata = twitterdata.shape\n",
    "print(\"The dataset has \" + str(dimension_twitterdata[0]) + \" records and \" +\n",
    "      str(dimension_twitterdata[1]) + \" variables.\" )"
   ]
  },
  {
   "cell_type": "code",
   "execution_count": 177,
   "metadata": {},
   "outputs": [
    {
     "name": "stdout",
     "output_type": "stream",
     "text": [
      "               source                                               text  \\\n",
      "0  Twitter for iPhone  White House news conference at 5:00 P.M. Easte...   \n",
      "1  Twitter for iPhone                            https://t.co/2hKJkP5Z6N   \n",
      "2  Twitter for iPhone  On #NationalDoctorsDay, we recognize the remar...   \n",
      "3  Twitter for iPhone                            https://t.co/nzWJ8ViwbZ   \n",
      "4  Twitter for iPhone  Nancy Pelosi and the Democrats delayed the Wor...   \n",
      "5  Twitter for iPhone  Thank you Dr. Hahn &amp; the FDA for your fast...   \n",
      "6  Twitter for iPhone  Will be interviewed on @foxandfriends at 7:55 ...   \n",
      "7  Twitter for iPhone                            https://t.co/YzhyVR1N6d   \n",
      "8  Twitter for iPhone                            https://t.co/MtEehGY9cp   \n",
      "9  Twitter for iPhone  Will be starting The White House news conferen...   \n",
      "\n",
      "                 created_at  retweet_count               id_str  \n",
      "0 2020-03-30 20:50:35+00:00          14441  1244728753617620992  \n",
      "1 2020-03-30 17:46:15+00:00          15520  1244682364284014592  \n",
      "2 2020-03-30 17:11:59+00:00          19753  1244673740866191360  \n",
      "3 2020-03-30 17:05:33+00:00          39114  1244672122414338048  \n",
      "4 2020-03-30 11:17:10+00:00          43360  1244584449309892608  \n",
      "5 2020-03-30 11:07:25+00:00          11707  1244581994614398976  \n",
      "6 2020-03-30 05:15:37+00:00          15419  1244493463355342848  \n",
      "7 2020-03-29 23:43:14+00:00          13735  1244409814064775168  \n",
      "8 2020-03-29 23:43:07+00:00          14134  1244409785681883136  \n",
      "9 2020-03-29 20:57:55+00:00          13123  1244368213133144064  \n"
     ]
    }
   ],
   "source": [
    "#show the first 10 records of the dataset\n",
    "print(twitterdata.head(10))"
   ]
  },
  {
   "cell_type": "code",
   "execution_count": 178,
   "metadata": {},
   "outputs": [
    {
     "name": "stdout",
     "output_type": "stream",
     "text": [
      "<class 'pandas.core.frame.DataFrame'>\n",
      "RangeIndex: 13427 entries, 0 to 13426\n",
      "Data columns (total 5 columns):\n",
      " #   Column         Non-Null Count  Dtype              \n",
      "---  ------         --------------  -----              \n",
      " 0   source         13427 non-null  object             \n",
      " 1   text           13427 non-null  object             \n",
      " 2   created_at     13427 non-null  datetime64[ns, UTC]\n",
      " 3   retweet_count  13427 non-null  int64              \n",
      " 4   id_str         13427 non-null  int64              \n",
      "dtypes: datetime64[ns, UTC](1), int64(2), object(2)\n",
      "memory usage: 524.6+ KB\n",
      "None\n"
     ]
    }
   ],
   "source": [
    "#show variables and variables type\n",
    "print(twitterdata.info())"
   ]
  },
  {
   "cell_type": "markdown",
   "metadata": {},
   "source": [
    "The variables in the dataset are source, text, created_at, retweet_count, id_str.\n",
    "\n",
    "Explanation of the variables. \n",
    "* **source** is the kind of device used for the tweet.\n",
    "* **text** is content of the tweet.\n",
    "* **created_at** is the timestamp of the tweet in UTC.\n",
    "* **retweet_count** is number of retweets of the tweet.\n",
    "* **id_str** is an unique identifier of the tweet."
   ]
  },
  {
   "cell_type": "markdown",
   "metadata": {},
   "source": [
    "### Missing data\n",
    "It can already be seen, that there is no missing data."
   ]
  },
  {
   "cell_type": "markdown",
   "metadata": {},
   "source": [
    "### Duplicates"
   ]
  },
  {
   "cell_type": "code",
   "execution_count": 179,
   "metadata": {},
   "outputs": [
    {
     "name": "stdout",
     "output_type": "stream",
     "text": [
      "There are 0 duplicated entries.\n"
     ]
    }
   ],
   "source": [
    "#check for duplicates\n",
    "dublicated_entries = twitterdata.duplicated(keep = False)\n",
    "print(\"There are \" + str(dublicated_entries.sum()) + \" duplicated entries.\")"
   ]
  },
  {
   "cell_type": "code",
   "execution_count": 181,
   "metadata": {},
   "outputs": [
    {
     "name": "stdout",
     "output_type": "stream",
     "text": [
      "There are 243 duplicated text of tweets.\n"
     ]
    }
   ],
   "source": [
    "#check for duplicate texts\n",
    "dublicated_text = twitterdata.loc[:, [\"text\"]].duplicated(keep = False)\n",
    "print(\"There are \" + str(dublicated_text.sum()) + \" duplicated text of tweets.\")"
   ]
  },
  {
   "cell_type": "code",
   "execution_count": 182,
   "metadata": {},
   "outputs": [
    {
     "name": "stdout",
     "output_type": "stream",
     "text": [
      "                 source                                               text  \\\n",
      "604  Twitter for iPhone        ....THE UNITED STATES IS OPEN FOR BUSINESS!   \n",
      "603  Twitter for iPhone  ....I have seen some of the regulations being ...   \n",
      "602  Twitter for iPhone  ....product and goods to China and other count...   \n",
      "601  Twitter for iPhone  “Judge Jackson now has a request for a new tri...   \n",
      "600  Twitter for iPhone  .....would order a new trial, I’m not so sure ...   \n",
      "599  Twitter for iPhone  .....existence of these tweets in which you we...   \n",
      "391  Twitter for iPhone  Australia’s Central Bank cut interest rates an...   \n",
      "389  Twitter for iPhone  Australia’s Central Bank cut interest rates an...   \n",
      "137  Twitter for iPhone                            https://t.co/ytgBP3hJv1   \n",
      "81   Twitter for iPhone                            https://t.co/ytgBP3hJv1   \n",
      "\n",
      "                   created_at  retweet_count               id_str  \n",
      "604 2020-02-18 15:29:43+00:00           9968  1229790102949449728  \n",
      "603 2020-02-18 15:29:43+00:00           8568  1229790101728899072  \n",
      "602 2020-02-18 15:29:43+00:00           3614  1229790100797739008  \n",
      "601 2020-02-18 15:31:33+00:00          15782  1229790563668504576  \n",
      "600 2020-02-18 15:31:34+00:00           9002  1229790568110268416  \n",
      "599 2020-02-18 15:31:34+00:00           9720  1229790566721957888  \n",
      "391 2020-03-03 06:27:46+00:00            643  1234727146964254720  \n",
      "389 2020-03-03 06:34:02+00:00          14267  1234728724219691008  \n",
      "137 2020-03-20 18:45:23+00:00          31863  1241073365898727424  \n",
      "81  2020-03-24 19:50:00+00:00          23047  1242539178786725888  \n"
     ]
    }
   ],
   "source": [
    "#show tweets with duplicated text.\n",
    "print(twitterdata[dublicated_text].sort_values(by='created_at').tail(10))"
   ]
  },
  {
   "cell_type": "markdown",
   "metadata": {},
   "source": [
    "There are a few dupplicated text, which will be analyzed further. It can be seen that there are text that are repeated, like \"MAKE AMERICA GREAT AGAIN\" which are not a problem. But on the other site there are text, which seem like they were deleted and reposted later. It is difficult to check which one them is a real retweet and which of them was deleted. \n",
    "\n",
    "***TO DO: Check if we could delete the duplicates.*** "
   ]
  },
  {
   "cell_type": "markdown",
   "metadata": {},
   "source": [
    "### Check the target class retweet_count\n",
    "The target class is the number of retweets of a tweet. This is represented in the data as integer (int64)."
   ]
  },
  {
   "cell_type": "code",
   "execution_count": 183,
   "metadata": {},
   "outputs": [
    {
     "name": "stdout",
     "output_type": "stream",
     "text": [
      "The maximal retweet value is 369530.\n"
     ]
    }
   ],
   "source": [
    "#maximum of the retweet value\n",
    "print(\"The maximal retweet value is \" + str(twitterdata.loc[:,'retweet_count'].max()) + \".\" )"
   ]
  },
  {
   "cell_type": "markdown",
   "metadata": {},
   "source": [
    "Seems legitimate so far."
   ]
  },
  {
   "cell_type": "code",
   "execution_count": 184,
   "metadata": {},
   "outputs": [
    {
     "name": "stdout",
     "output_type": "stream",
     "text": [
      "The minimal retweet value is 0.\n"
     ]
    }
   ],
   "source": [
    "#minimum of the retweet value\n",
    "print(\"The minimal retweet value is \" + str(twitterdata.loc[:,'retweet_count'].min()) + \".\" )"
   ]
  },
  {
   "cell_type": "markdown",
   "metadata": {},
   "source": [
    "Seems like there is an outlier here. One hypothesis is that these are the tweets which are deleted and appear two times in the dataset. It cannot be finally confirmed, since we do not have a label for deleted tweets and not every tweet, which was deleted is tweeted again later. If you go back to the site http://www.trumptwitterarchive.com/archive you can see that every tweet here is not availabe anymore. It was probably posted and shortly after deleted. For example the tweet with the ID 366 has 0 retweets, which is deleted. But Trump posted the exact same tweet one minute after this tweet and it got 8000 retweets: https://twitter.com/realdonaldtrump/status/1235034836705959936."
   ]
  },
  {
   "cell_type": "code",
   "execution_count": 185,
   "metadata": {},
   "outputs": [
    {
     "data": {
      "text/plain": [
       "count     13427.000000\n",
       "mean      19149.517986\n",
       "std       12661.057625\n",
       "min           0.000000\n",
       "25%       11898.000000\n",
       "50%       17132.000000\n",
       "75%       23767.500000\n",
       "max      369530.000000\n",
       "Name: retweet_count, dtype: float64"
      ]
     },
     "execution_count": 185,
     "metadata": {},
     "output_type": "execute_result"
    }
   ],
   "source": [
    "#other summary statistics\n",
    "twitterdata.loc[:,'retweet_count'].describe()"
   ]
  },
  {
   "cell_type": "markdown",
   "metadata": {},
   "source": [
    "So far so good it looks like there is an skewed distribution of the values."
   ]
  },
  {
   "cell_type": "code",
   "execution_count": 186,
   "metadata": {},
   "outputs": [
    {
     "data": {
      "image/png": "[encoded data removed]",
      "text/plain": [
       "<Figure size 432x288 with 1 Axes>"
      ]
     },
     "metadata": {
      "needs_background": "light"
     },
     "output_type": "display_data"
    }
   ],
   "source": [
    "#visualize the retweet frequenzy as histogramm\n",
    "import matplotlib.pyplot as plt\n",
    "plt.hist(twitterdata[\"retweet_count\"], bins = 100)\n",
    "plt.xlabel('Retweets', fontsize=16)\n",
    "plt.ylabel('Count', fontsize=16)\n",
    "plt.show()"
   ]
  },
  {
   "cell_type": "markdown",
   "metadata": {},
   "source": [
    "It can be seen that there is an highly skewed distribution with an long tail. First visual impression shows an one sided truncated normal distribution."
   ]
  },
  {
   "cell_type": "code",
   "execution_count": 187,
   "metadata": {},
   "outputs": [
    {
     "data": {
      "image/png": "[encoded data removed]",
      "text/plain": [
       "<Figure size 432x288 with 1 Axes>"
      ]
     },
     "metadata": {
      "needs_background": "light"
     },
     "output_type": "display_data"
    }
   ],
   "source": [
    "#visualize the retweet frequenzy as histogramm for retweet_count < 100.000\n",
    "twitterdata_truncated = twitterdata[twitterdata[\"retweet_count\"] < 100000].loc[:, \"retweet_count\"]\n",
    "plt.hist(twitterdata_truncated, bins = 100)\n",
    "plt.axvline(twitterdata_truncated.median(), color='k', linestyle='dashed', linewidth=1)\n",
    "plt.xlabel('Retweets', fontsize=16)\n",
    "plt.ylabel('Count', fontsize=16)\n",
    "plt.show()"
   ]
  },
  {
   "cell_type": "markdown",
   "metadata": {},
   "source": [
    "Seems like the inital hypothesis is confirmed."
   ]
  },
  {
   "cell_type": "code",
   "execution_count": 188,
   "metadata": {},
   "outputs": [
    {
     "data": {
      "image/png": "[encoded data removed]",
      "text/plain": [
       "<Figure size 432x288 with 1 Axes>"
      ]
     },
     "metadata": {
      "needs_background": "light"
     },
     "output_type": "display_data"
    }
   ],
   "source": [
    "#visualize the retweet frequenzy as histogramm for retweet_count > 100.000\n",
    "twitterdata_truncated = twitterdata[twitterdata[\"retweet_count\"] > 100000].loc[:, \"retweet_count\"]\n",
    "plt.hist(twitterdata_truncated, bins = 100)\n",
    "plt.axvline(twitterdata_truncated.median(), color='k', linestyle='dashed', linewidth=1)\n",
    "plt.xlabel('Retweets', fontsize=16)\n",
    "plt.ylabel('Count', fontsize=16)\n",
    "plt.show()"
   ]
  },
  {
   "cell_type": "markdown",
   "metadata": {},
   "source": [
    "There seems nothing wrong here."
   ]
  },
  {
   "cell_type": "code",
   "execution_count": 189,
   "metadata": {},
   "outputs": [
    {
     "data": {
      "image/png": "[encoded data removed]",
      "text/plain": [
       "<Figure size 432x288 with 1 Axes>"
      ]
     },
     "metadata": {
      "needs_background": "light"
     },
     "output_type": "display_data"
    }
   ],
   "source": [
    "#visualize the retweet frequenzy as histogramm for retweet_count < 1.000\n",
    "twitterdata_truncated = twitterdata[twitterdata[\"retweet_count\"] < 1000].loc[:, \"retweet_count\"]\n",
    "plt.hist(twitterdata_truncated, bins = 100)\n",
    "plt.axvline(twitterdata_truncated.median(), color='k', linestyle='dashed', linewidth=1)\n",
    "plt.xlabel('Retweets', fontsize=16)\n",
    "plt.ylabel('Count', fontsize=16)\n",
    "plt.show()"
   ]
  },
  {
   "cell_type": "markdown",
   "metadata": {},
   "source": [
    "Seems like there especially many tweets that have retweet count 0. These will most likely be deleted tweets. The rest could also be deleted tweets."
   ]
  },
  {
   "cell_type": "markdown",
   "metadata": {},
   "source": [
    "The first analysis of the retweet count shows that the data is so far so good. The only problem are the potentially deleted tweet, which cannot be analyzed in this first project."
   ]
  },
  {
   "cell_type": "markdown",
   "metadata": {},
   "source": [
    "### Check the attribute source\n",
    "This is represented in the data as strings (object)."
   ]
  },
  {
   "cell_type": "code",
   "execution_count": 190,
   "metadata": {},
   "outputs": [
    {
     "name": "stdout",
     "output_type": "stream",
     "text": [
      "There are 8 distinct values.\n"
     ]
    }
   ],
   "source": [
    "#check how many distinct values there are. \n",
    "twitterdata_source_unique = twitterdata.loc[:,'source'].unique()\n",
    "print(\"There are \" + str(twitterdata_source_unique .size) + \" distinct values.\")"
   ]
  },
  {
   "cell_type": "code",
   "execution_count": 191,
   "metadata": {},
   "outputs": [
    {
     "name": "stdout",
     "output_type": "stream",
     "text": [
      "The different values are:\n",
      "['Twitter for iPhone' 'Twitter Media Studio' 'Twitter Web App'\n",
      " 'Twitter Web Client' 'Twitter for iPad' 'Media Studio' 'Twitter Ads'\n",
      " 'Twitter for Android']\n"
     ]
    }
   ],
   "source": [
    "#show the different values\n",
    "print(\"The different values are:\")\n",
    "print(twitterdata_source_unique)"
   ]
  },
  {
   "cell_type": "code",
   "execution_count": 192,
   "metadata": {},
   "outputs": [
    {
     "name": "stdout",
     "output_type": "stream",
     "text": [
      "source\n",
      "Media Studio              155\n",
      "Twitter Ads                33\n",
      "Twitter Media Studio      159\n",
      "Twitter Web App             4\n",
      "Twitter Web Client         48\n",
      "Twitter for Android       173\n",
      "Twitter for iPad           35\n",
      "Twitter for iPhone      12820\n",
      "Name: retweet_count, dtype: int64\n"
     ]
    }
   ],
   "source": [
    "#show the frequency of the different values\n",
    "twitterdata_source_frequency = twitterdata.groupby(by = \"source\").count().loc[:,\"retweet_count\"]\n",
    "print(twitterdata_source_frequency)"
   ]
  },
  {
   "cell_type": "markdown",
   "metadata": {},
   "source": [
    "It can be seen that there are very infrequent classes. It has to be seen, if these should be binned into on class or if they have prediction power. Therefore the next step is to analyze the retweet count based on the source."
   ]
  },
  {
   "cell_type": "code",
   "execution_count": 193,
   "metadata": {},
   "outputs": [
    {
     "data": {
      "image/png": "[encoded data removed]",
      "text/plain": [
       "<Figure size 720x864 with 8 Axes>"
      ]
     },
     "metadata": {
      "needs_background": "light"
     },
     "output_type": "display_data"
    }
   ],
   "source": [
    "#visualize retweet count based on source\n",
    "twitterdata_source_hist = twitterdata.hist(column='retweet_count', by='source', bins=100, grid=False, figsize=(10,12), layout=(4,2))"
   ]
  },
  {
   "cell_type": "code",
   "execution_count": 194,
   "metadata": {},
   "outputs": [
    {
     "data": {
      "image/png": "[encoded data removed]",
      "text/plain": [
       "<Figure size 1152x432 with 1 Axes>"
      ]
     },
     "metadata": {
      "needs_background": "light"
     },
     "output_type": "display_data"
    }
   ],
   "source": [
    "#use boxplots for more clear results\n",
    "twitterdata_source_boxplot = twitterdata.boxplot(column='retweet_count', by='source', figsize = (16,6))"
   ]
  },
  {
   "cell_type": "markdown",
   "metadata": {},
   "source": [
    "Seems like there are small differences. Maybe a binning show more significant results. "
   ]
  },
  {
   "cell_type": "code",
   "execution_count": 195,
   "metadata": {},
   "outputs": [],
   "source": [
    "#bin values in two categories\n",
    "twitterdata['source_binary'] = twitterdata[\"source\"] == \"Twitter for iPhone\""
   ]
  },
  {
   "cell_type": "code",
   "execution_count": 196,
   "metadata": {},
   "outputs": [
    {
     "data": {
      "image/png": "[encoded data removed]",
      "text/plain": [
       "<Figure size 1152x432 with 1 Axes>"
      ]
     },
     "metadata": {
      "needs_background": "light"
     },
     "output_type": "display_data"
    }
   ],
   "source": [
    "#visualy compare the two categories\n",
    "twitterdata_source_boxplot = twitterdata.boxplot(column='retweet_count', by='source_binary', figsize = (16,6))"
   ]
  },
  {
   "cell_type": "markdown",
   "metadata": {},
   "source": [
    "### Check the attribute created_at\n",
    "This is represented in the data as time (datetime64[ns, UTC])."
   ]
  },
  {
   "cell_type": "code",
   "execution_count": 197,
   "metadata": {},
   "outputs": [
    {
     "data": {
      "text/plain": [
       "count                         13427\n",
       "unique                        13054\n",
       "top       2019-05-10 11:22:22+00:00\n",
       "freq                              4\n",
       "first     2017-01-20 00:40:51+00:00\n",
       "last      2020-03-30 20:50:35+00:00\n",
       "Name: created_at, dtype: object"
      ]
     },
     "execution_count": 197,
     "metadata": {},
     "output_type": "execute_result"
    }
   ],
   "source": [
    "#check the basis statistics\n",
    "twitterdata.loc[:,'created_at'].describe()"
   ]
  },
  {
   "cell_type": "markdown",
   "metadata": {},
   "source": [
    "The data range is the targeted. What is noticable that there non unique values. These are further investigated. "
   ]
  },
  {
   "cell_type": "code",
   "execution_count": 198,
   "metadata": {},
   "outputs": [
    {
     "name": "stdout",
     "output_type": "stream",
     "text": [
      "There are 710 duplicated dates of tweets.\n"
     ]
    }
   ],
   "source": [
    "#show tweets with duplicated dates.\n",
    "dublicated_text = twitterdata.loc[:, [\"created_at\"]].duplicated(keep = False)\n",
    "print(\"There are \" + str(dublicated_text.sum()) + \" duplicated dates of tweets.\")"
   ]
  },
  {
   "cell_type": "code",
   "execution_count": 199,
   "metadata": {},
   "outputs": [
    {
     "name": "stdout",
     "output_type": "stream",
     "text": [
      "                   source                                               text  \\\n",
      "12815  Twitter for iPhone             Big win in Montana for Republicans! We   \n",
      "12814  Twitter for iPhone  Just arrived in Italy after having a very succ...   \n",
      "10645  Twitter for iPhone  Looks like Jerry Brown and California are not ...   \n",
      "10646  Twitter for iPhone  So many people are seeing the benefits of the ...   \n",
      "10640  Twitter for iPhone  Today’s Court decision means that Congress mus...   \n",
      "10641  Twitter for iPhone  ....Congress – House and Senate must quickly p...   \n",
      "\n",
      "                     created_at  retweet_count              id_str  \\\n",
      "12815 2017-05-28 11:57:20+00:00            428  868798339676086272   \n",
      "12814 2017-05-28 11:57:20+00:00            416  868798339671830528   \n",
      "10645 2018-04-17 12:24:36+00:00          15332  986218870506754048   \n",
      "10646 2018-04-17 12:24:36+00:00          15379  986218871991492608   \n",
      "10640 2018-04-17 21:34:23+00:00          15804  986357228306354176   \n",
      "10641 2018-04-17 21:34:23+00:00          13120  986357230219022336   \n",
      "\n",
      "       source_binary  \n",
      "12815           True  \n",
      "12814           True  \n",
      "10645           True  \n",
      "10646           True  \n",
      "10640           True  \n",
      "10641           True  \n"
     ]
    }
   ],
   "source": [
    "#check for duplicate texts\n",
    "print(twitterdata[dublicated_text].sort_values(by='created_at').head(6))"
   ]
  },
  {
   "cell_type": "markdown",
   "metadata": {},
   "source": [
    "Seems like there is no mistake with the duplicated dates."
   ]
  },
  {
   "cell_type": "markdown",
   "metadata": {},
   "source": [
    "Since the data is in UTC +00, it needs to be changed eastern time zone, washington -5."
   ]
  },
  {
   "cell_type": "code",
   "execution_count": 237,
   "metadata": {},
   "outputs": [],
   "source": [
    "#change timezone \n",
    "twitterdata['created_at_utc'] = twitterdata['created_at']\n",
    "twitterdata['created_at'] = pd.DatetimeIndex(twitterdata['created_at']).tz_convert('America/New_York')"
   ]
  },
  {
   "cell_type": "markdown",
   "metadata": {},
   "source": [
    "It is the best guess to change the time to Washington time zone. If he is in other time zones it can not be seen. It also does not necessary have an real impact, since the time difference remains the same. "
   ]
  },
  {
   "cell_type": "code",
   "execution_count": 239,
   "metadata": {},
   "outputs": [],
   "source": [
    "#create hour of the day and date as attributes\n",
    "twitterdata['created_at_hour'] = twitterdata[\"created_at\"].dt.hour\n",
    "twitterdata['created_at_date'] = twitterdata[\"created_at\"].dt.date"
   ]
  },
  {
   "cell_type": "code",
   "execution_count": 240,
   "metadata": {},
   "outputs": [
    {
     "data": {
      "text/plain": [
       "<matplotlib.axes._subplots.AxesSubplot at 0x126bb2950>"
      ]
     },
     "execution_count": 240,
     "metadata": {},
     "output_type": "execute_result"
    },
    {
     "data": {
      "image/png": "[encoded data removed]",
      "text/plain": [
       "<Figure size 432x288 with 1 Axes>"
      ]
     },
     "metadata": {
      "needs_background": "light"
     },
     "output_type": "display_data"
    }
   ],
   "source": [
    "#check if there a times where no data is available \n",
    "twitterdata_timeseries = twitterdata.groupby(\"created_at_date\").count().loc[:,\"retweet_count\"]\n",
    "twitterdata_timeseries.plot()"
   ]
  },
  {
   "cell_type": "markdown",
   "metadata": {},
   "source": [
    "Seems like there are no relevant timeperiods without tweets. "
   ]
  },
  {
   "cell_type": "code",
   "execution_count": 277,
   "metadata": {},
   "outputs": [
    {
     "data": {
      "image/png": "[encoded data removed]",
      "text/plain": [
       "<Figure size 1152x432 with 1 Axes>"
      ]
     },
     "metadata": {
      "needs_background": "light"
     },
     "output_type": "display_data"
    }
   ],
   "source": [
    "#check if time of the day is relevant feature\n",
    "twitterdata_source_boxplot = twitterdata[twitterdata[\"retweet_count\"] < 100000].boxplot(column='retweet_count', by='created_at_hour', figsize = (16,6))"
   ]
  },
  {
   "cell_type": "markdown",
   "metadata": {},
   "source": [
    "There a no immense differences but small changes. Therefore the values are binned into times of day."
   ]
  },
  {
   "cell_type": "code",
   "execution_count": 242,
   "metadata": {},
   "outputs": [],
   "source": [
    "#create feature times of day\n",
    "twitterdata[\"created_at_daytime\"] = pd.cut(twitterdata['created_at_hour'],[0,6,12,18,24], labels = ['Night', 'Morning', 'Afternoon', 'Evening'])"
   ]
  },
  {
   "cell_type": "code",
   "execution_count": 278,
   "metadata": {},
   "outputs": [
    {
     "data": {
      "image/png": "[encoded data removed]",
      "text/plain": [
       "<Figure size 1152x432 with 1 Axes>"
      ]
     },
     "metadata": {
      "needs_background": "light"
     },
     "output_type": "display_data"
    }
   ],
   "source": [
    "#show impact of feature times of day\n",
    "twitterdata_source_daytime_boxplot = twitterdata[twitterdata[\"retweet_count\"] < 100000].boxplot(column='retweet_count', by='created_at_daytime', figsize = (16,6))"
   ]
  },
  {
   "cell_type": "code",
   "execution_count": 247,
   "metadata": {},
   "outputs": [],
   "source": [
    "#create feature day of the week\n",
    "twitterdata[\"created_at_weekday\"] = twitterdata[\"created_at\"].dt.day_name()"
   ]
  },
  {
   "cell_type": "code",
   "execution_count": 279,
   "metadata": {},
   "outputs": [
    {
     "data": {
      "image/png": "[encoded data removed]",
      "text/plain": [
       "<Figure size 1152x432 with 1 Axes>"
      ]
     },
     "metadata": {
      "needs_background": "light"
     },
     "output_type": "display_data"
    }
   ],
   "source": [
    "#show impact of feature day of the week\n",
    "twitterdata_source_weekday_boxplot = twitterdata[twitterdata[\"retweet_count\"] < 100000].boxplot(column='retweet_count', by='created_at_weekday', figsize = (16,6))"
   ]
  },
  {
   "cell_type": "code",
   "execution_count": 248,
   "metadata": {},
   "outputs": [],
   "source": [
    "#create feature month\n",
    "twitterdata[\"created_at_month\"] = twitterdata[\"created_at\"].dt.month"
   ]
  },
  {
   "cell_type": "code",
   "execution_count": 280,
   "metadata": {},
   "outputs": [
    {
     "data": {
      "image/png": "[encoded data removed]",
      "text/plain": [
       "<Figure size 1152x432 with 1 Axes>"
      ]
     },
     "metadata": {
      "needs_background": "light"
     },
     "output_type": "display_data"
    }
   ],
   "source": [
    "#show impact of feature day of the week\n",
    "twitterdata_source_month_boxplot = twitterdata[twitterdata[\"retweet_count\"] < 100000].boxplot(column='retweet_count', by='created_at_month', figsize = (16,6))"
   ]
  },
  {
   "cell_type": "code",
   "execution_count": 275,
   "metadata": {},
   "outputs": [],
   "source": [
    "#create feature age of the tweet in days\n",
    "from pytz import timezone\n",
    "date_inaguration = datetime(2017, 1, 20, 0, 0, 1).astimezone(timezone(\"America/New_York\")) #the date Trump was inaugurated\n",
    "twitterdata['created_at_age_days'] = (twitterdata['created_at'] - date_inaguration).dt.days\n",
    "twitterdata['created_at_age_months'] = round((twitterdata['created_at'] - date_inaguration).dt.days/30,1)"
   ]
  },
  {
   "cell_type": "code",
   "execution_count": 276,
   "metadata": {},
   "outputs": [
    {
     "data": {
      "text/plain": [
       "<matplotlib.axes._subplots.AxesSubplot at 0x1267f4350>"
      ]
     },
     "execution_count": 276,
     "metadata": {},
     "output_type": "execute_result"
    },
    {
     "data": {
      "image/png": "[encoded data removed]",
      "text/plain": [
       "<Figure size 432x288 with 1 Axes>"
      ]
     },
     "metadata": {
      "needs_background": "light"
     },
     "output_type": "display_data"
    }
   ],
   "source": [
    "#plot the development of retweets median per month\n",
    "twitterdata.groupby(\"created_at_age_months\").median()[\"retweet_count\"].plot.line()"
   ]
  },
  {
   "cell_type": "markdown",
   "metadata": {},
   "source": [
    "Seems like this will be a good feature later."
   ]
  },
  {
   "cell_type": "markdown",
   "metadata": {},
   "source": [
    "***TO DO:*** calculate distance to last tweet."
   ]
  },
  {
   "cell_type": "markdown",
   "metadata": {},
   "source": [
    "### Check the attribute  id_str  \n",
    "This is represented in the data as integer (integer64)."
   ]
  },
  {
   "cell_type": "code",
   "execution_count": 281,
   "metadata": {},
   "outputs": [
    {
     "name": "stdout",
     "output_type": "stream",
     "text": [
      "This is a unique identifier.\n"
     ]
    }
   ],
   "source": [
    "#check if this is a unique identifier\n",
    "if twitterdata[\"id_str\"].nunique() == twitterdata.shape[0]:\n",
    "    print(\"This is a unique identifier.\")"
   ]
  },
  {
   "cell_type": "markdown",
   "metadata": {},
   "source": [
    "Since this variable is a unique identifier it has no relevance for the further training."
   ]
  },
  {
   "cell_type": "markdown",
   "metadata": {},
   "source": [
    "### Check the attribute text \n",
    "This is represented in the data as strings (object)."
   ]
  },
  {
   "cell_type": "code",
   "execution_count": 284,
   "metadata": {},
   "outputs": [
    {
     "data": {
      "text/plain": [
       "count                         13427\n",
       "unique                        13278\n",
       "top       MAKE AMERICA GREAT AGAIN!\n",
       "freq                             22\n",
       "Name: text, dtype: object"
      ]
     },
     "execution_count": 284,
     "metadata": {},
     "output_type": "execute_result"
    }
   ],
   "source": [
    "#short summary of the attribute\n",
    "twitterdata['text'].describe()"
   ]
  },
  {
   "cell_type": "markdown",
   "metadata": {},
   "source": [
    "The topic of duplicated entries was already discussed before. "
   ]
  },
  {
   "cell_type": "markdown",
   "metadata": {},
   "source": [
    "Now it needs to be understood how the strings are decoded and and how\n",
    "* pictures\n",
    "* smiley\n",
    "* videos\n",
    "* mentions\n",
    "* urls\n",
    "* hashtags\n",
    "are stored"
   ]
  },
  {
   "cell_type": "markdown",
   "metadata": {},
   "source": [
    "#### Video \n",
    "All tweets by Twitter Media Studio or Media Studio contain self hosted videos"
   ]
  },
  {
   "cell_type": "code",
   "execution_count": 308,
   "metadata": {},
   "outputs": [],
   "source": [
    "#create attribute published video by himself\n",
    "import numpy as np\n",
    "twitterdata[\"video_selfpublished\"] = np.logical_or(twitterdata[\"source\"] == \"Twitter Media Studio\", twitterdata[\"source\"] == \"Media Studio\")"
   ]
  },
  {
   "cell_type": "markdown",
   "metadata": {},
   "source": [
    "####  TO DO Check the appearance of photos"
   ]
  },
  {
   "cell_type": "markdown",
   "metadata": {},
   "source": [
    "####  Hashtags\n",
    "Extract hastages with regex."
   ]
  },
  {
   "cell_type": "code",
   "execution_count": 329,
   "metadata": {},
   "outputs": [],
   "source": [
    "#extract hashtags\n",
    "import re\n",
    "#define function to get hashtags\n",
    "def hashtags(text):\n",
    "    pattern = re.compile(r\"#(\\w+)\")\n",
    "    hashtags = pattern.findall(text)\n",
    "    return hashtags\n",
    "\n",
    "#apply to dataset\n",
    "twitterdata['hashtag_content'] =  twitterdata.apply(lambda x: hashtags(x['text']), axis=1)\n",
    "\n",
    "#if tweet contains hashtag (boolean)\n",
    "twitterdata['hashtag_included'] =  twitterdata.apply(lambda x: 1 if len(x['hashtag_content']) > 0 else 0, axis=1)\n",
    "\n",
    "# number of hashtags\n",
    "twitterdata['hashtag_number'] =  twitterdata.apply(lambda x: len(x['hashtag_content']), axis=1)"
   ]
  },
  {
   "cell_type": "code",
   "execution_count": 419,
   "metadata": {},
   "outputs": [],
   "source": [
    "#build dictionary to search for most used hastags \n",
    "dictionary_hashtags = {} #initialize empy dictionary\n",
    "\n",
    "#build dictionary\n",
    "for i in twitterdata.index:\n",
    "    tweet_text = twitterdata['text'][i]\n",
    "    tweet_text_tokenized = tweet_text.split()\n",
    "    \n",
    "    #check for hashtags\n",
    "    for word in tweet_text_tokenized:\n",
    "        if (word[0:1] == '#' and len(word) > 1):\n",
    "            if word in dictionary_hashtags:\n",
    "                dictionary_hashtags[word] += 1\n",
    "            else:\n",
    "                dictionary_hashtags[word] = 1\n",
    "\n",
    "#transform to dataframe\n",
    "dataframe_hashtags = pd.DataFrame(dictionary_hashtags.items(), columns=['Hashtag', 'occurences'])"
   ]
  },
  {
   "cell_type": "code",
   "execution_count": 420,
   "metadata": {},
   "outputs": [
    {
     "name": "stdout",
     "output_type": "stream",
     "text": [
      "There are 712 different hashtags.\n"
     ]
    },
    {
     "data": {
      "text/html": [
       "<div>\n",
       "<style scoped>\n",
       "    .dataframe tbody tr th:only-of-type {\n",
       "        vertical-align: middle;\n",
       "    }\n",
       "\n",
       "    .dataframe tbody tr th {\n",
       "        vertical-align: top;\n",
       "    }\n",
       "\n",
       "    .dataframe thead th {\n",
       "        text-align: right;\n",
       "    }\n",
       "</style>\n",
       "<table border=\"1\" class=\"dataframe\">\n",
       "  <thead>\n",
       "    <tr style=\"text-align: right;\">\n",
       "      <th></th>\n",
       "      <th>Hashtag</th>\n",
       "      <th>occurences</th>\n",
       "    </tr>\n",
       "  </thead>\n",
       "  <tbody>\n",
       "    <tr>\n",
       "      <th>2</th>\n",
       "      <td>#MAGA</td>\n",
       "      <td>161</td>\n",
       "    </tr>\n",
       "    <tr>\n",
       "      <th>12</th>\n",
       "      <td>#KAG2020</td>\n",
       "      <td>58</td>\n",
       "    </tr>\n",
       "    <tr>\n",
       "      <th>51</th>\n",
       "      <td>#MAGA🇺🇸</td>\n",
       "      <td>31</td>\n",
       "    </tr>\n",
       "    <tr>\n",
       "      <th>520</th>\n",
       "      <td>#USA🇺🇸</td>\n",
       "      <td>23</td>\n",
       "    </tr>\n",
       "    <tr>\n",
       "      <th>178</th>\n",
       "      <td>#Dorian</td>\n",
       "      <td>17</td>\n",
       "    </tr>\n",
       "    <tr>\n",
       "      <th>21</th>\n",
       "      <td>#KAG</td>\n",
       "      <td>15</td>\n",
       "    </tr>\n",
       "    <tr>\n",
       "      <th>111</th>\n",
       "      <td>#1</td>\n",
       "      <td>15</td>\n",
       "    </tr>\n",
       "    <tr>\n",
       "      <th>142</th>\n",
       "      <td>#FakeNews</td>\n",
       "      <td>14</td>\n",
       "    </tr>\n",
       "    <tr>\n",
       "      <th>162</th>\n",
       "      <td>#UNGA</td>\n",
       "      <td>13</td>\n",
       "    </tr>\n",
       "    <tr>\n",
       "      <th>50</th>\n",
       "      <td>#USMCA</td>\n",
       "      <td>12</td>\n",
       "    </tr>\n",
       "  </tbody>\n",
       "</table>\n",
       "</div>"
      ],
      "text/plain": [
       "       Hashtag  occurences\n",
       "2        #MAGA         161\n",
       "12    #KAG2020          58\n",
       "51     #MAGA🇺🇸          31\n",
       "520     #USA🇺🇸          23\n",
       "178    #Dorian          17\n",
       "21        #KAG          15\n",
       "111         #1          15\n",
       "142  #FakeNews          14\n",
       "162      #UNGA          13\n",
       "50      #USMCA          12"
      ]
     },
     "execution_count": 420,
     "metadata": {},
     "output_type": "execute_result"
    }
   ],
   "source": [
    "#analyze dataframe\n",
    "print(\"There are \" + str(dataframe_hashtags.shape[0]) + \" different hashtags.\")\n",
    "dataframe_hashtags.sort_values(\"occurences\", ascending = False).head(n = 10)"
   ]
  },
  {
   "cell_type": "markdown",
   "metadata": {},
   "source": [
    "Since the goal is to have a generalizable model, which extract actionable knowledge Hashtags with occurences of less than 50 (~ 0.5%) will be ignored. This means the only interesting Hashtags are the one with Make America Great Again and Keep America Great. These will be extracted and added as a feature."
   ]
  },
  {
   "cell_type": "code",
   "execution_count": 447,
   "metadata": {},
   "outputs": [],
   "source": [
    "#create function for feature generation\n",
    "def generate_feature(category, value): \n",
    "        return twitterdata[category].str.contains(re.compile(value))"
   ]
  },
  {
   "cell_type": "code",
   "execution_count": 442,
   "metadata": {},
   "outputs": [
    {
     "data": {
      "text/html": [
       "<div>\n",
       "<style scoped>\n",
       "    .dataframe tbody tr th:only-of-type {\n",
       "        vertical-align: middle;\n",
       "    }\n",
       "\n",
       "    .dataframe tbody tr th {\n",
       "        vertical-align: top;\n",
       "    }\n",
       "\n",
       "    .dataframe thead th {\n",
       "        text-align: right;\n",
       "    }\n",
       "</style>\n",
       "<table border=\"1\" class=\"dataframe\">\n",
       "  <thead>\n",
       "    <tr style=\"text-align: right;\">\n",
       "      <th></th>\n",
       "      <th>source</th>\n",
       "      <th>text</th>\n",
       "      <th>created_at</th>\n",
       "      <th>retweet_count</th>\n",
       "      <th>id_str</th>\n",
       "      <th>source_binary</th>\n",
       "      <th>created_at_et</th>\n",
       "      <th>created_at_hour</th>\n",
       "      <th>created_at_date</th>\n",
       "      <th>created_at_daytime</th>\n",
       "      <th>...</th>\n",
       "      <th>created_at_age_months</th>\n",
       "      <th>video_selfpublished</th>\n",
       "      <th>hashtag_content</th>\n",
       "      <th>hashtag_included</th>\n",
       "      <th>hashtag_number</th>\n",
       "      <th>hashtag_maga</th>\n",
       "      <th>hashtag_kag</th>\n",
       "      <th>mentions_content</th>\n",
       "      <th>mentions_included</th>\n",
       "      <th>mentions_number</th>\n",
       "    </tr>\n",
       "  </thead>\n",
       "  <tbody>\n",
       "    <tr>\n",
       "      <th>0</th>\n",
       "      <td>Twitter for iPhone</td>\n",
       "      <td>White House news conference at 5:00 P.M. Easte...</td>\n",
       "      <td>2020-03-30 16:50:35-04:00</td>\n",
       "      <td>14441</td>\n",
       "      <td>1244728753617620992</td>\n",
       "      <td>True</td>\n",
       "      <td>2020-03-30 16:50:35-04:00</td>\n",
       "      <td>16</td>\n",
       "      <td>2020-03-30</td>\n",
       "      <td>Afternoon</td>\n",
       "      <td>...</td>\n",
       "      <td>38.8</td>\n",
       "      <td>False</td>\n",
       "      <td>[]</td>\n",
       "      <td>0</td>\n",
       "      <td>0</td>\n",
       "      <td>False</td>\n",
       "      <td>False</td>\n",
       "      <td>[]</td>\n",
       "      <td>0</td>\n",
       "      <td>0</td>\n",
       "    </tr>\n",
       "    <tr>\n",
       "      <th>1</th>\n",
       "      <td>Twitter for iPhone</td>\n",
       "      <td>https://t.co/2hKJkP5Z6N</td>\n",
       "      <td>2020-03-30 13:46:15-04:00</td>\n",
       "      <td>15520</td>\n",
       "      <td>1244682364284014592</td>\n",
       "      <td>True</td>\n",
       "      <td>2020-03-30 13:46:15-04:00</td>\n",
       "      <td>13</td>\n",
       "      <td>2020-03-30</td>\n",
       "      <td>Afternoon</td>\n",
       "      <td>...</td>\n",
       "      <td>38.8</td>\n",
       "      <td>False</td>\n",
       "      <td>[]</td>\n",
       "      <td>0</td>\n",
       "      <td>0</td>\n",
       "      <td>False</td>\n",
       "      <td>False</td>\n",
       "      <td>[]</td>\n",
       "      <td>0</td>\n",
       "      <td>0</td>\n",
       "    </tr>\n",
       "    <tr>\n",
       "      <th>2</th>\n",
       "      <td>Twitter for iPhone</td>\n",
       "      <td>On #NationalDoctorsDay, we recognize the remar...</td>\n",
       "      <td>2020-03-30 13:11:59-04:00</td>\n",
       "      <td>19753</td>\n",
       "      <td>1244673740866191360</td>\n",
       "      <td>True</td>\n",
       "      <td>2020-03-30 13:11:59-04:00</td>\n",
       "      <td>13</td>\n",
       "      <td>2020-03-30</td>\n",
       "      <td>Afternoon</td>\n",
       "      <td>...</td>\n",
       "      <td>38.8</td>\n",
       "      <td>False</td>\n",
       "      <td>[NationalDoctorsDay]</td>\n",
       "      <td>1</td>\n",
       "      <td>1</td>\n",
       "      <td>False</td>\n",
       "      <td>False</td>\n",
       "      <td>[]</td>\n",
       "      <td>0</td>\n",
       "      <td>0</td>\n",
       "    </tr>\n",
       "    <tr>\n",
       "      <th>3</th>\n",
       "      <td>Twitter for iPhone</td>\n",
       "      <td>https://t.co/nzWJ8ViwbZ</td>\n",
       "      <td>2020-03-30 13:05:33-04:00</td>\n",
       "      <td>39114</td>\n",
       "      <td>1244672122414338048</td>\n",
       "      <td>True</td>\n",
       "      <td>2020-03-30 13:05:33-04:00</td>\n",
       "      <td>13</td>\n",
       "      <td>2020-03-30</td>\n",
       "      <td>Afternoon</td>\n",
       "      <td>...</td>\n",
       "      <td>38.8</td>\n",
       "      <td>False</td>\n",
       "      <td>[]</td>\n",
       "      <td>0</td>\n",
       "      <td>0</td>\n",
       "      <td>False</td>\n",
       "      <td>False</td>\n",
       "      <td>[]</td>\n",
       "      <td>0</td>\n",
       "      <td>0</td>\n",
       "    </tr>\n",
       "    <tr>\n",
       "      <th>4</th>\n",
       "      <td>Twitter for iPhone</td>\n",
       "      <td>Nancy Pelosi and the Democrats delayed the Wor...</td>\n",
       "      <td>2020-03-30 07:17:10-04:00</td>\n",
       "      <td>43360</td>\n",
       "      <td>1244584449309892608</td>\n",
       "      <td>True</td>\n",
       "      <td>2020-03-30 07:17:10-04:00</td>\n",
       "      <td>7</td>\n",
       "      <td>2020-03-30</td>\n",
       "      <td>Morning</td>\n",
       "      <td>...</td>\n",
       "      <td>38.8</td>\n",
       "      <td>False</td>\n",
       "      <td>[]</td>\n",
       "      <td>0</td>\n",
       "      <td>0</td>\n",
       "      <td>False</td>\n",
       "      <td>False</td>\n",
       "      <td>[]</td>\n",
       "      <td>0</td>\n",
       "      <td>0</td>\n",
       "    </tr>\n",
       "    <tr>\n",
       "      <th>...</th>\n",
       "      <td>...</td>\n",
       "      <td>...</td>\n",
       "      <td>...</td>\n",
       "      <td>...</td>\n",
       "      <td>...</td>\n",
       "      <td>...</td>\n",
       "      <td>...</td>\n",
       "      <td>...</td>\n",
       "      <td>...</td>\n",
       "      <td>...</td>\n",
       "      <td>...</td>\n",
       "      <td>...</td>\n",
       "      <td>...</td>\n",
       "      <td>...</td>\n",
       "      <td>...</td>\n",
       "      <td>...</td>\n",
       "      <td>...</td>\n",
       "      <td>...</td>\n",
       "      <td>...</td>\n",
       "      <td>...</td>\n",
       "      <td>...</td>\n",
       "    </tr>\n",
       "    <tr>\n",
       "      <th>13422</th>\n",
       "      <td>Twitter for iPhone</td>\n",
       "      <td>power from Washington, D.C. and giving it back...</td>\n",
       "      <td>2017-01-20 12:51:58-05:00</td>\n",
       "      <td>18362</td>\n",
       "      <td>822501939267141632</td>\n",
       "      <td>True</td>\n",
       "      <td>2017-01-20 12:51:58-05:00</td>\n",
       "      <td>12</td>\n",
       "      <td>2017-01-20</td>\n",
       "      <td>Morning</td>\n",
       "      <td>...</td>\n",
       "      <td>0.0</td>\n",
       "      <td>False</td>\n",
       "      <td>[InaugurationDay]</td>\n",
       "      <td>1</td>\n",
       "      <td>1</td>\n",
       "      <td>False</td>\n",
       "      <td>False</td>\n",
       "      <td>[]</td>\n",
       "      <td>0</td>\n",
       "      <td>0</td>\n",
       "    </tr>\n",
       "    <tr>\n",
       "      <th>13423</th>\n",
       "      <td>Twitter for iPhone</td>\n",
       "      <td>Today we are not merely transferring power fro...</td>\n",
       "      <td>2017-01-20 12:51:25-05:00</td>\n",
       "      <td>20125</td>\n",
       "      <td>822501803615014912</td>\n",
       "      <td>True</td>\n",
       "      <td>2017-01-20 12:51:25-05:00</td>\n",
       "      <td>12</td>\n",
       "      <td>2017-01-20</td>\n",
       "      <td>Morning</td>\n",
       "      <td>...</td>\n",
       "      <td>0.0</td>\n",
       "      <td>False</td>\n",
       "      <td>[]</td>\n",
       "      <td>0</td>\n",
       "      <td>0</td>\n",
       "      <td>False</td>\n",
       "      <td>False</td>\n",
       "      <td>[]</td>\n",
       "      <td>0</td>\n",
       "      <td>0</td>\n",
       "    </tr>\n",
       "    <tr>\n",
       "      <th>13424</th>\n",
       "      <td>Twitter for Android</td>\n",
       "      <td>It all begins today! I will see you at 11:00 A...</td>\n",
       "      <td>2017-01-20 07:31:53-05:00</td>\n",
       "      <td>70523</td>\n",
       "      <td>822421390125043712</td>\n",
       "      <td>False</td>\n",
       "      <td>2017-01-20 07:31:53-05:00</td>\n",
       "      <td>7</td>\n",
       "      <td>2017-01-20</td>\n",
       "      <td>Morning</td>\n",
       "      <td>...</td>\n",
       "      <td>0.0</td>\n",
       "      <td>False</td>\n",
       "      <td>[]</td>\n",
       "      <td>0</td>\n",
       "      <td>0</td>\n",
       "      <td>False</td>\n",
       "      <td>False</td>\n",
       "      <td>[]</td>\n",
       "      <td>0</td>\n",
       "      <td>0</td>\n",
       "    </tr>\n",
       "    <tr>\n",
       "      <th>13425</th>\n",
       "      <td>Twitter for iPhone</td>\n",
       "      <td>Thank you for a wonderful evening in Washingto...</td>\n",
       "      <td>2017-01-19 23:24:33-05:00</td>\n",
       "      <td>20770</td>\n",
       "      <td>822298747421986816</td>\n",
       "      <td>True</td>\n",
       "      <td>2017-01-19 23:24:33-05:00</td>\n",
       "      <td>23</td>\n",
       "      <td>2017-01-19</td>\n",
       "      <td>Evening</td>\n",
       "      <td>...</td>\n",
       "      <td>0.0</td>\n",
       "      <td>False</td>\n",
       "      <td>[Inauguration]</td>\n",
       "      <td>1</td>\n",
       "      <td>1</td>\n",
       "      <td>False</td>\n",
       "      <td>False</td>\n",
       "      <td>[]</td>\n",
       "      <td>0</td>\n",
       "      <td>0</td>\n",
       "    </tr>\n",
       "    <tr>\n",
       "      <th>13426</th>\n",
       "      <td>Twitter for iPhone</td>\n",
       "      <td>Thank you for joining us at the Lincoln Memori...</td>\n",
       "      <td>2017-01-19 19:40:51-05:00</td>\n",
       "      <td>34204</td>\n",
       "      <td>822242449053614080</td>\n",
       "      <td>True</td>\n",
       "      <td>2017-01-19 19:40:51-05:00</td>\n",
       "      <td>19</td>\n",
       "      <td>2017-01-19</td>\n",
       "      <td>Evening</td>\n",
       "      <td>...</td>\n",
       "      <td>0.0</td>\n",
       "      <td>False</td>\n",
       "      <td>[]</td>\n",
       "      <td>0</td>\n",
       "      <td>0</td>\n",
       "      <td>False</td>\n",
       "      <td>False</td>\n",
       "      <td>[]</td>\n",
       "      <td>0</td>\n",
       "      <td>0</td>\n",
       "    </tr>\n",
       "  </tbody>\n",
       "</table>\n",
       "<p>13427 rows × 25 columns</p>\n",
       "</div>"
      ],
      "text/plain": [
       "                    source                                               text  \\\n",
       "0       Twitter for iPhone  White House news conference at 5:00 P.M. Easte...   \n",
       "1       Twitter for iPhone                            https://t.co/2hKJkP5Z6N   \n",
       "2       Twitter for iPhone  On #NationalDoctorsDay, we recognize the remar...   \n",
       "3       Twitter for iPhone                            https://t.co/nzWJ8ViwbZ   \n",
       "4       Twitter for iPhone  Nancy Pelosi and the Democrats delayed the Wor...   \n",
       "...                    ...                                                ...   \n",
       "13422   Twitter for iPhone  power from Washington, D.C. and giving it back...   \n",
       "13423   Twitter for iPhone  Today we are not merely transferring power fro...   \n",
       "13424  Twitter for Android  It all begins today! I will see you at 11:00 A...   \n",
       "13425   Twitter for iPhone  Thank you for a wonderful evening in Washingto...   \n",
       "13426   Twitter for iPhone  Thank you for joining us at the Lincoln Memori...   \n",
       "\n",
       "                     created_at  retweet_count               id_str  \\\n",
       "0     2020-03-30 16:50:35-04:00          14441  1244728753617620992   \n",
       "1     2020-03-30 13:46:15-04:00          15520  1244682364284014592   \n",
       "2     2020-03-30 13:11:59-04:00          19753  1244673740866191360   \n",
       "3     2020-03-30 13:05:33-04:00          39114  1244672122414338048   \n",
       "4     2020-03-30 07:17:10-04:00          43360  1244584449309892608   \n",
       "...                         ...            ...                  ...   \n",
       "13422 2017-01-20 12:51:58-05:00          18362   822501939267141632   \n",
       "13423 2017-01-20 12:51:25-05:00          20125   822501803615014912   \n",
       "13424 2017-01-20 07:31:53-05:00          70523   822421390125043712   \n",
       "13425 2017-01-19 23:24:33-05:00          20770   822298747421986816   \n",
       "13426 2017-01-19 19:40:51-05:00          34204   822242449053614080   \n",
       "\n",
       "       source_binary             created_at_et  created_at_hour  \\\n",
       "0               True 2020-03-30 16:50:35-04:00               16   \n",
       "1               True 2020-03-30 13:46:15-04:00               13   \n",
       "2               True 2020-03-30 13:11:59-04:00               13   \n",
       "3               True 2020-03-30 13:05:33-04:00               13   \n",
       "4               True 2020-03-30 07:17:10-04:00                7   \n",
       "...              ...                       ...              ...   \n",
       "13422           True 2017-01-20 12:51:58-05:00               12   \n",
       "13423           True 2017-01-20 12:51:25-05:00               12   \n",
       "13424          False 2017-01-20 07:31:53-05:00                7   \n",
       "13425           True 2017-01-19 23:24:33-05:00               23   \n",
       "13426           True 2017-01-19 19:40:51-05:00               19   \n",
       "\n",
       "      created_at_date created_at_daytime  ... created_at_age_months  \\\n",
       "0          2020-03-30          Afternoon  ...                  38.8   \n",
       "1          2020-03-30          Afternoon  ...                  38.8   \n",
       "2          2020-03-30          Afternoon  ...                  38.8   \n",
       "3          2020-03-30          Afternoon  ...                  38.8   \n",
       "4          2020-03-30            Morning  ...                  38.8   \n",
       "...               ...                ...  ...                   ...   \n",
       "13422      2017-01-20            Morning  ...                   0.0   \n",
       "13423      2017-01-20            Morning  ...                   0.0   \n",
       "13424      2017-01-20            Morning  ...                   0.0   \n",
       "13425      2017-01-19            Evening  ...                   0.0   \n",
       "13426      2017-01-19            Evening  ...                   0.0   \n",
       "\n",
       "       video_selfpublished       hashtag_content  hashtag_included  \\\n",
       "0                    False                    []                 0   \n",
       "1                    False                    []                 0   \n",
       "2                    False  [NationalDoctorsDay]                 1   \n",
       "3                    False                    []                 0   \n",
       "4                    False                    []                 0   \n",
       "...                    ...                   ...               ...   \n",
       "13422                False     [InaugurationDay]                 1   \n",
       "13423                False                    []                 0   \n",
       "13424                False                    []                 0   \n",
       "13425                False        [Inauguration]                 1   \n",
       "13426                False                    []                 0   \n",
       "\n",
       "       hashtag_number  hashtag_maga  hashtag_kag mentions_content  \\\n",
       "0                   0         False        False               []   \n",
       "1                   0         False        False               []   \n",
       "2                   1         False        False               []   \n",
       "3                   0         False        False               []   \n",
       "4                   0         False        False               []   \n",
       "...               ...           ...          ...              ...   \n",
       "13422               1         False        False               []   \n",
       "13423               0         False        False               []   \n",
       "13424               0         False        False               []   \n",
       "13425               1         False        False               []   \n",
       "13426               0         False        False               []   \n",
       "\n",
       "       mentions_included  mentions_number  \n",
       "0                      0                0  \n",
       "1                      0                0  \n",
       "2                      0                0  \n",
       "3                      0                0  \n",
       "4                      0                0  \n",
       "...                  ...              ...  \n",
       "13422                  0                0  \n",
       "13423                  0                0  \n",
       "13424                  0                0  \n",
       "13425                  0                0  \n",
       "13426                  0                0  \n",
       "\n",
       "[13427 rows x 25 columns]"
      ]
     },
     "execution_count": 442,
     "metadata": {},
     "output_type": "execute_result"
    }
   ],
   "source": [
    "#create the two new features\n",
    "twitterdata.assign(hashtag_maga = generate_feature(\"text\", \"#MAGA\"))\n",
    "twitterdata.assign(hashtag_kag = generate_feature(\"text\", \"#KAG\"))"
   ]
  },
  {
   "cell_type": "markdown",
   "metadata": {},
   "source": [
    "#### Mentions\n",
    "Extract mentions with regex."
   ]
  },
  {
   "cell_type": "code",
   "execution_count": 421,
   "metadata": {},
   "outputs": [],
   "source": [
    "#extract mentions\n",
    "#define function to get mentions\n",
    "def mentions(text):\n",
    "    pattern = re.compile(r\"@(\\w+)\")\n",
    "    mentions = pattern.findall(text)\n",
    "    return mentions\n",
    "\n",
    "#apply to dataset\n",
    "twitterdata['mentions_content'] =  twitterdata.apply(lambda x: mentions(x['text']), axis=1)\n",
    "\n",
    "#if tweet contains hashtag (boolean)\n",
    "twitterdata['mentions_included'] =  twitterdata.apply(lambda x: 1 if len(x['mentions_content']) > 0 else 0, axis=1)\n",
    "\n",
    "# number of hashtags\n",
    "twitterdata['mentions_number'] =  twitterdata.apply(lambda x: len(x['mentions_content']), axis=1)"
   ]
  },
  {
   "cell_type": "code",
   "execution_count": 429,
   "metadata": {},
   "outputs": [],
   "source": [
    "#build dictionary to search for most used mentions\n",
    "dictionary_mentions = {} #initialize empy dictionary\n",
    "\n",
    "#build dictionary\n",
    "for i in twitterdata.index:\n",
    "    tweet_text = twitterdata['text'][i]\n",
    "    tweet_text_tokenized = tweet_text.split()\n",
    "    \n",
    "    #check for hashtags\n",
    "    for word in tweet_text_tokenized:\n",
    "        if (word[0:1] == '@' and len(word) > 1):\n",
    "            if word in dictionary_mentions:\n",
    "                dictionary_mentions[word] += 1\n",
    "            else:\n",
    "                dictionary_mentions[word] = 1\n",
    "\n",
    "#transform to dataframe\n",
    "dataframe_mentions = pd.DataFrame(dictionary_mentions.items(), columns=['Mention', 'occurences'])"
   ]
  },
  {
   "cell_type": "code",
   "execution_count": 433,
   "metadata": {},
   "outputs": [
    {
     "name": "stdout",
     "output_type": "stream",
     "text": [
      "There are 1867 different mentions.\n"
     ]
    },
    {
     "data": {
      "text/html": [
       "<div>\n",
       "<style scoped>\n",
       "    .dataframe tbody tr th:only-of-type {\n",
       "        vertical-align: middle;\n",
       "    }\n",
       "\n",
       "    .dataframe tbody tr th {\n",
       "        vertical-align: top;\n",
       "    }\n",
       "\n",
       "    .dataframe thead th {\n",
       "        text-align: right;\n",
       "    }\n",
       "</style>\n",
       "<table border=\"1\" class=\"dataframe\">\n",
       "  <thead>\n",
       "    <tr style=\"text-align: right;\">\n",
       "      <th></th>\n",
       "      <th>Mention</th>\n",
       "      <th>occurences</th>\n",
       "    </tr>\n",
       "  </thead>\n",
       "  <tbody>\n",
       "    <tr>\n",
       "      <th>23</th>\n",
       "      <td>@FoxNews</td>\n",
       "      <td>254</td>\n",
       "    </tr>\n",
       "    <tr>\n",
       "      <th>256</th>\n",
       "      <td>@realDonaldTrump:</td>\n",
       "      <td>232</td>\n",
       "    </tr>\n",
       "    <tr>\n",
       "      <th>273</th>\n",
       "      <td>@realDonaldTrump</td>\n",
       "      <td>225</td>\n",
       "    </tr>\n",
       "    <tr>\n",
       "      <th>1</th>\n",
       "      <td>@foxandfriends</td>\n",
       "      <td>204</td>\n",
       "    </tr>\n",
       "    <tr>\n",
       "      <th>272</th>\n",
       "      <td>@WhiteHouse:</td>\n",
       "      <td>158</td>\n",
       "    </tr>\n",
       "    <tr>\n",
       "      <th>347</th>\n",
       "      <td>@GOPChairwoman:</td>\n",
       "      <td>77</td>\n",
       "    </tr>\n",
       "    <tr>\n",
       "      <th>16</th>\n",
       "      <td>@WhiteHouse</td>\n",
       "      <td>76</td>\n",
       "    </tr>\n",
       "    <tr>\n",
       "      <th>201</th>\n",
       "      <td>@dbongino</td>\n",
       "      <td>64</td>\n",
       "    </tr>\n",
       "    <tr>\n",
       "      <th>24</th>\n",
       "      <td>@LouDobbs</td>\n",
       "      <td>58</td>\n",
       "    </tr>\n",
       "    <tr>\n",
       "      <th>314</th>\n",
       "      <td>@TomFitton:</td>\n",
       "      <td>57</td>\n",
       "    </tr>\n",
       "    <tr>\n",
       "      <th>22</th>\n",
       "      <td>@seanhannity</td>\n",
       "      <td>54</td>\n",
       "    </tr>\n",
       "    <tr>\n",
       "      <th>266</th>\n",
       "      <td>@Jim_Jordan:</td>\n",
       "      <td>54</td>\n",
       "    </tr>\n",
       "    <tr>\n",
       "      <th>28</th>\n",
       "      <td>@nytimes</td>\n",
       "      <td>49</td>\n",
       "    </tr>\n",
       "    <tr>\n",
       "      <th>130</th>\n",
       "      <td>@FLOTUS</td>\n",
       "      <td>48</td>\n",
       "    </tr>\n",
       "    <tr>\n",
       "      <th>15</th>\n",
       "      <td>@CNN</td>\n",
       "      <td>47</td>\n",
       "    </tr>\n",
       "  </tbody>\n",
       "</table>\n",
       "</div>"
      ],
      "text/plain": [
       "               Mention  occurences\n",
       "23            @FoxNews         254\n",
       "256  @realDonaldTrump:         232\n",
       "273   @realDonaldTrump         225\n",
       "1       @foxandfriends         204\n",
       "272       @WhiteHouse:         158\n",
       "347    @GOPChairwoman:          77\n",
       "16         @WhiteHouse          76\n",
       "201          @dbongino          64\n",
       "24           @LouDobbs          58\n",
       "314        @TomFitton:          57\n",
       "22        @seanhannity          54\n",
       "266       @Jim_Jordan:          54\n",
       "28            @nytimes          49\n",
       "130            @FLOTUS          48\n",
       "15                @CNN          47"
      ]
     },
     "execution_count": 433,
     "metadata": {},
     "output_type": "execute_result"
    }
   ],
   "source": [
    "#analyze dataframe\n",
    "print(\"There are \" + str(dataframe_mentions.shape[0]) + \" different mentions.\")\n",
    "dataframe_mentions.sort_values(\"occurences\", ascending = False).head(n = 15)"
   ]
  },
  {
   "cell_type": "markdown",
   "metadata": {},
   "source": [
    "Since the goal is to have a generalizable model, which extract actionable knowledge menntions with occurences of less than 50 (~ 0.5%) will be ignored. This means the only interesting mentions are: ,@FoxNews, @realDonaldTrump, @foxandfriends, @WhiteHouse, @GOPChairwoman, @dbongino, @LouDobbs, @TomFitton, @seanhannity, @Jim_Jordan. These will be extracted and added as a feature."
   ]
  },
  {
   "cell_type": "code",
   "execution_count": 445,
   "metadata": {},
   "outputs": [
    {
     "data": {
      "text/plain": [
       "1         @foxandfriends\n",
       "16           @WhiteHouse\n",
       "22          @seanhannity\n",
       "23              @FoxNews\n",
       "24             @LouDobbs\n",
       "201            @dbongino\n",
       "256    @realDonaldTrump:\n",
       "266         @Jim_Jordan:\n",
       "272         @WhiteHouse:\n",
       "273     @realDonaldTrump\n",
       "314          @TomFitton:\n",
       "347      @GOPChairwoman:\n",
       "Name: Mention, dtype: object"
      ]
     },
     "execution_count": 445,
     "metadata": {},
     "output_type": "execute_result"
    }
   ],
   "source": [
    "dataframe_mentions[dataframe_mentions[\"occurences\"] > 50][\"Mention\"]"
   ]
  },
  {
   "cell_type": "code",
   "execution_count": 464,
   "metadata": {},
   "outputs": [],
   "source": [
    "#create new features     \n",
    "twitterdata[\"mention_foxnews\"] = generate_feature(\"text\", \"@FoxNews\")\n",
    "twitterdata[\"mention_realdonaldtrump\"] = generate_feature(\"text\", \"@realDonaldTrump\")\n",
    "twitterdata[\"mention_foxandfriends\"] = generate_feature(\"text\", \"@foxandfriends\")\n",
    "twitterdata[\"mention_whitehouse\"] = generate_feature(\"text\", \"@FoxNews\")\n",
    "twitterdata[\"mention_gopchairwoman\"] = generate_feature(\"text\", \"@GOPChairwoman\")\n",
    "twitterdata[\"mention_dbongino\"] = generate_feature(\"text\", \"@dbongino\")\n",
    "twitterdata[\"mention_loudobbs\"] = generate_feature(\"text\", \"@LouDobbs\")\n",
    "twitterdata[\"mention_tomfi8tton\"] = generate_feature(\"text\", \"@TomFitton\")\n",
    "twitterdata[\"mention_seanhannity\"] = generate_feature(\"text\", \"@seanhannity\")\n",
    "twitterdata[\"mention_jimjordan\"] = generate_feature(\"text\", \"@Jim_Jordan\")"
   ]
  },
  {
   "cell_type": "markdown",
   "metadata": {},
   "source": [
    "####  TO DO Check the appearance of smileys"
   ]
  },
  {
   "cell_type": "markdown",
   "metadata": {},
   "source": [
    "#### Urls\n",
    "Extract urls."
   ]
  },
  {
   "cell_type": "code",
   "execution_count": 480,
   "metadata": {},
   "outputs": [],
   "source": [
    "#extract urls\n",
    "#define function to get urls\n",
    "def urls(text):\n",
    "    pattern = re.compile(r\"http\\S+\")\n",
    "    urls_content = pattern.findall(text)\n",
    "    return urls_content\n",
    "\n",
    "#apply to dataset\n",
    "twitterdata['urls_content'] =  twitterdata.apply(lambda x: urls(x['text']), axis=1)\n",
    "\n",
    "#if tweet contains hashtag (boolean)\n",
    "twitterdata['urls_included'] =  twitterdata.apply(lambda x: 1 if len(x['urls_content']) > 0 else 0, axis=1)\n",
    "\n",
    "# number of hashtags\n",
    "twitterdata['urls_number'] =  twitterdata.apply(lambda x: len(x['urls_content']), axis=1)"
   ]
  },
  {
   "cell_type": "code",
   "execution_count": 493,
   "metadata": {},
   "outputs": [
    {
     "data": {
      "text/plain": [
       "0                               []\n",
       "1        [https://t.co/2hKJkP5Z6N]\n",
       "2        [https://t.co/7PRogpEVTP]\n",
       "3        [https://t.co/nzWJ8ViwbZ]\n",
       "4                               []\n",
       "                   ...            \n",
       "13422                           []\n",
       "13423                           []\n",
       "13424                           []\n",
       "13425    [https://t.co/a6xpFQTHj5]\n",
       "13426    [https://t.co/OSxa3BamHs]\n",
       "Name: urls_content, Length: 13427, dtype: object"
      ]
     },
     "execution_count": 493,
     "metadata": {},
     "output_type": "execute_result"
    }
   ],
   "source": [
    "twitterdata['urls_content'] "
   ]
  },
  {
   "cell_type": "code",
   "execution_count": 511,
   "metadata": {},
   "outputs": [],
   "source": [
    "#build dictionary to search for most used mentions\n",
    "dictionary_urls = {} #initialize empy dictionary\n",
    "\n",
    "#build dictionary\n",
    "for i in twitterdata.index:\n",
    "    tweet_text = twitterdata['text'][i]\n",
    "    tweet_text_tokenized = tweet_text.split()\n",
    "    \n",
    "    #check for hashtags\n",
    "    for word in tweet_text_tokenized:\n",
    "        if (word[0:4] == 'http'):\n",
    "            if word in dictionary_urls:\n",
    "                dictionary_urls[word] += 1\n",
    "            else:\n",
    "                dictionary_urls[word] = 1\n",
    "\n",
    "#transform to dataframe\n",
    "dataframe_urls = pd.DataFrame(dictionary_urls.items(), columns=['Mention', 'occurences'])"
   ]
  },
  {
   "cell_type": "code",
   "execution_count": 514,
   "metadata": {},
   "outputs": [
    {
     "name": "stdout",
     "output_type": "stream",
     "text": [
      "There are 4023 different urls.\n"
     ]
    },
    {
     "data": {
      "text/html": [
       "<div>\n",
       "<style scoped>\n",
       "    .dataframe tbody tr th:only-of-type {\n",
       "        vertical-align: middle;\n",
       "    }\n",
       "\n",
       "    .dataframe tbody tr th {\n",
       "        vertical-align: top;\n",
       "    }\n",
       "\n",
       "    .dataframe thead th {\n",
       "        text-align: right;\n",
       "    }\n",
       "</style>\n",
       "<table border=\"1\" class=\"dataframe\">\n",
       "  <thead>\n",
       "    <tr style=\"text-align: right;\">\n",
       "      <th></th>\n",
       "      <th>Mention</th>\n",
       "      <th>occurences</th>\n",
       "    </tr>\n",
       "  </thead>\n",
       "  <tbody>\n",
       "    <tr>\n",
       "      <th>2486</th>\n",
       "      <td>https://t.co/0pWiwCHGbh</td>\n",
       "      <td>17</td>\n",
       "    </tr>\n",
       "    <tr>\n",
       "      <th>1326</th>\n",
       "      <td>https://t.…</td>\n",
       "      <td>10</td>\n",
       "    </tr>\n",
       "    <tr>\n",
       "      <th>840</th>\n",
       "      <td>https://…</td>\n",
       "      <td>9</td>\n",
       "    </tr>\n",
       "    <tr>\n",
       "      <th>2532</th>\n",
       "      <td>https://t.co/0pWiwCq4MH</td>\n",
       "      <td>8</td>\n",
       "    </tr>\n",
       "    <tr>\n",
       "      <th>979</th>\n",
       "      <td>https://t.c…</td>\n",
       "      <td>8</td>\n",
       "    </tr>\n",
       "  </tbody>\n",
       "</table>\n",
       "</div>"
      ],
      "text/plain": [
       "                      Mention  occurences\n",
       "2486  https://t.co/0pWiwCHGbh          17\n",
       "1326              https://t.…          10\n",
       "840                 https://…           9\n",
       "2532  https://t.co/0pWiwCq4MH           8\n",
       "979              https://t.c…           8"
      ]
     },
     "execution_count": 514,
     "metadata": {},
     "output_type": "execute_result"
    }
   ],
   "source": [
    "#analyze dataframe\n",
    "print(\"There are \" + str(dataframe_urls.shape[0]) + \" different urls.\")\n",
    "dataframe_urls.sort_values(\"occurences\", ascending = False).head(n = 5)"
   ]
  },
  {
   "cell_type": "markdown",
   "metadata": {},
   "source": [
    "Seems like there is no real frequent urls. Therefore they will not be used further."
   ]
  },
  {
   "cell_type": "code",
   "execution_count": 528,
   "metadata": {},
   "outputs": [],
   "source": [
    "#create feature length of tweets\n",
    "twitterdata[\"text_lenght\"] = twitterdata[\"text\"].apply(len)"
   ]
  },
  {
   "cell_type": "markdown",
   "metadata": {},
   "source": [
    "## Text feature creation\n",
    "From the text there are many possibilities to create features. Now the text will be tokenized and preprocessed. Since the goal is a explaining algorithm the number of features will be hold small in favor for explainability."
   ]
  },
  {
   "cell_type": "markdown",
   "metadata": {},
   "source": [
    "#### Preprocess text"
   ]
  },
  {
   "cell_type": "code",
   "execution_count": 529,
   "metadata": {},
   "outputs": [],
   "source": [
    "# remove punctuation\n",
    "def remove_punctuations(text):\n",
    "    for punctuation in string.punctuation:\n",
    "        if punctuation != '!': # leave exclamation mark\n",
    "            text = text.replace(punctuation, '')\n",
    "    return text\n",
    "\n",
    "twitterdata['text'] = twitterdata.apply(lambda x: remove_punctuations(x['text']), axis=1)"
   ]
  },
  {
   "cell_type": "code",
   "execution_count": 531,
   "metadata": {},
   "outputs": [],
   "source": [
    "#remove numbers \n",
    "def remove_numbers(text):\n",
    "    return re.sub('[0-9]+', '', text)\n",
    "\n",
    "twitterdata['text'] = twitterdata.apply(lambda x: remove_numbers(x['text']), axis=1)"
   ]
  },
  {
   "cell_type": "code",
   "execution_count": 532,
   "metadata": {},
   "outputs": [],
   "source": [
    "#remove special characters\n",
    "def remove_special(text):\n",
    "    for char in ['€','�','‡','†','‰','™','•']:\n",
    "        text = text.replace(char, '')\n",
    "    return text\n",
    "\n",
    "twitterdata['text'] = twitterdata.apply(lambda x: remove_special(x['text']), axis=1)"
   ]
  },
  {
   "cell_type": "code",
   "execution_count": 533,
   "metadata": {},
   "outputs": [],
   "source": [
    "#if word starts with uppercase --> lowercase, if all chars are uppercase --> do nothing\n",
    "def lower_case(text):\n",
    "    to_lowercase = lambda text: \" \".join(word if (word.isupper() == True & len(word) >= 1) else word.lower()\n",
    "            for word in text.split())\n",
    "    lowercase = to_lowercase(text)   \n",
    "    return lowercase\n",
    "\n",
    "twitterdata['text'] = twitterdata.apply(lambda x: lower_case(x['text']), axis=1)"
   ]
  },
  {
   "cell_type": "markdown",
   "metadata": {},
   "source": [
    "#### Tokenize text"
   ]
  },
  {
   "cell_type": "code",
   "execution_count": 543,
   "metadata": {},
   "outputs": [],
   "source": [
    "#simple count vektorizing\n",
    "from sklearn.feature_extraction.text import CountVectorizer\n",
    "vectorizer = CountVectorizer()\n",
    "count_matrix = vectorizer.fit_transform(twitterdata['text'])\n",
    "document_term = pd.DataFrame(count_matrix.toarray(), columns = vectorizer.get_feature_names())"
   ]
  },
  {
   "cell_type": "code",
   "execution_count": 544,
   "metadata": {},
   "outputs": [
    {
     "data": {
      "text/html": [
       "<div>\n",
       "<style scoped>\n",
       "    .dataframe tbody tr th:only-of-type {\n",
       "        vertical-align: middle;\n",
       "    }\n",
       "\n",
       "    .dataframe tbody tr th {\n",
       "        vertical-align: top;\n",
       "    }\n",
       "\n",
       "    .dataframe thead th {\n",
       "        text-align: right;\n",
       "    }\n",
       "</style>\n",
       "<table border=\"1\" class=\"dataframe\">\n",
       "  <thead>\n",
       "    <tr style=\"text-align: right;\">\n",
       "      <th></th>\n",
       "      <th>aaa</th>\n",
       "      <th>aap</th>\n",
       "      <th>ab</th>\n",
       "      <th>abaco</th>\n",
       "      <th>abandon</th>\n",
       "      <th>abandoned</th>\n",
       "      <th>abbas</th>\n",
       "      <th>abbott</th>\n",
       "      <th>abc</th>\n",
       "      <th>abcnews</th>\n",
       "      <th>...</th>\n",
       "      <th>바라보며</th>\n",
       "      <th>받고</th>\n",
       "      <th>북측을</th>\n",
       "      <th>브리핑을</th>\n",
       "      <th>오울렛</th>\n",
       "      <th>정상의</th>\n",
       "      <th>초소는</th>\n",
       "      <th>초소에서</th>\n",
       "      <th>한국전쟁</th>\n",
       "      <th>한미</th>\n",
       "    </tr>\n",
       "  </thead>\n",
       "  <tbody>\n",
       "    <tr>\n",
       "      <th>0</th>\n",
       "      <td>0</td>\n",
       "      <td>0</td>\n",
       "      <td>0</td>\n",
       "      <td>0</td>\n",
       "      <td>0</td>\n",
       "      <td>0</td>\n",
       "      <td>0</td>\n",
       "      <td>0</td>\n",
       "      <td>0</td>\n",
       "      <td>0</td>\n",
       "      <td>...</td>\n",
       "      <td>0</td>\n",
       "      <td>0</td>\n",
       "      <td>0</td>\n",
       "      <td>0</td>\n",
       "      <td>0</td>\n",
       "      <td>0</td>\n",
       "      <td>0</td>\n",
       "      <td>0</td>\n",
       "      <td>0</td>\n",
       "      <td>0</td>\n",
       "    </tr>\n",
       "    <tr>\n",
       "      <th>1</th>\n",
       "      <td>0</td>\n",
       "      <td>0</td>\n",
       "      <td>0</td>\n",
       "      <td>0</td>\n",
       "      <td>0</td>\n",
       "      <td>0</td>\n",
       "      <td>0</td>\n",
       "      <td>0</td>\n",
       "      <td>0</td>\n",
       "      <td>0</td>\n",
       "      <td>...</td>\n",
       "      <td>0</td>\n",
       "      <td>0</td>\n",
       "      <td>0</td>\n",
       "      <td>0</td>\n",
       "      <td>0</td>\n",
       "      <td>0</td>\n",
       "      <td>0</td>\n",
       "      <td>0</td>\n",
       "      <td>0</td>\n",
       "      <td>0</td>\n",
       "    </tr>\n",
       "    <tr>\n",
       "      <th>2</th>\n",
       "      <td>0</td>\n",
       "      <td>0</td>\n",
       "      <td>0</td>\n",
       "      <td>0</td>\n",
       "      <td>0</td>\n",
       "      <td>0</td>\n",
       "      <td>0</td>\n",
       "      <td>0</td>\n",
       "      <td>0</td>\n",
       "      <td>0</td>\n",
       "      <td>...</td>\n",
       "      <td>0</td>\n",
       "      <td>0</td>\n",
       "      <td>0</td>\n",
       "      <td>0</td>\n",
       "      <td>0</td>\n",
       "      <td>0</td>\n",
       "      <td>0</td>\n",
       "      <td>0</td>\n",
       "      <td>0</td>\n",
       "      <td>0</td>\n",
       "    </tr>\n",
       "    <tr>\n",
       "      <th>3</th>\n",
       "      <td>0</td>\n",
       "      <td>0</td>\n",
       "      <td>0</td>\n",
       "      <td>0</td>\n",
       "      <td>0</td>\n",
       "      <td>0</td>\n",
       "      <td>0</td>\n",
       "      <td>0</td>\n",
       "      <td>0</td>\n",
       "      <td>0</td>\n",
       "      <td>...</td>\n",
       "      <td>0</td>\n",
       "      <td>0</td>\n",
       "      <td>0</td>\n",
       "      <td>0</td>\n",
       "      <td>0</td>\n",
       "      <td>0</td>\n",
       "      <td>0</td>\n",
       "      <td>0</td>\n",
       "      <td>0</td>\n",
       "      <td>0</td>\n",
       "    </tr>\n",
       "    <tr>\n",
       "      <th>4</th>\n",
       "      <td>0</td>\n",
       "      <td>0</td>\n",
       "      <td>0</td>\n",
       "      <td>0</td>\n",
       "      <td>0</td>\n",
       "      <td>0</td>\n",
       "      <td>0</td>\n",
       "      <td>0</td>\n",
       "      <td>0</td>\n",
       "      <td>0</td>\n",
       "      <td>...</td>\n",
       "      <td>0</td>\n",
       "      <td>0</td>\n",
       "      <td>0</td>\n",
       "      <td>0</td>\n",
       "      <td>0</td>\n",
       "      <td>0</td>\n",
       "      <td>0</td>\n",
       "      <td>0</td>\n",
       "      <td>0</td>\n",
       "      <td>0</td>\n",
       "    </tr>\n",
       "  </tbody>\n",
       "</table>\n",
       "<p>5 rows × 19821 columns</p>\n",
       "</div>"
      ],
      "text/plain": [
       "   aaa  aap  ab  abaco  abandon  abandoned  abbas  abbott  abc  abcnews  ...  \\\n",
       "0    0    0   0      0        0          0      0       0    0        0  ...   \n",
       "1    0    0   0      0        0          0      0       0    0        0  ...   \n",
       "2    0    0   0      0        0          0      0       0    0        0  ...   \n",
       "3    0    0   0      0        0          0      0       0    0        0  ...   \n",
       "4    0    0   0      0        0          0      0       0    0        0  ...   \n",
       "\n",
       "   바라보며  받고  북측을  브리핑을  오울렛  정상의  초소는  초소에서  한국전쟁  한미  \n",
       "0     0   0    0     0    0    0    0     0     0   0  \n",
       "1     0   0    0     0    0    0    0     0     0   0  \n",
       "2     0   0    0     0    0    0    0     0     0   0  \n",
       "3     0   0    0     0    0    0    0     0     0   0  \n",
       "4     0   0    0     0    0    0    0     0     0   0  \n",
       "\n",
       "[5 rows x 19821 columns]"
      ]
     },
     "execution_count": 544,
     "metadata": {},
     "output_type": "execute_result"
    }
   ],
   "source": [
    "document_term.head()"
   ]
  },
  {
   "cell_type": "code",
   "execution_count": 551,
   "metadata": {},
   "outputs": [
    {
     "name": "stderr",
     "output_type": "stream",
     "text": [
      "/Users/jakob/opt/anaconda3/lib/python3.7/site-packages/sklearn/feature_extraction/text.py:385: UserWarning: Your stop_words may be inconsistent with your preprocessing. Tokenizing the stop words generated tokens ['abov', 'afterward', 'alon', 'alreadi', 'alway', 'ani', 'anoth', 'anyon', 'anyth', 'anywher', 'becam', 'becaus', 'becom', 'befor', 'besid', 'cri', 'describ', 'dure', 'els', 'elsewher', 'empti', 'everi', 'everyon', 'everyth', 'everywher', 'fifti', 'formerli', 'forti', 'ha', 'henc', 'hereaft', 'herebi', 'hi', 'howev', 'hundr', 'inde', 'latterli', 'mani', 'meanwhil', 'moreov', 'mostli', 'nobodi', 'noon', 'noth', 'nowher', 'onc', 'onli', 'otherwis', 'ourselv', 'perhap', 'pleas', 'seriou', 'sever', 'sinc', 'sincer', 'sixti', 'someon', 'someth', 'sometim', 'somewher', 'themselv', 'thenc', 'thereaft', 'therebi', 'therefor', 'thi', 'thu', 'togeth', 'twelv', 'twenti', 'veri', 'wa', 'whatev', 'whenc', 'whenev', 'wherea', 'whereaft', 'wherebi', 'wherev', 'whi', 'yourselv'] not in stop_words.\n",
      "  'stop_words.' % sorted(inconsistent))\n"
     ]
    },
    {
     "data": {
      "text/plain": [
       "(13427, 15675)"
      ]
     },
     "execution_count": 551,
     "metadata": {},
     "output_type": "execute_result"
    }
   ],
   "source": [
    "# TF-IDF vector extraction\n",
    "from sklearn.feature_extraction.text import TfidfVectorizer\n",
    "from nltk.tokenize import TweetTokenizer\n",
    "from nltk.stem import PorterStemmer\n",
    "\n",
    "tknzr = TweetTokenizer()\n",
    "\n",
    "def tokenize(text):\n",
    "    tokens = tknzr.tokenize(text)\n",
    "    stems = []\n",
    "    for item in tokens:\n",
    "        stems.append(PorterStemmer().stem(item))\n",
    "    return stems\n",
    "\n",
    "vectorizer = TfidfVectorizer(tokenizer=tokenize, stop_words='english')\n",
    "word_features = vectorizer.fit_transform(twitterdata['text'])\n",
    "\n",
    "vectorizer.get_feature_names()\n",
    "word_features = pd.DataFrame(word_features.todense(), columns = vectorizer.get_feature_names())\n",
    "word_features.shape"
   ]
  },
  {
   "cell_type": "markdown",
   "metadata": {},
   "source": [
    "**Remove stopwords**"
   ]
  },
  {
   "cell_type": "markdown",
   "metadata": {},
   "source": [
    "**Stemming**"
   ]
  },
  {
   "cell_type": "code",
   "execution_count": 555,
   "metadata": {},
   "outputs": [],
   "source": [
    "twitterdata = twitterdata.rename(columns={\"text\": \"transformed_text\"})"
   ]
  },
  {
   "cell_type": "code",
   "execution_count": 554,
   "metadata": {},
   "outputs": [],
   "source": [
    "twitterdata = pd.concat([twitterdata, word_features], ignore_index=False, sort =False, axis=1)"
   ]
  },
  {
   "cell_type": "code",
   "execution_count": 557,
   "metadata": {},
   "outputs": [
    {
     "ename": "KeyError",
     "evalue": "0",
     "output_type": "error",
     "traceback": [
      "\u001b[0;31m---------------------------------------------------------------------------\u001b[0m",
      "\u001b[0;31mTypeError\u001b[0m                                 Traceback (most recent call last)",
      "\u001b[0;32mpandas/_libs/index.pyx\u001b[0m in \u001b[0;36mpandas._libs.index.IndexEngine._get_loc_duplicates\u001b[0;34m()\u001b[0m\n",
      "\u001b[0;31mTypeError\u001b[0m: '<' not supported between instances of 'str' and 'int'",
      "\nDuring handling of the above exception, another exception occurred:\n",
      "\u001b[0;31mKeyError\u001b[0m                                  Traceback (most recent call last)",
      "\u001b[0;32m~/opt/anaconda3/lib/python3.7/site-packages/pandas/core/indexes/base.py\u001b[0m in \u001b[0;36mget_loc\u001b[0;34m(self, key, method, tolerance)\u001b[0m\n\u001b[1;32m   2645\u001b[0m             \u001b[0;32mtry\u001b[0m\u001b[0;34m:\u001b[0m\u001b[0;34m\u001b[0m\u001b[0;34m\u001b[0m\u001b[0m\n\u001b[0;32m-> 2646\u001b[0;31m                 \u001b[0;32mreturn\u001b[0m \u001b[0mself\u001b[0m\u001b[0;34m.\u001b[0m\u001b[0m_engine\u001b[0m\u001b[0;34m.\u001b[0m\u001b[0mget_loc\u001b[0m\u001b[0;34m(\u001b[0m\u001b[0mkey\u001b[0m\u001b[0;34m)\u001b[0m\u001b[0;34m\u001b[0m\u001b[0;34m\u001b[0m\u001b[0m\n\u001b[0m\u001b[1;32m   2647\u001b[0m             \u001b[0;32mexcept\u001b[0m \u001b[0mKeyError\u001b[0m\u001b[0;34m:\u001b[0m\u001b[0;34m\u001b[0m\u001b[0;34m\u001b[0m\u001b[0m\n",
      "\u001b[0;32mpandas/_libs/index.pyx\u001b[0m in \u001b[0;36mpandas._libs.index.IndexEngine.get_loc\u001b[0;34m()\u001b[0m\n",
      "\u001b[0;32mpandas/_libs/index.pyx\u001b[0m in \u001b[0;36mpandas._libs.index.IndexEngine.get_loc\u001b[0;34m()\u001b[0m\n",
      "\u001b[0;32mpandas/_libs/index.pyx\u001b[0m in \u001b[0;36mpandas._libs.index.IndexEngine._get_loc_duplicates\u001b[0;34m()\u001b[0m\n",
      "\u001b[0;31mKeyError\u001b[0m: 0",
      "\nDuring handling of the above exception, another exception occurred:\n",
      "\u001b[0;31mTypeError\u001b[0m                                 Traceback (most recent call last)",
      "\u001b[0;32mpandas/_libs/index.pyx\u001b[0m in \u001b[0;36mpandas._libs.index.IndexEngine._get_loc_duplicates\u001b[0;34m()\u001b[0m\n",
      "\u001b[0;31mTypeError\u001b[0m: '<' not supported between instances of 'str' and 'int'",
      "\nDuring handling of the above exception, another exception occurred:\n",
      "\u001b[0;31mKeyError\u001b[0m                                  Traceback (most recent call last)",
      "\u001b[0;32m<ipython-input-557-fc1eaed64f87>\u001b[0m in \u001b[0;36m<module>\u001b[0;34m\u001b[0m\n\u001b[1;32m      1\u001b[0m \u001b[0mb\u001b[0m \u001b[0;34m=\u001b[0m \u001b[0;34m[\u001b[0m\u001b[0;34m]\u001b[0m\u001b[0;34m\u001b[0m\u001b[0;34m\u001b[0m\u001b[0m\n\u001b[1;32m      2\u001b[0m \u001b[0;32mfor\u001b[0m \u001b[0mi\u001b[0m \u001b[0;32min\u001b[0m \u001b[0mrange\u001b[0m\u001b[0;34m(\u001b[0m\u001b[0;36m0\u001b[0m\u001b[0;34m,\u001b[0m\u001b[0;36m13427\u001b[0m\u001b[0;34m)\u001b[0m\u001b[0;34m:\u001b[0m\u001b[0;34m\u001b[0m\u001b[0;34m\u001b[0m\u001b[0m\n\u001b[0;32m----> 3\u001b[0;31m     \u001b[0mb\u001b[0m\u001b[0;34m.\u001b[0m\u001b[0mappend\u001b[0m\u001b[0;34m(\u001b[0m\u001b[0;34m(\u001b[0m\u001b[0mlen\u001b[0m\u001b[0;34m(\u001b[0m\u001b[0mtwitterdata\u001b[0m\u001b[0;34m[\u001b[0m\u001b[0;34m\"transformed_text\"\u001b[0m\u001b[0;34m]\u001b[0m\u001b[0;34m[\u001b[0m\u001b[0mi\u001b[0m\u001b[0;34m]\u001b[0m \u001b[0;34m)\u001b[0m\u001b[0;34m)\u001b[0m\u001b[0;34m)\u001b[0m\u001b[0;34m\u001b[0m\u001b[0;34m\u001b[0m\u001b[0m\n\u001b[0m\u001b[1;32m      4\u001b[0m \u001b[0;34m\u001b[0m\u001b[0m\n\u001b[1;32m      5\u001b[0m \u001b[0mtwitterdata\u001b[0m\u001b[0;34m[\u001b[0m\u001b[0;34m'tweet_length'\u001b[0m\u001b[0;34m]\u001b[0m \u001b[0;34m=\u001b[0m \u001b[0mb\u001b[0m\u001b[0;34m\u001b[0m\u001b[0;34m\u001b[0m\u001b[0m\n",
      "\u001b[0;32m~/opt/anaconda3/lib/python3.7/site-packages/pandas/core/frame.py\u001b[0m in \u001b[0;36m__getitem__\u001b[0;34m(self, key)\u001b[0m\n\u001b[1;32m   2798\u001b[0m             \u001b[0;32mif\u001b[0m \u001b[0mself\u001b[0m\u001b[0;34m.\u001b[0m\u001b[0mcolumns\u001b[0m\u001b[0;34m.\u001b[0m\u001b[0mnlevels\u001b[0m \u001b[0;34m>\u001b[0m \u001b[0;36m1\u001b[0m\u001b[0;34m:\u001b[0m\u001b[0;34m\u001b[0m\u001b[0;34m\u001b[0m\u001b[0m\n\u001b[1;32m   2799\u001b[0m                 \u001b[0;32mreturn\u001b[0m \u001b[0mself\u001b[0m\u001b[0;34m.\u001b[0m\u001b[0m_getitem_multilevel\u001b[0m\u001b[0;34m(\u001b[0m\u001b[0mkey\u001b[0m\u001b[0;34m)\u001b[0m\u001b[0;34m\u001b[0m\u001b[0;34m\u001b[0m\u001b[0m\n\u001b[0;32m-> 2800\u001b[0;31m             \u001b[0mindexer\u001b[0m \u001b[0;34m=\u001b[0m \u001b[0mself\u001b[0m\u001b[0;34m.\u001b[0m\u001b[0mcolumns\u001b[0m\u001b[0;34m.\u001b[0m\u001b[0mget_loc\u001b[0m\u001b[0;34m(\u001b[0m\u001b[0mkey\u001b[0m\u001b[0;34m)\u001b[0m\u001b[0;34m\u001b[0m\u001b[0;34m\u001b[0m\u001b[0m\n\u001b[0m\u001b[1;32m   2801\u001b[0m             \u001b[0;32mif\u001b[0m \u001b[0mis_integer\u001b[0m\u001b[0;34m(\u001b[0m\u001b[0mindexer\u001b[0m\u001b[0;34m)\u001b[0m\u001b[0;34m:\u001b[0m\u001b[0;34m\u001b[0m\u001b[0;34m\u001b[0m\u001b[0m\n\u001b[1;32m   2802\u001b[0m                 \u001b[0mindexer\u001b[0m \u001b[0;34m=\u001b[0m \u001b[0;34m[\u001b[0m\u001b[0mindexer\u001b[0m\u001b[0;34m]\u001b[0m\u001b[0;34m\u001b[0m\u001b[0;34m\u001b[0m\u001b[0m\n",
      "\u001b[0;32m~/opt/anaconda3/lib/python3.7/site-packages/pandas/core/indexes/base.py\u001b[0m in \u001b[0;36mget_loc\u001b[0;34m(self, key, method, tolerance)\u001b[0m\n\u001b[1;32m   2646\u001b[0m                 \u001b[0;32mreturn\u001b[0m \u001b[0mself\u001b[0m\u001b[0;34m.\u001b[0m\u001b[0m_engine\u001b[0m\u001b[0;34m.\u001b[0m\u001b[0mget_loc\u001b[0m\u001b[0;34m(\u001b[0m\u001b[0mkey\u001b[0m\u001b[0;34m)\u001b[0m\u001b[0;34m\u001b[0m\u001b[0;34m\u001b[0m\u001b[0m\n\u001b[1;32m   2647\u001b[0m             \u001b[0;32mexcept\u001b[0m \u001b[0mKeyError\u001b[0m\u001b[0;34m:\u001b[0m\u001b[0;34m\u001b[0m\u001b[0;34m\u001b[0m\u001b[0m\n\u001b[0;32m-> 2648\u001b[0;31m                 \u001b[0;32mreturn\u001b[0m \u001b[0mself\u001b[0m\u001b[0;34m.\u001b[0m\u001b[0m_engine\u001b[0m\u001b[0;34m.\u001b[0m\u001b[0mget_loc\u001b[0m\u001b[0;34m(\u001b[0m\u001b[0mself\u001b[0m\u001b[0;34m.\u001b[0m\u001b[0m_maybe_cast_indexer\u001b[0m\u001b[0;34m(\u001b[0m\u001b[0mkey\u001b[0m\u001b[0;34m)\u001b[0m\u001b[0;34m)\u001b[0m\u001b[0;34m\u001b[0m\u001b[0;34m\u001b[0m\u001b[0m\n\u001b[0m\u001b[1;32m   2649\u001b[0m         \u001b[0mindexer\u001b[0m \u001b[0;34m=\u001b[0m \u001b[0mself\u001b[0m\u001b[0;34m.\u001b[0m\u001b[0mget_indexer\u001b[0m\u001b[0;34m(\u001b[0m\u001b[0;34m[\u001b[0m\u001b[0mkey\u001b[0m\u001b[0;34m]\u001b[0m\u001b[0;34m,\u001b[0m \u001b[0mmethod\u001b[0m\u001b[0;34m=\u001b[0m\u001b[0mmethod\u001b[0m\u001b[0;34m,\u001b[0m \u001b[0mtolerance\u001b[0m\u001b[0;34m=\u001b[0m\u001b[0mtolerance\u001b[0m\u001b[0;34m)\u001b[0m\u001b[0;34m\u001b[0m\u001b[0;34m\u001b[0m\u001b[0m\n\u001b[1;32m   2650\u001b[0m         \u001b[0;32mif\u001b[0m \u001b[0mindexer\u001b[0m\u001b[0;34m.\u001b[0m\u001b[0mndim\u001b[0m \u001b[0;34m>\u001b[0m \u001b[0;36m1\u001b[0m \u001b[0;32mor\u001b[0m \u001b[0mindexer\u001b[0m\u001b[0;34m.\u001b[0m\u001b[0msize\u001b[0m \u001b[0;34m>\u001b[0m \u001b[0;36m1\u001b[0m\u001b[0;34m:\u001b[0m\u001b[0;34m\u001b[0m\u001b[0;34m\u001b[0m\u001b[0m\n",
      "\u001b[0;32mpandas/_libs/index.pyx\u001b[0m in \u001b[0;36mpandas._libs.index.IndexEngine.get_loc\u001b[0;34m()\u001b[0m\n",
      "\u001b[0;32mpandas/_libs/index.pyx\u001b[0m in \u001b[0;36mpandas._libs.index.IndexEngine.get_loc\u001b[0;34m()\u001b[0m\n",
      "\u001b[0;32mpandas/_libs/index.pyx\u001b[0m in \u001b[0;36mpandas._libs.index.IndexEngine._get_loc_duplicates\u001b[0;34m()\u001b[0m\n",
      "\u001b[0;31mKeyError\u001b[0m: 0"
     ]
    }
   ],
   "source": [
    "b = []\n",
    "for i in range(0,13427):\n",
    "    b.append((len(twitterdata[\"transformed_text\"][i] )))\n",
    "    \n",
    "twitterdata['tweet_length'] = b"
   ]
  },
  {
   "cell_type": "code",
   "execution_count": null,
   "metadata": {},
   "outputs": [],
   "source": [
    "nlp = spacy.load(\"en_core_web_sm\")\n",
    "\n",
    "#text = \"Nancy Pelosi\"\n",
    "\n",
    "l=[]\n",
    "# Process the text\n",
    "for text in data['transformed_text']:\n",
    "    doc = nlp(text)\n",
    "    p=[]\n",
    "# Iterate over the entities\n",
    "    for ent in doc.ents:\n",
    "        p.append(ent.label_)\n",
    "        #print(ent.text, ent.label_)\n",
    "    if 'PERSON' in p:\n",
    "        l.append(1)\n",
    "    else: l.append(0)\n",
    "        \n",
    "data['person'] = l"
   ]
  },
  {
   "cell_type": "code",
   "execution_count": null,
   "metadata": {},
   "outputs": [],
   "source": [
    "data[\"day_of_week\"] = data[\"day_of_week\"].astype('category')\n",
    "data[\"time_of_day\"] = data[\"time_of_day\"].astype('category')\n",
    "data[\"day_of_week_encoded\"] = data[\"day_of_week\"].cat.codes\n",
    "data[\"time_of_day_encoded\"] = data[\"time_of_day\"].cat.codes\n",
    "data[\"time_diff\"] = (data[\"created_at\"][1] - data[\"created_at\"]).dt.days\n",
    "data.head()"
   ]
  },
  {
   "cell_type": "code",
   "execution_count": null,
   "metadata": {},
   "outputs": [],
   "source": [
    "drop_coloumns = ['hashtags', 'created_at', 'id_str', 'source', 'transformed_text', 'day_of_week', 'time_of_day']\n",
    "selected_coloumns = data.drop(drop_coloumns, axis=1)\n",
    "selected_coloumns.head()"
   ]
  },
  {
   "cell_type": "code",
   "execution_count": null,
   "metadata": {},
   "outputs": [],
   "source": [
    "y = selected_coloumns.loc[:, [\"retweet_count\"]]\n",
    "X = selected_coloumns.drop([\"retweet_count\"], axis = 1)"
   ]
  },
  {
   "cell_type": "code",
   "execution_count": null,
   "metadata": {},
   "outputs": [],
   "source": [
    "X_train, X_test, y_train, y_test = train_test_split(X, y, test_size=0.2)"
   ]
  },
  {
   "cell_type": "code",
   "execution_count": null,
   "metadata": {},
   "outputs": [],
   "source": [
    "X_train = X_train.values\n",
    "X_test = X_test.values\n",
    "\n",
    "'''\n",
    "scaler = preprocessing.StandardScaler().fit(X_train)\n",
    "X_train = scaler.transform(X_train)\n",
    "X_test = scaler.transform(X_test)\n",
    "'''"
   ]
  },
  {
   "cell_type": "code",
   "execution_count": null,
   "metadata": {},
   "outputs": [],
   "source": [
    "estimator = LinearRegression()\n",
    "time_diff = X_train[:, -1].reshape(-1, 1)\n",
    "baseline_scores = cross_val_score(estimator, time_diff, \\\n",
    "                         y_train[\"retweet_count\"], cv=20, scoring='neg_mean_squared_error')\n",
    "\n",
    "baseline_score = -np.mean(baseline_scores)\n",
    "\n",
    "print('Mean squared Error:', round(np.mean(baseline_score), 2))"
   ]
  },
  {
   "cell_type": "code",
   "execution_count": null,
   "metadata": {},
   "outputs": [],
   "source": [
    "estimator = LinearRegression()\n",
    "baseline_scores_abs = cross_val_score(estimator, time_diff, y_train[\"retweet_count\"], cv=20, scoring='neg_mean_absolute_error')\n",
    "baseline_score_abs = -np.mean(baseline_scores_abs)\n",
    "\n",
    "print('Mean absolute Error:', round(np.mean(baseline_score_abs), 2))"
   ]
  },
  {
   "cell_type": "code",
   "execution_count": null,
   "metadata": {},
   "outputs": [],
   "source": [
    "def validation_curve_function(estimator, X_train, y_train, parameter, param_range, cv, scoring):\n",
    "    train_scores, test_scores = validation_curve(estimator, X_train, y_train, parameter, param_range, cv=cv, scoring = scoring)\n",
    "\n",
    "    train_scores_mean = np.mean(train_scores, axis=1)\n",
    "    train_scores_std = np.std(train_scores, axis=1)\n",
    "    test_scores_mean = np.mean(test_scores, axis=1)\n",
    "    test_scores_std = np.std(test_scores, axis=1)\n",
    "\n",
    "    plt.title(\"Validation Curve with Ridge Regression\")\n",
    "    plt.xlabel(parameter)\n",
    "    plt.ylabel(\"Metric\")\n",
    "\n",
    "    lw = 2\n",
    "    plt.semilogx(param_range, train_scores_mean, label=\"Training score\",\n",
    "                 color=\"darkorange\", lw=lw)\n",
    "    plt.fill_between(param_range, train_scores_mean - train_scores_std,\n",
    "                     train_scores_mean + train_scores_std, alpha=0.2,\n",
    "                     color=\"darkorange\", lw=lw)\n",
    "    plt.semilogx(param_range, test_scores_mean, label=\"Cross-validation score\",\n",
    "                 color=\"navy\", lw=lw)\n",
    "    plt.fill_between(param_range, test_scores_mean - test_scores_std,\n",
    "                     test_scores_mean + test_scores_std, alpha=0.2,\n",
    "                     color=\"navy\", lw=lw)\n",
    "\n",
    "    errors_baseline_plot = np.ones(param_range.shape) * baseline_score_abs\n",
    "    plt.plot(param_range, errors_baseline_plot, label = \"Baseline\")\n",
    "\n",
    "    plt.legend(loc=\"best\")\n",
    "    plt.show()\n",
    "\n",
    "def plot_learning_curve(estimator, title, X, y, scoring, baseline_scr, axes=None, ylim=None, cv=None,\n",
    "                        n_jobs=None, train_sizes=np.linspace(.1, 1.0, 5)):\n",
    "    \"\"\"\n",
    "    Generate 3 plots: the test and training learning curve, the training\n",
    "    samples vs fit times curve, the fit times vs score curve.\n",
    "\n",
    "    Parameters\n",
    "    ----------\n",
    "    estimator : object type that implements the \"fit\" and \"predict\" methods\n",
    "        An object of that type which is cloned for each validation.\n",
    "\n",
    "    title : string\n",
    "        Title for the chart.\n",
    "\n",
    "    X : array-like, shape (n_samples, n_features)\n",
    "        Training vector, where n_samples is the number of samples and\n",
    "        n_features is the number of features.\n",
    "\n",
    "    y : array-like, shape (n_samples) or (n_samples, n_features), optional\n",
    "        Target relative to X for classification or regression;\n",
    "        None for unsupervised learning.\n",
    "\n",
    "    axes : array of 3 axes, optional (default=None)\n",
    "        Axes to use for plotting the curves.\n",
    "\n",
    "    ylim : tuple, shape (ymin, ymax), optional\n",
    "        Defines minimum and maximum yvalues plotted.\n",
    "\n",
    "    cv : int, cross-validation generator or an iterable, optional\n",
    "        Determines the cross-validation splitting strategy.\n",
    "        Possible inputs for cv are:\n",
    "          - None, to use the default 5-fold cross-validation,\n",
    "          - integer, to specify the number of folds.\n",
    "          - :term:`CV splitter`,\n",
    "          - An iterable yielding (train, test) splits as arrays of indices.\n",
    "\n",
    "        For integer/None inputs, if ``y`` is binary or multiclass,\n",
    "        :class:`StratifiedKFold` used. If the estimator is not a classifier\n",
    "        or if ``y`` is neither binary nor multiclass, :class:`KFold` is used.\n",
    "\n",
    "        Refer :ref:`User Guide <cross_validation>` for the various\n",
    "        cross-validators that can be used here.\n",
    "\n",
    "    n_jobs : int or None, optional (default=None)\n",
    "        Number of jobs to run in parallel.\n",
    "        ``None`` means 1 unless in a :obj:`joblib.parallel_backend` context.\n",
    "        ``-1`` means using all processors. See :term:`Glossary <n_jobs>`\n",
    "        for more details.\n",
    "\n",
    "    train_sizes : array-like, shape (n_ticks,), dtype float or int\n",
    "        Relative or absolute numbers of training examples that will be used to\n",
    "        generate the learning curve. If the dtype is float, it is regarded as a\n",
    "        fraction of the maximum size of the training set (that is determined\n",
    "        by the selected validation method), i.e. it has to be within (0, 1].\n",
    "        Otherwise it is interpreted as absolute sizes of the training sets.\n",
    "        Note that for classification the number of samples usually have to\n",
    "        be big enough to contain at least one sample from each class.\n",
    "        (default: np.linspace(0.1, 1.0, 5))\n",
    "    \"\"\"\n",
    "    if axes is None:\n",
    "        _, axes = plt.subplots(1, 3, figsize=(20, 5))\n",
    "\n",
    "    axes[0].set_title(title)\n",
    "    if ylim is not None:\n",
    "        axes[0].set_ylim(*ylim)\n",
    "    axes[0].set_xlabel(\"Training examples\")\n",
    "    axes[0].set_ylabel(\"Score\")\n",
    "\n",
    "    train_sizes, train_scores, test_scores, fit_times, _ = \\\n",
    "        learning_curve(estimator, X, y, cv=cv, n_jobs=n_jobs,\n",
    "                       train_sizes=train_sizes, scoring = scoring,\n",
    "                       return_times=True)\n",
    "    \n",
    "    train_scores_mean = np.mean(train_scores, axis=1)\n",
    "    train_scores_std = np.std(train_scores, axis=1)\n",
    "    test_scores_mean = np.mean(test_scores, axis=1)\n",
    "    test_scores_std = np.std(test_scores, axis=1)\n",
    "    fit_times_mean = np.mean(fit_times, axis=1)\n",
    "    fit_times_std = np.std(fit_times, axis=1)\n",
    "    \n",
    "\n",
    "    # Plot learning curve\n",
    "    axes[0].grid()\n",
    "    errors_baseline_plot = np.ones(train_sizes.shape) * baseline_scr\n",
    "    axes[0].plot(train_sizes, errors_baseline_plot, label = \"Baseline\")\n",
    "    \n",
    "    axes[0].fill_between(train_sizes, train_scores_mean - train_scores_std,\n",
    "                         train_scores_mean + train_scores_std, alpha=0.1,\n",
    "                         color=\"r\")\n",
    "    axes[0].fill_between(train_sizes, test_scores_mean - test_scores_std,\n",
    "                         test_scores_mean + test_scores_std, alpha=0.1,\n",
    "                         color=\"g\")\n",
    "    axes[0].plot(train_sizes, train_scores_mean, 'o-', color=\"r\",\n",
    "                 label=\"Training score\")\n",
    "    axes[0].plot(train_sizes, test_scores_mean, 'o-', color=\"g\",\n",
    "                 label=\"Cross-validation score\")\n",
    "    axes[0].legend(loc=\"best\")\n",
    "\n",
    "    # Plot n_samples vs fit_times\n",
    "    axes[1].grid()\n",
    "    axes[1].plot(train_sizes, fit_times_mean, 'o-')\n",
    "    axes[1].fill_between(train_sizes, fit_times_mean - fit_times_std,\n",
    "                         fit_times_mean + fit_times_std, alpha=0.1)\n",
    "    axes[1].set_xlabel(\"Training examples\")\n",
    "    axes[1].set_ylabel(\"fit_times\")\n",
    "    axes[1].set_title(\"Scalability of the model\")\n",
    "\n",
    "    # Plot fit_time vs score\n",
    "    axes[2].grid()\n",
    "    axes[2].plot(fit_times_mean, test_scores_mean, 'o-')\n",
    "    axes[2].fill_between(fit_times_mean, test_scores_mean - test_scores_std,\n",
    "                         test_scores_mean + test_scores_std, alpha=0.1)\n",
    "    axes[2].set_xlabel(\"fit_times\")\n",
    "    axes[2].set_ylabel(\"Score\")\n",
    "    axes[2].set_title(\"Performance of the model\")\n",
    "\n",
    "    return plt"
   ]
  },
  {
   "cell_type": "code",
   "execution_count": null,
   "metadata": {},
   "outputs": [],
   "source": [
    "estimator = Ridge()\n",
    "param_range = np.logspace(-3, 3, 6)\n",
    "scoring = make_scorer(mean_absolute_error)\n",
    "parameter = \"alpha\"\n",
    "cv = 3\n",
    "validation_curve_function(estimator, X_train, y_train, parameter, param_range, cv, scoring)"
   ]
  },
  {
   "cell_type": "code",
   "execution_count": null,
   "metadata": {},
   "outputs": [],
   "source": [
    "title = \"Learning Curves (Ridge Regression)\"\n",
    "\n",
    "cv = 5\n",
    "scoring = make_scorer(mean_absolute_error)\n",
    "\n",
    "estimator = Ridge(alpha = 1)\n",
    "plot_learning_curve(estimator, title, X_train, y_train, scoring, baseline_score_abs, cv=cv, n_jobs=4)\n",
    "\n",
    "plt.show()"
   ]
  },
  {
   "cell_type": "code",
   "execution_count": null,
   "metadata": {},
   "outputs": [],
   "source": [
    "title = \"Learning Curves (Random Forest)\"\n",
    "\n",
    "cv = 3\n",
    "scoring = make_scorer(mean_absolute_error)\n",
    "estimator = RandomForestRegressor()\n",
    "plot_learning_curve(estimator, title, X_train, y_train, scoring, baseline_score_abs, cv=cv, n_jobs=4)\n",
    "\n",
    "plt.show()"
   ]
  },
  {
   "cell_type": "code",
   "execution_count": null,
   "metadata": {},
   "outputs": [],
   "source": [
    "# Number of trees in random forest\n",
    "n_estimators = [int(x) for x in np.linspace(start = 200, stop = 2000, num = 10)]\n",
    "# Number of features to consider at every split\n",
    "max_features = ['auto', 'sqrt']\n",
    "# Maximum number of levels in tree\n",
    "max_depth = [int(x) for x in np.linspace(10, 110, num = 11)]\n",
    "max_depth.append(None)\n",
    "# Minimum number of samples required to split a node\n",
    "min_samples_split = [2, 5, 10]\n",
    "# Minimum number of samples required at each leaf node\n",
    "min_samples_leaf = [1, 2, 4]\n",
    "# Method of selecting samples for training each tree\n",
    "bootstrap = [True, False]\n",
    "# Create the random grid\n",
    "random_grid = {'n_estimators': n_estimators,\n",
    "               'max_features': max_features,\n",
    "               'max_depth': max_depth,\n",
    "               'min_samples_split': min_samples_split,\n",
    "               'min_samples_leaf': min_samples_leaf,\n",
    "               'bootstrap': bootstrap}"
   ]
  },
  {
   "cell_type": "code",
   "execution_count": null,
   "metadata": {},
   "outputs": [],
   "source": [
    "''' \n",
    "rf = RandomForestRegressor()\n",
    "\n",
    "\n",
    "rf_random = RandomizedSearchCV(estimator = rf, param_distributions = random_grid, n_iter = 2, cv = 3, verbose=2, n_jobs = -1)\n",
    "# Fit the random search model\n",
    "rf_random.fit(X_train, y_train)\n",
    "print(rf_random.best_params_)\n",
    "\n",
    "best_random = rf_random.best_estimator_\n",
    "\n",
    "\n",
    "predictions = best_random.predict(X_test)\n",
    "errors =  mean_squared_error(predictions, y_test)\n",
    "print('Mean Absolute Error:', round(np.mean(errors), 2))\n",
    "'''"
   ]
  },
  {
   "cell_type": "markdown",
   "metadata": {},
   "source": [
    "## Feature selection"
   ]
  },
  {
   "cell_type": "markdown",
   "metadata": {},
   "source": [
    "## Data Transformation"
   ]
  },
  {
   "cell_type": "markdown",
   "metadata": {},
   "source": [
    "## Model building"
   ]
  },
  {
   "cell_type": "markdown",
   "metadata": {},
   "source": [
    "### Hyperparameter"
   ]
  },
  {
   "cell_type": "markdown",
   "metadata": {},
   "source": [
    "## Feature importance"
   ]
  },
  {
   "cell_type": "markdown",
   "metadata": {},
   "source": [
    "## Results"
   ]
  }
 ],
 "metadata": {
  "kernelspec": {
   "display_name": "Python 3",
   "language": "python",
   "name": "python3"
  },
  "language_info": {
   "codemirror_mode": {
    "name": "ipython",
    "version": 3
   },
   "file_extension": ".py",
   "mimetype": "text/x-python",
   "name": "python",
   "nbconvert_exporter": "python",
   "pygments_lexer": "ipython3",
   "version": "3.7.6"
  }
 },
 "nbformat": 4,
 "nbformat_minor": 4
}
